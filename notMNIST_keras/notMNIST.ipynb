{
 "cells": [
  {
   "cell_type": "markdown",
   "metadata": {},
   "source": [
    "## Задача:\n",
    "    На основе данных notMNIST_small построить модель, определяющую букву на картинке \n",
    "    \n",
    "### Цель:\n",
    "    - Построить модель, определяющую букву на изображении 28х28.\n",
    "    - Начать изучать keras, tensorflow\n",
    "    \n",
    "### Данные:\n",
    "    - notMNIST_small - 10 директорий с изображениями букв.\n",
    "    \n",
    "### План выполнения:\n",
    "     1. Подготовка данных\n",
    "     2. Построение и обучение модели нейронной сети\n",
    "     3. Вывод"
   ]
  },
  {
   "cell_type": "code",
   "execution_count": 1,
   "metadata": {
    "scrolled": true
   },
   "outputs": [
    {
     "name": "stderr",
     "output_type": "stream",
     "text": [
      "Using TensorFlow backend.\n"
     ]
    }
   ],
   "source": [
    "import numpy as np\n",
    "import os\n",
    "import sys\n",
    "import pickle\n",
    "from collections import defaultdict\n",
    "import matplotlib.pyplot as plt\n",
    "from keras.models import Model, Sequential\n",
    "from keras.layers import Input, Conv2D, SeparableConv2D, MaxPool2D, Dropout, Dense, Flatten, Activation\n",
    "from keras.callbacks import EarlyStopping, ReduceLROnPlateau\n",
    "\n",
    "from keras.utils import np_utils\n",
    "from keras.optimizers import SGD, Adadelta, Adam, rmsprop\n",
    "\n",
    "from hyperas import optim\n",
    "from hyperas.distributions import choice\n",
    "from hyperopt import fmin, tpe, hp, STATUS_OK, Trials\n",
    "from hyperopt.pyll import scope \n",
    "\n",
    "from sklearn.metrics import classification_report, roc_auc_score, accuracy_score\n",
    "from sklearn.model_selection import train_test_split\n",
    "\n",
    "%matplotlib inline"
   ]
  },
  {
   "cell_type": "code",
   "execution_count": 2,
   "metadata": {},
   "outputs": [
    {
     "name": "stdout",
     "output_type": "stream",
     "text": [
      "['A', 'B', 'C', 'D', 'E', 'F', 'G', 'H', 'I', 'J']\n"
     ]
    }
   ],
   "source": [
    "# константы\n",
    "DIR_ROOT = './notMNIST_small'\n",
    "DIRS = os.listdir(DIR_ROOT)\n",
    "print(DIRS)\n",
    "# функция для конвертирования float to int из интервала hp.uniform hyperopt\n",
    "@scope.define\n",
    "def to_int(x):\n",
    "    return int(x)"
   ]
  },
  {
   "cell_type": "markdown",
   "metadata": {},
   "source": [
    "#### 1. Подготовка данных"
   ]
  },
  {
   "cell_type": "code",
   "execution_count": 3,
   "metadata": {},
   "outputs": [
    {
     "name": "stdout",
     "output_type": "stream",
     "text": [
      "A RGVtb2NyYXRpY2FCb2xkT2xkc3R5bGUgQm9sZC50dGY=.png read past end of file\n",
      "F Q3Jvc3NvdmVyIEJvbGRPYmxpcXVlLnR0Zg==.png read past end of file\n"
     ]
    }
   ],
   "source": [
    "# считаем данные картинок и составим массивы:\n",
    "#    - признаков 28х28 (размер изображения)\n",
    "#    - таргет переменная\n",
    "X = np.empty((0,28,28), float)\n",
    "y = np.empty((0,1), int)\n",
    "\n",
    "err = {}\n",
    "\n",
    "dict_target = {i:j for i,j in enumerate(DIRS)}\n",
    "\n",
    "for idl, dr in enumerate(DIRS):\n",
    "    \n",
    "    files = os.listdir(os.path.join(DIR_ROOT, dr))\n",
    "    for i, file in enumerate(files):\n",
    "        try:\n",
    "            im = plt.imread(os.path.join(DIR_ROOT, dr, file))\n",
    "            X = np.concatenate( ( X, [im]), axis=0)\n",
    "            y = np.concatenate( ( y, [[idl]]), axis=0)\n",
    "        except Exception as ex:\n",
    "            print( dr, file, ex)\n",
    "            err[file] = dr\n",
    "\n"
   ]
  },
  {
   "cell_type": "code",
   "execution_count": 4,
   "metadata": {},
   "outputs": [],
   "source": [
    "# разделим на трейн и тест\n",
    "X_train, X_test, y_train, y_test = train_test_split(X, y, stratify=y,test_size=0.2,random_state=41)"
   ]
  },
  {
   "cell_type": "code",
   "execution_count": 5,
   "metadata": {},
   "outputs": [],
   "source": [
    "# сохраним, чтобы потом не повторять все вышесделанные операции\n",
    "with open('data_small.pickle', 'wb') as f:\n",
    "    pickle.dump([dict_target, X_train, X_test, y_train, y_test], f)\n"
   ]
  },
  {
   "cell_type": "code",
   "execution_count": 6,
   "metadata": {},
   "outputs": [],
   "source": [
    "with open('data_small.pickle', 'rb') as f:\n",
    "    [dict_target, X_train, X_test, y_train, y_test] = pickle.load(f)"
   ]
  },
  {
   "cell_type": "code",
   "execution_count": 7,
   "metadata": {},
   "outputs": [],
   "source": [
    "# преобразуем двумерный массив признаков в одномерный\n",
    "X_train = X_train.reshape(X_train.shape[0], 784)\n",
    "X_test = X_test.reshape(X_test.shape[0], 784)\n",
    "# приведем все значения признаков к интервалу [0,1], \n",
    "# т.к. tensorflow принимает принимает значения только в этом интервале\n",
    "X_train /= 255\n",
    "X_test /= 255\n",
    "# разделим на трейн и валидационные выборки, для обучения\n",
    "X_train, X_val, y_train, y_val = train_test_split(X_train,y_train,stratify=y_train,test_size=0.25,random_state=41)\n",
    "# преобразуем векторы классов в бинарные матрицы классов\n",
    "Y_train = np_utils.to_categorical(y_train, len(dict_target))\n",
    "Y_test = np_utils.to_categorical(y_test, len(dict_target))\n",
    "Y_val = np_utils.to_categorical(y_val, len(dict_target))"
   ]
  },
  {
   "cell_type": "markdown",
   "metadata": {},
   "source": [
    "#### 2.  Построение и обучение модели нейронной сети"
   ]
  },
  {
   "cell_type": "code",
   "execution_count": 8,
   "metadata": {},
   "outputs": [],
   "source": [
    "# создадим переменную с пераметрами для hyperopt\n",
    "params = {  'choice': hp.choice('num_layers',\n",
    "                    [ {'layers':'two', },\n",
    "                    {'layers':'three',\n",
    "                    'units3':  scope.to_int(hp.uniform('units3', 64,1024)), \n",
    "                    'dropout3': hp.uniform('dropout3', .25,.75)}\n",
    "                    ]),\n",
    "\n",
    "            'units1':  scope.to_int(hp.uniform('units1', 64,1024)),\n",
    "            'units2':  scope.to_int(hp.uniform('units2', 64,1024)),\n",
    "\n",
    "            'dropout1': hp.uniform('dropout1', .25,.75),\n",
    "            'dropout2': hp.uniform('dropout2',  .25,.75),\n",
    "\n",
    "            'batch_size' :  scope.to_int(hp.uniform('batch_size', 32,256)),\n",
    "\n",
    "            'nb_epochs' :  100,\n",
    "            'optimizer': hp.choice('optimizer',['adadelta','adam','rmsprop']),\n",
    "            'activation': 'relu'\n",
    "        }\n",
    "\n"
   ]
  },
  {
   "cell_type": "code",
   "execution_count": 9,
   "metadata": {},
   "outputs": [],
   "source": [
    "# функция нейронной сети для hyperopt\n",
    "def func_fit(params):  \n",
    "    print ('Params: ', params)\n",
    "    model = Sequential()\n",
    "    model.add(Dense(output_dim=params['units1'], input_dim = 784)) \n",
    "    model.add(Activation(params['activation']))\n",
    "    model.add(Dropout(params['dropout1']))\n",
    "\n",
    "    model.add(Dense(output_dim=params['units2'], init = \"glorot_uniform\")) \n",
    "    model.add(Activation(params['activation']))\n",
    "    model.add(Dropout(params['dropout2']))\n",
    "\n",
    "    if params['choice']['layers']== 'three':\n",
    "        model.add(Dense(output_dim=params['choice']['units3'], init = \"glorot_uniform\")) \n",
    "        model.add(Activation(params['activation']))\n",
    "        model.add(Dropout(params['choice']['dropout3']))    \n",
    "\n",
    "    model.add(Dense(10))\n",
    "    model.add(Activation('softmax'))\n",
    "    model.compile(loss='binary_crossentropy', optimizer=params['optimizer'],  metrics=['acc'])\n",
    "\n",
    "    model.fit(X_train, Y_train, nb_epoch=100, batch_size=params['batch_size'], verbose = 0)\n",
    "\n",
    "    pred_auc =model.predict_proba(X_val, batch_size =params['batch_size'], verbose = 0)\n",
    "    acc = roc_auc_score(Y_val, pred_auc)\n",
    "    score = model.evaluate(X_val, Y_val, verbose=0)\n",
    "    print('AUC:', acc)\n",
    "    print('Score: ', score)\n",
    "    return {'loss': -acc, 'status': STATUS_OK}\n",
    "\n"
   ]
  },
  {
   "cell_type": "code",
   "execution_count": 10,
   "metadata": {
    "scrolled": true
   },
   "outputs": [
    {
     "name": "stdout",
     "output_type": "stream",
     "text": [
      "Params:                                                                                                                \n",
      "{'activation': 'relu', 'batch_size': 170, 'choice': {'dropout3': 0.48003107432909753, 'layers': 'three', 'units3': 359}, 'dropout1': 0.2627876084802413, 'dropout2': 0.6626937610515793, 'nb_epochs': 100, 'optimizer': 'rmsprop', 'units1': 448, 'units2': 961}\n",
      "  0%|                                                                            | 0/100 [00:00<?, ?it/s, best loss: ?]"
     ]
    },
    {
     "name": "stderr",
     "output_type": "stream",
     "text": [
      "C:\\Users\\And\\.conda\\envs\\proba\\lib\\site-packages\\ipykernel_launcher.py:5: UserWarning: Update your `Dense` call to the Keras 2 API: `Dense(input_dim=784, units=448)`\n",
      "  \"\"\"\n",
      "\n"
     ]
    },
    {
     "name": "stdout",
     "output_type": "stream",
     "text": [
      "WARNING:tensorflow:From C:\\Users\\And\\.conda\\envs\\proba\\lib\\site-packages\\tensorflow\\python\\framework\\op_def_library.py:263: colocate_with (from tensorflow.python.framework.ops) is deprecated and will be removed in a future version.\n",
      "Instructions for updating:\n",
      "Colocations handled automatically by placer.\n",
      "WARNING:tensorflow:From C:\\Users\\And\\.conda\\envs\\proba\\lib\\site-packages\\keras\\backend\\tensorflow_backend.py:3445: calling dropout (from tensorflow.python.ops.nn_ops) with keep_prob is deprecated and will be removed in a future version.\n",
      "Instructions for updating:\n",
      "Please use `rate` instead of `keep_prob`. Rate should be set to `rate = 1 - keep_prob`.\n"
     ]
    },
    {
     "name": "stderr",
     "output_type": "stream",
     "text": [
      "C:\\Users\\And\\.conda\\envs\\proba\\lib\\site-packages\\ipykernel_launcher.py:9: UserWarning: Update your `Dense` call to the Keras 2 API: `Dense(units=961, kernel_initializer=\"glorot_uniform\")`\n",
      "  if __name__ == '__main__':\n",
      "\n",
      "C:\\Users\\And\\.conda\\envs\\proba\\lib\\site-packages\\ipykernel_launcher.py:14: UserWarning: Update your `Dense` call to the Keras 2 API: `Dense(units=359, kernel_initializer=\"glorot_uniform\")`\n",
      "  \n",
      "\n",
      "C:\\Users\\And\\.conda\\envs\\proba\\lib\\site-packages\\ipykernel_launcher.py:22: UserWarning: The `nb_epoch` argument in `fit` has been renamed `epochs`.\n",
      "\n"
     ]
    },
    {
     "name": "stdout",
     "output_type": "stream",
     "text": [
      "WARNING:tensorflow:From C:\\Users\\And\\.conda\\envs\\proba\\lib\\site-packages\\tensorflow\\python\\ops\\math_ops.py:3066: to_int32 (from tensorflow.python.ops.math_ops) is deprecated and will be removed in a future version.\n",
      "Instructions for updating:\n",
      "Use tf.cast instead.\n",
      "AUC:                                                                                                                   \n",
      "0.9939043788591384                                                                                                     \n",
      "Score:                                                                                                                 \n",
      "[0.08454585944207368, 0.985260352528143]                                                                               \n",
      "Params:                                                                                                                \n",
      "{'activation': 'relu', 'batch_size': 227, 'choice': {'layers': 'two'}, 'dropout1': 0.49828797974883604, 'dropout2': 0.6085910312511453, 'nb_epochs': 100, 'optimizer': 'adam', 'units1': 931, 'units2': 111}\n",
      "  1%|▍                                               | 1/100 [01:22<2:16:35, 82.78s/it, best loss: -0.9939043788591384]"
     ]
    },
    {
     "name": "stderr",
     "output_type": "stream",
     "text": [
      "C:\\Users\\And\\.conda\\envs\\proba\\lib\\site-packages\\ipykernel_launcher.py:5: UserWarning: Update your `Dense` call to the Keras 2 API: `Dense(input_dim=784, units=931)`\n",
      "  \"\"\"\n",
      "\n",
      "C:\\Users\\And\\.conda\\envs\\proba\\lib\\site-packages\\ipykernel_launcher.py:9: UserWarning: Update your `Dense` call to the Keras 2 API: `Dense(units=111, kernel_initializer=\"glorot_uniform\")`\n",
      "  if __name__ == '__main__':\n",
      "\n",
      "C:\\Users\\And\\.conda\\envs\\proba\\lib\\site-packages\\ipykernel_launcher.py:22: UserWarning: The `nb_epoch` argument in `fit` has been renamed `epochs`.\n",
      "\n"
     ]
    },
    {
     "name": "stdout",
     "output_type": "stream",
     "text": [
      "AUC:                                                                                                                   \n",
      "0.9954112954606769                                                                                                     \n",
      "Score:                                                                                                                 \n",
      "[0.04555696416490815, 0.9863284412786384]                                                                              \n",
      "Params:                                                                                                                \n",
      "{'activation': 'relu', 'batch_size': 147, 'choice': {'dropout3': 0.3943124008418352, 'layers': 'three', 'units3': 803}, 'dropout1': 0.5399752922868494, 'dropout2': 0.6668051608507091, 'nb_epochs': 100, 'optimizer': 'adadelta', 'units1': 864, 'units2': 399}\n",
      "  2%|▉                                               | 2/100 [02:23<2:04:16, 76.09s/it, best loss: -0.9954112954606769]"
     ]
    },
    {
     "name": "stderr",
     "output_type": "stream",
     "text": [
      "C:\\Users\\And\\.conda\\envs\\proba\\lib\\site-packages\\ipykernel_launcher.py:5: UserWarning: Update your `Dense` call to the Keras 2 API: `Dense(input_dim=784, units=864)`\n",
      "  \"\"\"\n",
      "\n",
      "C:\\Users\\And\\.conda\\envs\\proba\\lib\\site-packages\\ipykernel_launcher.py:9: UserWarning: Update your `Dense` call to the Keras 2 API: `Dense(units=399, kernel_initializer=\"glorot_uniform\")`\n",
      "  if __name__ == '__main__':\n",
      "\n",
      "C:\\Users\\And\\.conda\\envs\\proba\\lib\\site-packages\\ipykernel_launcher.py:14: UserWarning: Update your `Dense` call to the Keras 2 API: `Dense(units=803, kernel_initializer=\"glorot_uniform\")`\n",
      "  \n",
      "\n",
      "C:\\Users\\And\\.conda\\envs\\proba\\lib\\site-packages\\ipykernel_launcher.py:22: UserWarning: The `nb_epoch` argument in `fit` has been renamed `epochs`.\n",
      "\n"
     ]
    },
    {
     "name": "stdout",
     "output_type": "stream",
     "text": [
      "AUC:                                                                                                                   \n",
      "0.9876374687963837                                                                                                     \n",
      "Score:                                                                                                                 \n",
      "[0.06661928215316523, 0.9794926570795566]                                                                              \n",
      "Params:                                                                                                                \n",
      "{'activation': 'relu', 'batch_size': 243, 'choice': {'layers': 'two'}, 'dropout1': 0.29591155457182977, 'dropout2': 0.2851233031531735, 'nb_epochs': 100, 'optimizer': 'rmsprop', 'units1': 999, 'units2': 314}\n",
      "  3%|█▍                                              | 3/100 [03:26<1:56:53, 72.31s/it, best loss: -0.9954112954606769]"
     ]
    },
    {
     "name": "stderr",
     "output_type": "stream",
     "text": [
      "C:\\Users\\And\\.conda\\envs\\proba\\lib\\site-packages\\ipykernel_launcher.py:5: UserWarning: Update your `Dense` call to the Keras 2 API: `Dense(input_dim=784, units=999)`\n",
      "  \"\"\"\n",
      "\n",
      "C:\\Users\\And\\.conda\\envs\\proba\\lib\\site-packages\\ipykernel_launcher.py:9: UserWarning: Update your `Dense` call to the Keras 2 API: `Dense(units=314, kernel_initializer=\"glorot_uniform\")`\n",
      "  if __name__ == '__main__':\n",
      "\n",
      "C:\\Users\\And\\.conda\\envs\\proba\\lib\\site-packages\\ipykernel_launcher.py:22: UserWarning: The `nb_epoch` argument in `fit` has been renamed `epochs`.\n",
      "\n"
     ]
    },
    {
     "name": "stdout",
     "output_type": "stream",
     "text": [
      "AUC:                                                                                                                   \n",
      "0.9950675559123713                                                                                                     \n",
      "Score:                                                                                                                 \n",
      "[0.06423981231776164, 0.985287050825254]                                                                               \n",
      "Params:                                                                                                                \n",
      "{'activation': 'relu', 'batch_size': 193, 'choice': {'layers': 'two'}, 'dropout1': 0.25826199218542, 'dropout2': 0.3262713482130613, 'nb_epochs': 100, 'optimizer': 'adam', 'units1': 405, 'units2': 543}\n",
      "  4%|█▉                                              | 4/100 [03:52<1:33:07, 58.20s/it, best loss: -0.9954112954606769]"
     ]
    },
    {
     "name": "stderr",
     "output_type": "stream",
     "text": [
      "C:\\Users\\And\\.conda\\envs\\proba\\lib\\site-packages\\ipykernel_launcher.py:5: UserWarning: Update your `Dense` call to the Keras 2 API: `Dense(input_dim=784, units=405)`\n",
      "  \"\"\"\n",
      "\n",
      "C:\\Users\\And\\.conda\\envs\\proba\\lib\\site-packages\\ipykernel_launcher.py:9: UserWarning: Update your `Dense` call to the Keras 2 API: `Dense(units=543, kernel_initializer=\"glorot_uniform\")`\n",
      "  if __name__ == '__main__':\n",
      "\n",
      "C:\\Users\\And\\.conda\\envs\\proba\\lib\\site-packages\\ipykernel_launcher.py:22: UserWarning: The `nb_epoch` argument in `fit` has been renamed `epochs`.\n",
      "\n"
     ]
    },
    {
     "name": "stdout",
     "output_type": "stream",
     "text": [
      "AUC:                                                                                                                   \n",
      "0.9949066319838273                                                                                                     \n",
      "Score:                                                                                                                 \n",
      "[0.058259001913034694, 0.9852870513345594]                                                                             \n",
      "Params:                                                                                                                \n",
      "{'activation': 'relu', 'batch_size': 80, 'choice': {'layers': 'two'}, 'dropout1': 0.39375069140081714, 'dropout2': 0.5050720559824833, 'nb_epochs': 100, 'optimizer': 'rmsprop', 'units1': 711, 'units2': 591}\n",
      "  5%|██▍                                             | 5/100 [04:20<1:17:55, 49.21s/it, best loss: -0.9954112954606769]"
     ]
    },
    {
     "name": "stderr",
     "output_type": "stream",
     "text": [
      "C:\\Users\\And\\.conda\\envs\\proba\\lib\\site-packages\\ipykernel_launcher.py:5: UserWarning: Update your `Dense` call to the Keras 2 API: `Dense(input_dim=784, units=711)`\n",
      "  \"\"\"\n",
      "\n",
      "C:\\Users\\And\\.conda\\envs\\proba\\lib\\site-packages\\ipykernel_launcher.py:9: UserWarning: Update your `Dense` call to the Keras 2 API: `Dense(units=591, kernel_initializer=\"glorot_uniform\")`\n",
      "  if __name__ == '__main__':\n",
      "\n",
      "C:\\Users\\And\\.conda\\envs\\proba\\lib\\site-packages\\ipykernel_launcher.py:22: UserWarning: The `nb_epoch` argument in `fit` has been renamed `epochs`.\n",
      "\n"
     ]
    },
    {
     "name": "stdout",
     "output_type": "stream",
     "text": [
      "AUC:                                                                                                                   \n",
      "0.9949074403147069                                                                                                     \n",
      "Score:                                                                                                                 \n",
      "[0.07952298462532709, 0.9851802418483434]                                                                              \n",
      "Params:                                                                                                                \n",
      "{'activation': 'relu', 'batch_size': 195, 'choice': {'dropout3': 0.44100387023554904, 'layers': 'three', 'units3': 146}, 'dropout1': 0.3025160328935454, 'dropout2': 0.34859251809472497, 'nb_epochs': 100, 'optimizer': 'rmsprop', 'units1': 785, 'units2': 446}\n",
      "  6%|██▉                                             | 6/100 [05:19<1:21:57, 52.31s/it, best loss: -0.9954112954606769]"
     ]
    },
    {
     "name": "stderr",
     "output_type": "stream",
     "text": [
      "C:\\Users\\And\\.conda\\envs\\proba\\lib\\site-packages\\ipykernel_launcher.py:5: UserWarning: Update your `Dense` call to the Keras 2 API: `Dense(input_dim=784, units=785)`\n",
      "  \"\"\"\n",
      "\n",
      "C:\\Users\\And\\.conda\\envs\\proba\\lib\\site-packages\\ipykernel_launcher.py:9: UserWarning: Update your `Dense` call to the Keras 2 API: `Dense(units=446, kernel_initializer=\"glorot_uniform\")`\n",
      "  if __name__ == '__main__':\n",
      "\n",
      "C:\\Users\\And\\.conda\\envs\\proba\\lib\\site-packages\\ipykernel_launcher.py:14: UserWarning: Update your `Dense` call to the Keras 2 API: `Dense(units=146, kernel_initializer=\"glorot_uniform\")`\n",
      "  \n",
      "\n",
      "C:\\Users\\And\\.conda\\envs\\proba\\lib\\site-packages\\ipykernel_launcher.py:22: UserWarning: The `nb_epoch` argument in `fit` has been renamed `epochs`.\n",
      "\n"
     ]
    },
    {
     "name": "stdout",
     "output_type": "stream",
     "text": [
      "AUC:                                                                                                                   \n",
      "0.9951523308644716                                                                                                     \n",
      "Score:                                                                                                                 \n",
      "[0.0806462533446058, 0.9854472635266619]                                                                               \n",
      "Params:                                                                                                                \n",
      "{'activation': 'relu', 'batch_size': 152, 'choice': {'dropout3': 0.7061233663688335, 'layers': 'three', 'units3': 167}, 'dropout1': 0.2547675310261149, 'dropout2': 0.6106634471385199, 'nb_epochs': 100, 'optimizer': 'adadelta', 'units1': 481, 'units2': 818}\n",
      "  7%|███▎                                            | 7/100 [05:52<1:12:04, 46.50s/it, best loss: -0.9954112954606769]"
     ]
    },
    {
     "name": "stderr",
     "output_type": "stream",
     "text": [
      "C:\\Users\\And\\.conda\\envs\\proba\\lib\\site-packages\\ipykernel_launcher.py:5: UserWarning: Update your `Dense` call to the Keras 2 API: `Dense(input_dim=784, units=481)`\n",
      "  \"\"\"\n",
      "\n",
      "C:\\Users\\And\\.conda\\envs\\proba\\lib\\site-packages\\ipykernel_launcher.py:9: UserWarning: Update your `Dense` call to the Keras 2 API: `Dense(units=818, kernel_initializer=\"glorot_uniform\")`\n",
      "  if __name__ == '__main__':\n",
      "\n",
      "C:\\Users\\And\\.conda\\envs\\proba\\lib\\site-packages\\ipykernel_launcher.py:14: UserWarning: Update your `Dense` call to the Keras 2 API: `Dense(units=167, kernel_initializer=\"glorot_uniform\")`\n",
      "  \n",
      "\n",
      "C:\\Users\\And\\.conda\\envs\\proba\\lib\\site-packages\\ipykernel_launcher.py:22: UserWarning: The `nb_epoch` argument in `fit` has been renamed `epochs`.\n",
      "\n"
     ]
    },
    {
     "name": "stdout",
     "output_type": "stream",
     "text": [
      "AUC:                                                                                                                   \n",
      "0.984559270306816                                                                                                      \n",
      "Score:                                                                                                                 \n",
      "[0.07389568223534662, 0.9769025402807585]                                                                              \n",
      "Params:                                                                                                                \n",
      "{'activation': 'relu', 'batch_size': 218, 'choice': {'layers': 'two'}, 'dropout1': 0.7239051030639707, 'dropout2': 0.47391569694598285, 'nb_epochs': 100, 'optimizer': 'adadelta', 'units1': 430, 'units2': 915}\n",
      "  8%|███▊                                            | 8/100 [06:31<1:07:41, 44.15s/it, best loss: -0.9954112954606769]"
     ]
    },
    {
     "name": "stderr",
     "output_type": "stream",
     "text": [
      "C:\\Users\\And\\.conda\\envs\\proba\\lib\\site-packages\\ipykernel_launcher.py:5: UserWarning: Update your `Dense` call to the Keras 2 API: `Dense(input_dim=784, units=430)`\n",
      "  \"\"\"\n",
      "\n",
      "C:\\Users\\And\\.conda\\envs\\proba\\lib\\site-packages\\ipykernel_launcher.py:9: UserWarning: Update your `Dense` call to the Keras 2 API: `Dense(units=915, kernel_initializer=\"glorot_uniform\")`\n",
      "  if __name__ == '__main__':\n",
      "\n",
      "C:\\Users\\And\\.conda\\envs\\proba\\lib\\site-packages\\ipykernel_launcher.py:22: UserWarning: The `nb_epoch` argument in `fit` has been renamed `epochs`.\n",
      "\n"
     ]
    },
    {
     "name": "stdout",
     "output_type": "stream",
     "text": [
      "AUC:                                                                                                                   \n",
      "0.9648644440317                                                                                                        \n",
      "Score:                                                                                                                 \n",
      "[0.12576238698013953, 0.9622429882095398]                                                                              \n",
      "Params:                                                                                                                \n",
      "{'activation': 'relu', 'batch_size': 195, 'choice': {'dropout3': 0.2530468601784389, 'layers': 'three', 'units3': 342}, 'dropout1': 0.6017111951222516, 'dropout2': 0.6197626734863176, 'nb_epochs': 100, 'optimizer': 'adam', 'units1': 316, 'units2': 121}\n",
      "  9%|████▎                                           | 9/100 [07:00<1:00:12, 39.70s/it, best loss: -0.9954112954606769]"
     ]
    },
    {
     "name": "stderr",
     "output_type": "stream",
     "text": [
      "C:\\Users\\And\\.conda\\envs\\proba\\lib\\site-packages\\ipykernel_launcher.py:5: UserWarning: Update your `Dense` call to the Keras 2 API: `Dense(input_dim=784, units=316)`\n",
      "  \"\"\"\n",
      "\n",
      "C:\\Users\\And\\.conda\\envs\\proba\\lib\\site-packages\\ipykernel_launcher.py:9: UserWarning: Update your `Dense` call to the Keras 2 API: `Dense(units=121, kernel_initializer=\"glorot_uniform\")`\n",
      "  if __name__ == '__main__':\n",
      "\n",
      "C:\\Users\\And\\.conda\\envs\\proba\\lib\\site-packages\\ipykernel_launcher.py:14: UserWarning: Update your `Dense` call to the Keras 2 API: `Dense(units=342, kernel_initializer=\"glorot_uniform\")`\n",
      "  \n",
      "\n",
      "C:\\Users\\And\\.conda\\envs\\proba\\lib\\site-packages\\ipykernel_launcher.py:22: UserWarning: The `nb_epoch` argument in `fit` has been renamed `epochs`.\n",
      "\n"
     ]
    },
    {
     "name": "stdout",
     "output_type": "stream",
     "text": [
      "AUC:                                                                                                                   \n",
      "0.9947953946644528                                                                                                     \n",
      "Score:                                                                                                                 \n",
      "[0.04940911138402494, 0.9854472630173565]                                                                              \n",
      "Params:                                                                                                                \n",
      "{'activation': 'relu', 'batch_size': 128, 'choice': {'layers': 'two'}, 'dropout1': 0.3303817800682449, 'dropout2': 0.5086580821791962, 'nb_epochs': 100, 'optimizer': 'rmsprop', 'units1': 1000, 'units2': 221}\n",
      " 10%|████▋                                          | 10/100 [10:09<2:06:44, 84.49s/it, best loss: -0.9954112954606769]"
     ]
    },
    {
     "name": "stderr",
     "output_type": "stream",
     "text": [
      "C:\\Users\\And\\.conda\\envs\\proba\\lib\\site-packages\\ipykernel_launcher.py:5: UserWarning: Update your `Dense` call to the Keras 2 API: `Dense(input_dim=784, units=1000)`\n",
      "  \"\"\"\n",
      "\n",
      "C:\\Users\\And\\.conda\\envs\\proba\\lib\\site-packages\\ipykernel_launcher.py:9: UserWarning: Update your `Dense` call to the Keras 2 API: `Dense(units=221, kernel_initializer=\"glorot_uniform\")`\n",
      "  if __name__ == '__main__':\n",
      "\n",
      "C:\\Users\\And\\.conda\\envs\\proba\\lib\\site-packages\\ipykernel_launcher.py:22: UserWarning: The `nb_epoch` argument in `fit` has been renamed `epochs`.\n",
      "\n"
     ]
    },
    {
     "name": "stdout",
     "output_type": "stream",
     "text": [
      "AUC:                                                                                                                   \n",
      "0.9952101050029178                                                                                                     \n",
      "Score:                                                                                                                 \n",
      "[0.07007121219835566, 0.9853137552340295]                                                                              \n",
      "Params:                                                                                                                \n",
      "{'activation': 'relu', 'batch_size': 218, 'choice': {'layers': 'two'}, 'dropout1': 0.5597151136939005, 'dropout2': 0.2668860278117163, 'nb_epochs': 100, 'optimizer': 'rmsprop', 'units1': 460, 'units2': 1002}\n",
      " 11%|█████▏                                         | 11/100 [10:54<1:47:44, 72.64s/it, best loss: -0.9954112954606769]"
     ]
    },
    {
     "name": "stderr",
     "output_type": "stream",
     "text": [
      "C:\\Users\\And\\.conda\\envs\\proba\\lib\\site-packages\\ipykernel_launcher.py:5: UserWarning: Update your `Dense` call to the Keras 2 API: `Dense(input_dim=784, units=460)`\n",
      "  \"\"\"\n",
      "\n",
      "C:\\Users\\And\\.conda\\envs\\proba\\lib\\site-packages\\ipykernel_launcher.py:9: UserWarning: Update your `Dense` call to the Keras 2 API: `Dense(units=1002, kernel_initializer=\"glorot_uniform\")`\n",
      "  if __name__ == '__main__':\n",
      "\n",
      "C:\\Users\\And\\.conda\\envs\\proba\\lib\\site-packages\\ipykernel_launcher.py:22: UserWarning: The `nb_epoch` argument in `fit` has been renamed `epochs`.\n",
      "\n"
     ]
    },
    {
     "name": "stdout",
     "output_type": "stream",
     "text": [
      "AUC:                                                                                                                   \n",
      "0.9951374272504291                                                                                                     \n",
      "Score:                                                                                                                 \n",
      "[0.05818516410432149, 0.9861682255213983]                                                                              \n",
      "Params:                                                                                                                \n",
      "{'activation': 'relu', 'batch_size': 41, 'choice': {'layers': 'two'}, 'dropout1': 0.31762677441561554, 'dropout2': 0.5021100731181898, 'nb_epochs': 100, 'optimizer': 'adadelta', 'units1': 530, 'units2': 759}\n",
      " 12%|█████▋                                         | 12/100 [11:22<1:26:43, 59.13s/it, best loss: -0.9954112954606769]"
     ]
    },
    {
     "name": "stderr",
     "output_type": "stream",
     "text": [
      "C:\\Users\\And\\.conda\\envs\\proba\\lib\\site-packages\\ipykernel_launcher.py:5: UserWarning: Update your `Dense` call to the Keras 2 API: `Dense(input_dim=784, units=530)`\n",
      "  \"\"\"\n",
      "\n",
      "C:\\Users\\And\\.conda\\envs\\proba\\lib\\site-packages\\ipykernel_launcher.py:9: UserWarning: Update your `Dense` call to the Keras 2 API: `Dense(units=759, kernel_initializer=\"glorot_uniform\")`\n",
      "  if __name__ == '__main__':\n",
      "\n",
      "C:\\Users\\And\\.conda\\envs\\proba\\lib\\site-packages\\ipykernel_launcher.py:22: UserWarning: The `nb_epoch` argument in `fit` has been renamed `epochs`.\n",
      "\n"
     ]
    },
    {
     "name": "stdout",
     "output_type": "stream",
     "text": [
      "AUC:                                                                                                                   \n",
      "0.9917800726193793                                                                                                     \n",
      "Score:                                                                                                                 \n",
      "[0.05235555890763554, 0.9830440592542987]                                                                              \n",
      "Params:                                                                                                                \n",
      "{'activation': 'relu', 'batch_size': 204, 'choice': {'layers': 'two'}, 'dropout1': 0.6856434153295179, 'dropout2': 0.6619706694737172, 'nb_epochs': 100, 'optimizer': 'rmsprop', 'units1': 521, 'units2': 285}\n",
      " 13%|█████▉                                        | 13/100 [16:11<3:05:51, 128.18s/it, best loss: -0.9954112954606769]"
     ]
    },
    {
     "name": "stderr",
     "output_type": "stream",
     "text": [
      "C:\\Users\\And\\.conda\\envs\\proba\\lib\\site-packages\\ipykernel_launcher.py:5: UserWarning: Update your `Dense` call to the Keras 2 API: `Dense(input_dim=784, units=521)`\n",
      "  \"\"\"\n",
      "\n",
      "C:\\Users\\And\\.conda\\envs\\proba\\lib\\site-packages\\ipykernel_launcher.py:9: UserWarning: Update your `Dense` call to the Keras 2 API: `Dense(units=285, kernel_initializer=\"glorot_uniform\")`\n",
      "  if __name__ == '__main__':\n",
      "\n",
      "C:\\Users\\And\\.conda\\envs\\proba\\lib\\site-packages\\ipykernel_launcher.py:22: UserWarning: The `nb_epoch` argument in `fit` has been renamed `epochs`.\n",
      "\n"
     ]
    },
    {
     "name": "stdout",
     "output_type": "stream",
     "text": [
      "AUC:                                                                                                                   \n",
      "0.9944093068610957                                                                                                     \n",
      "Score:                                                                                                                 \n",
      "[0.050424341358821366, 0.9856875848706479]                                                                             \n",
      "Params:                                                                                                                \n",
      "{'activation': 'relu', 'batch_size': 186, 'choice': {'dropout3': 0.7370818911411355, 'layers': 'three', 'units3': 514}, 'dropout1': 0.31792800389332004, 'dropout2': 0.4543560461396671, 'nb_epochs': 100, 'optimizer': 'adam', 'units1': 672, 'units2': 583}\n",
      " 14%|██████▌                                        | 14/100 [16:39<2:20:33, 98.07s/it, best loss: -0.9954112954606769]"
     ]
    },
    {
     "name": "stderr",
     "output_type": "stream",
     "text": [
      "C:\\Users\\And\\.conda\\envs\\proba\\lib\\site-packages\\ipykernel_launcher.py:5: UserWarning: Update your `Dense` call to the Keras 2 API: `Dense(input_dim=784, units=672)`\n",
      "  \"\"\"\n",
      "\n",
      "C:\\Users\\And\\.conda\\envs\\proba\\lib\\site-packages\\ipykernel_launcher.py:9: UserWarning: Update your `Dense` call to the Keras 2 API: `Dense(units=583, kernel_initializer=\"glorot_uniform\")`\n",
      "  if __name__ == '__main__':\n",
      "\n",
      "C:\\Users\\And\\.conda\\envs\\proba\\lib\\site-packages\\ipykernel_launcher.py:14: UserWarning: Update your `Dense` call to the Keras 2 API: `Dense(units=514, kernel_initializer=\"glorot_uniform\")`\n",
      "  \n",
      "\n",
      "C:\\Users\\And\\.conda\\envs\\proba\\lib\\site-packages\\ipykernel_launcher.py:22: UserWarning: The `nb_epoch` argument in `fit` has been renamed `epochs`.\n",
      "\n"
     ]
    },
    {
     "name": "stdout",
     "output_type": "stream",
     "text": [
      "AUC:                                                                                                                   \n",
      "0.9952745903647594                                                                                                     \n",
      "Score:                                                                                                                 \n",
      "[0.06840880489160552, 0.9860347182473768]                                                                              \n",
      "Params:                                                                                                                \n",
      "{'activation': 'relu', 'batch_size': 105, 'choice': {'layers': 'two'}, 'dropout1': 0.6829562651813066, 'dropout2': 0.33452203037162276, 'nb_epochs': 100, 'optimizer': 'adam', 'units1': 853, 'units2': 167}\n",
      " 15%|███████                                        | 15/100 [17:17<1:53:28, 80.09s/it, best loss: -0.9954112954606769]"
     ]
    },
    {
     "name": "stderr",
     "output_type": "stream",
     "text": [
      "C:\\Users\\And\\.conda\\envs\\proba\\lib\\site-packages\\ipykernel_launcher.py:5: UserWarning: Update your `Dense` call to the Keras 2 API: `Dense(input_dim=784, units=853)`\n",
      "  \"\"\"\n",
      "\n",
      "C:\\Users\\And\\.conda\\envs\\proba\\lib\\site-packages\\ipykernel_launcher.py:9: UserWarning: Update your `Dense` call to the Keras 2 API: `Dense(units=167, kernel_initializer=\"glorot_uniform\")`\n",
      "  if __name__ == '__main__':\n",
      "\n",
      "C:\\Users\\And\\.conda\\envs\\proba\\lib\\site-packages\\ipykernel_launcher.py:22: UserWarning: The `nb_epoch` argument in `fit` has been renamed `epochs`.\n",
      "\n"
     ]
    },
    {
     "name": "stdout",
     "output_type": "stream",
     "text": [
      "AUC:                                                                                                                   \n",
      "0.9954564783185254                                                                                                     \n",
      "Score:                                                                                                                 \n",
      "[0.0474028941919531, 0.9867823795578349]                                                                               \n",
      "Params:                                                                                                                \n",
      "{'activation': 'relu', 'batch_size': 199, 'choice': {'layers': 'two'}, 'dropout1': 0.39184907399929525, 'dropout2': 0.48520042889570664, 'nb_epochs': 100, 'optimizer': 'adadelta', 'units1': 541, 'units2': 637}\n",
      " 16%|███████▌                                       | 16/100 [18:04<1:38:21, 70.25s/it, best loss: -0.9954564783185254]"
     ]
    },
    {
     "name": "stderr",
     "output_type": "stream",
     "text": [
      "C:\\Users\\And\\.conda\\envs\\proba\\lib\\site-packages\\ipykernel_launcher.py:5: UserWarning: Update your `Dense` call to the Keras 2 API: `Dense(input_dim=784, units=541)`\n",
      "  \"\"\"\n",
      "\n",
      "C:\\Users\\And\\.conda\\envs\\proba\\lib\\site-packages\\ipykernel_launcher.py:9: UserWarning: Update your `Dense` call to the Keras 2 API: `Dense(units=637, kernel_initializer=\"glorot_uniform\")`\n",
      "  if __name__ == '__main__':\n",
      "\n",
      "C:\\Users\\And\\.conda\\envs\\proba\\lib\\site-packages\\ipykernel_launcher.py:22: UserWarning: The `nb_epoch` argument in `fit` has been renamed `epochs`.\n",
      "\n"
     ]
    },
    {
     "name": "stdout",
     "output_type": "stream",
     "text": [
      "AUC:                                                                                                                   \n",
      "0.9721558025177301                                                                                                     \n",
      "Score:                                                                                                                 \n",
      "[0.10542114594272364, 0.9700667545537605]                                                                              \n",
      "Params:                                                                                                                \n",
      "{'activation': 'relu', 'batch_size': 113, 'choice': {'dropout3': 0.3352744937018401, 'layers': 'three', 'units3': 331}, 'dropout1': 0.6081145972357933, 'dropout2': 0.5792971983427504, 'nb_epochs': 100, 'optimizer': 'rmsprop', 'units1': 792, 'units2': 692}\n",
      " 17%|███████▉                                       | 17/100 [18:39<1:22:32, 59.66s/it, best loss: -0.9954564783185254]"
     ]
    },
    {
     "name": "stderr",
     "output_type": "stream",
     "text": [
      "C:\\Users\\And\\.conda\\envs\\proba\\lib\\site-packages\\ipykernel_launcher.py:5: UserWarning: Update your `Dense` call to the Keras 2 API: `Dense(input_dim=784, units=792)`\n",
      "  \"\"\"\n",
      "\n",
      "C:\\Users\\And\\.conda\\envs\\proba\\lib\\site-packages\\ipykernel_launcher.py:9: UserWarning: Update your `Dense` call to the Keras 2 API: `Dense(units=692, kernel_initializer=\"glorot_uniform\")`\n",
      "  if __name__ == '__main__':\n",
      "\n",
      "C:\\Users\\And\\.conda\\envs\\proba\\lib\\site-packages\\ipykernel_launcher.py:14: UserWarning: Update your `Dense` call to the Keras 2 API: `Dense(units=331, kernel_initializer=\"glorot_uniform\")`\n",
      "  \n",
      "\n",
      "C:\\Users\\And\\.conda\\envs\\proba\\lib\\site-packages\\ipykernel_launcher.py:22: UserWarning: The `nb_epoch` argument in `fit` has been renamed `epochs`.\n",
      "\n"
     ]
    },
    {
     "name": "stdout",
     "output_type": "stream",
     "text": [
      "AUC:                                                                                                                   \n",
      "0.9942929818380847                                                                                                     \n",
      "Score:                                                                                                                 \n",
      "[0.06864978957437343, 0.9856608819897885]                                                                              \n",
      "Params:                                                                                                                \n",
      "{'activation': 'relu', 'batch_size': 58, 'choice': {'layers': 'two'}, 'dropout1': 0.628933783758504, 'dropout2': 0.6978996262837942, 'nb_epochs': 100, 'optimizer': 'rmsprop', 'units1': 1010, 'units2': 240}\n",
      " 18%|████████▍                                      | 18/100 [19:42<1:22:50, 60.62s/it, best loss: -0.9954564783185254]"
     ]
    },
    {
     "name": "stderr",
     "output_type": "stream",
     "text": [
      "C:\\Users\\And\\.conda\\envs\\proba\\lib\\site-packages\\ipykernel_launcher.py:5: UserWarning: Update your `Dense` call to the Keras 2 API: `Dense(input_dim=784, units=1010)`\n",
      "  \"\"\"\n",
      "\n",
      "C:\\Users\\And\\.conda\\envs\\proba\\lib\\site-packages\\ipykernel_launcher.py:9: UserWarning: Update your `Dense` call to the Keras 2 API: `Dense(units=240, kernel_initializer=\"glorot_uniform\")`\n",
      "  if __name__ == '__main__':\n",
      "\n",
      "C:\\Users\\And\\.conda\\envs\\proba\\lib\\site-packages\\ipykernel_launcher.py:22: UserWarning: The `nb_epoch` argument in `fit` has been renamed `epochs`.\n",
      "\n"
     ]
    },
    {
     "name": "stdout",
     "output_type": "stream",
     "text": [
      "AUC:                                                                                                                   \n",
      "0.9938289642138646                                                                                                     \n",
      "Score:                                                                                                                 \n",
      "[0.0727359196489614, 0.9854472625080511]                                                                               \n",
      "Params:                                                                                                                \n",
      "{'activation': 'relu', 'batch_size': 170, 'choice': {'layers': 'two'}, 'dropout1': 0.28950328371938, 'dropout2': 0.31150583185615943, 'nb_epochs': 100, 'optimizer': 'rmsprop', 'units1': 809, 'units2': 941}\n",
      " 19%|████████▉                                      | 19/100 [21:11<1:33:07, 68.98s/it, best loss: -0.9954564783185254]"
     ]
    },
    {
     "name": "stderr",
     "output_type": "stream",
     "text": [
      "C:\\Users\\And\\.conda\\envs\\proba\\lib\\site-packages\\ipykernel_launcher.py:5: UserWarning: Update your `Dense` call to the Keras 2 API: `Dense(input_dim=784, units=809)`\n",
      "  \"\"\"\n",
      "\n",
      "C:\\Users\\And\\.conda\\envs\\proba\\lib\\site-packages\\ipykernel_launcher.py:9: UserWarning: Update your `Dense` call to the Keras 2 API: `Dense(units=941, kernel_initializer=\"glorot_uniform\")`\n",
      "  if __name__ == '__main__':\n",
      "\n",
      "C:\\Users\\And\\.conda\\envs\\proba\\lib\\site-packages\\ipykernel_launcher.py:22: UserWarning: The `nb_epoch` argument in `fit` has been renamed `epochs`.\n",
      "\n"
     ]
    },
    {
     "name": "stdout",
     "output_type": "stream",
     "text": [
      "AUC:                                                                                                                   \n",
      "0.9950191278075982                                                                                                     \n",
      "Score:                                                                                                                 \n",
      "[0.08042005528765235, 0.9856608830083993]                                                                              \n",
      "Params:                                                                                                                \n",
      "{'activation': 'relu', 'batch_size': 87, 'choice': {'layers': 'two'}, 'dropout1': 0.47019301574506955, 'dropout2': 0.39431713490479925, 'nb_epochs': 100, 'optimizer': 'adam', 'units1': 903, 'units2': 64}\n",
      " 20%|█████████▍                                     | 20/100 [21:49<1:19:51, 59.90s/it, best loss: -0.9954564783185254]"
     ]
    },
    {
     "name": "stderr",
     "output_type": "stream",
     "text": [
      "C:\\Users\\And\\.conda\\envs\\proba\\lib\\site-packages\\ipykernel_launcher.py:5: UserWarning: Update your `Dense` call to the Keras 2 API: `Dense(input_dim=784, units=903)`\n",
      "  \"\"\"\n",
      "\n",
      "C:\\Users\\And\\.conda\\envs\\proba\\lib\\site-packages\\ipykernel_launcher.py:9: UserWarning: Update your `Dense` call to the Keras 2 API: `Dense(units=64, kernel_initializer=\"glorot_uniform\")`\n",
      "  if __name__ == '__main__':\n",
      "\n",
      "C:\\Users\\And\\.conda\\envs\\proba\\lib\\site-packages\\ipykernel_launcher.py:22: UserWarning: The `nb_epoch` argument in `fit` has been renamed `epochs`.\n",
      "\n"
     ]
    },
    {
     "name": "stdout",
     "output_type": "stream",
     "text": [
      "AUC:                                                                                                                   \n",
      "0.995431002890963                                                                                                      \n",
      "Score:                                                                                                                 \n",
      "[0.05090214626377441, 0.9860347136636284]                                                                              \n",
      "Params:                                                                                                                \n",
      "{'activation': 'relu', 'batch_size': 93, 'choice': {'layers': 'two'}, 'dropout1': 0.4690409862541917, 'dropout2': 0.3908494221660293, 'nb_epochs': 100, 'optimizer': 'adam', 'units1': 158, 'units2': 65}\n",
      " 21%|█████████▊                                     | 21/100 [22:44<1:16:52, 58.39s/it, best loss: -0.9954564783185254]"
     ]
    },
    {
     "name": "stderr",
     "output_type": "stream",
     "text": [
      "C:\\Users\\And\\.conda\\envs\\proba\\lib\\site-packages\\ipykernel_launcher.py:5: UserWarning: Update your `Dense` call to the Keras 2 API: `Dense(input_dim=784, units=158)`\n",
      "  \"\"\"\n",
      "\n",
      "C:\\Users\\And\\.conda\\envs\\proba\\lib\\site-packages\\ipykernel_launcher.py:9: UserWarning: Update your `Dense` call to the Keras 2 API: `Dense(units=65, kernel_initializer=\"glorot_uniform\")`\n",
      "  if __name__ == '__main__':\n",
      "\n",
      "C:\\Users\\And\\.conda\\envs\\proba\\lib\\site-packages\\ipykernel_launcher.py:22: UserWarning: The `nb_epoch` argument in `fit` has been renamed `epochs`.\n",
      "\n"
     ]
    },
    {
     "name": "stdout",
     "output_type": "stream",
     "text": [
      "AUC:                                                                                                                   \n",
      "0.9943169941499862                                                                                                     \n",
      "Score:                                                                                                                 \n",
      "[0.04704851914527956, 0.9858744994343044]                                                                              \n",
      "Params:                                                                                                                \n",
      "{'activation': 'relu', 'batch_size': 81, 'choice': {'layers': 'two'}, 'dropout1': 0.4456915903060632, 'dropout2': 0.39523212290432663, 'nb_epochs': 100, 'optimizer': 'adam', 'units1': 664, 'units2': 178}\n",
      " 22%|██████████▎                                    | 22/100 [23:28<1:10:09, 53.97s/it, best loss: -0.9954564783185254]"
     ]
    },
    {
     "name": "stderr",
     "output_type": "stream",
     "text": [
      "C:\\Users\\And\\.conda\\envs\\proba\\lib\\site-packages\\ipykernel_launcher.py:5: UserWarning: Update your `Dense` call to the Keras 2 API: `Dense(input_dim=784, units=664)`\n",
      "  \"\"\"\n",
      "\n",
      "C:\\Users\\And\\.conda\\envs\\proba\\lib\\site-packages\\ipykernel_launcher.py:9: UserWarning: Update your `Dense` call to the Keras 2 API: `Dense(units=178, kernel_initializer=\"glorot_uniform\")`\n",
      "  if __name__ == '__main__':\n",
      "\n",
      "C:\\Users\\And\\.conda\\envs\\proba\\lib\\site-packages\\ipykernel_launcher.py:22: UserWarning: The `nb_epoch` argument in `fit` has been renamed `epochs`.\n",
      "\n"
     ]
    },
    {
     "name": "stdout",
     "output_type": "stream",
     "text": [
      "AUC:                                                                                                                   \n",
      "0.9955847981769571                                                                                                     \n",
      "Score:                                                                                                                 \n",
      "[0.056785028763658235, 0.9861949289115631]                                                                             \n",
      "Params:                                                                                                                \n",
      "{'activation': 'relu', 'batch_size': 34, 'choice': {'layers': 'two'}, 'dropout1': 0.7471429155363806, 'dropout2': 0.4070524634765548, 'nb_epochs': 100, 'optimizer': 'adam', 'units1': 633, 'units2': 180}\n",
      " 23%|██████████▊                                    | 23/100 [24:26<1:10:55, 55.26s/it, best loss: -0.9955847981769571]"
     ]
    },
    {
     "name": "stderr",
     "output_type": "stream",
     "text": [
      "C:\\Users\\And\\.conda\\envs\\proba\\lib\\site-packages\\ipykernel_launcher.py:5: UserWarning: Update your `Dense` call to the Keras 2 API: `Dense(input_dim=784, units=633)`\n",
      "  \"\"\"\n",
      "\n",
      "C:\\Users\\And\\.conda\\envs\\proba\\lib\\site-packages\\ipykernel_launcher.py:9: UserWarning: Update your `Dense` call to the Keras 2 API: `Dense(units=180, kernel_initializer=\"glorot_uniform\")`\n",
      "  if __name__ == '__main__':\n",
      "\n",
      "C:\\Users\\And\\.conda\\envs\\proba\\lib\\site-packages\\ipykernel_launcher.py:22: UserWarning: The `nb_epoch` argument in `fit` has been renamed `epochs`.\n",
      "\n"
     ]
    },
    {
     "name": "stdout",
     "output_type": "stream",
     "text": [
      "AUC:                                                                                                                   \n",
      "0.9951970185308558                                                                                                     \n",
      "Score:                                                                                                                 \n",
      "[0.04833062362175768, 0.9862750344983089]                                                                              \n",
      "Params:                                                                                                                \n",
      "{'activation': 'relu', 'batch_size': 65, 'choice': {'layers': 'two'}, 'dropout1': 0.3874196639722146, 'dropout2': 0.25028144715807354, 'nb_epochs': 100, 'optimizer': 'adam', 'units1': 613, 'units2': 379}\n",
      " 24%|███████████▎                                   | 24/100 [26:32<1:36:39, 76.31s/it, best loss: -0.9955847981769571]"
     ]
    },
    {
     "name": "stderr",
     "output_type": "stream",
     "text": [
      "C:\\Users\\And\\.conda\\envs\\proba\\lib\\site-packages\\ipykernel_launcher.py:5: UserWarning: Update your `Dense` call to the Keras 2 API: `Dense(input_dim=784, units=613)`\n",
      "  \"\"\"\n",
      "\n",
      "C:\\Users\\And\\.conda\\envs\\proba\\lib\\site-packages\\ipykernel_launcher.py:9: UserWarning: Update your `Dense` call to the Keras 2 API: `Dense(units=379, kernel_initializer=\"glorot_uniform\")`\n",
      "  if __name__ == '__main__':\n",
      "\n",
      "C:\\Users\\And\\.conda\\envs\\proba\\lib\\site-packages\\ipykernel_launcher.py:22: UserWarning: The `nb_epoch` argument in `fit` has been renamed `epochs`.\n",
      "\n"
     ]
    },
    {
     "name": "stdout",
     "output_type": "stream",
     "text": [
      "AUC:                                                                                                                   \n",
      "0.9952671810312459                                                                                                     \n",
      "Score:                                                                                                                 \n",
      "[0.06639153640277894, 0.9857943963940854]                                                                              \n",
      "Params:                                                                                                                \n",
      "{'activation': 'relu', 'batch_size': 115, 'choice': {'layers': 'two'}, 'dropout1': 0.4252229311086141, 'dropout2': 0.4322460271063326, 'nb_epochs': 100, 'optimizer': 'adam', 'units1': 730, 'units2': 461}\n",
      " 25%|███████████▊                                   | 25/100 [27:43<1:33:39, 74.93s/it, best loss: -0.9955847981769571]"
     ]
    },
    {
     "name": "stderr",
     "output_type": "stream",
     "text": [
      "C:\\Users\\And\\.conda\\envs\\proba\\lib\\site-packages\\ipykernel_launcher.py:5: UserWarning: Update your `Dense` call to the Keras 2 API: `Dense(input_dim=784, units=730)`\n",
      "  \"\"\"\n",
      "\n",
      "C:\\Users\\And\\.conda\\envs\\proba\\lib\\site-packages\\ipykernel_launcher.py:9: UserWarning: Update your `Dense` call to the Keras 2 API: `Dense(units=461, kernel_initializer=\"glorot_uniform\")`\n",
      "  if __name__ == '__main__':\n",
      "\n",
      "C:\\Users\\And\\.conda\\envs\\proba\\lib\\site-packages\\ipykernel_launcher.py:22: UserWarning: The `nb_epoch` argument in `fit` has been renamed `epochs`.\n",
      "\n"
     ]
    },
    {
     "name": "stdout",
     "output_type": "stream",
     "text": [
      "AUC:                                                                                                                   \n",
      "0.9951508592401884                                                                                                     \n",
      "Score:                                                                                                                 \n",
      "[0.058857735517349755, 0.9859546085861879]                                                                             \n",
      "Params:                                                                                                                \n",
      "{'activation': 'relu', 'batch_size': 106, 'choice': {'layers': 'two'}, 'dropout1': 0.6687836298049138, 'dropout2': 0.3575813231382706, 'nb_epochs': 100, 'optimizer': 'adam', 'units1': 333, 'units2': 155}\n",
      " 26%|████████████▏                                  | 26/100 [28:29<1:21:39, 66.22s/it, best loss: -0.9955847981769571]"
     ]
    },
    {
     "name": "stderr",
     "output_type": "stream",
     "text": [
      "C:\\Users\\And\\.conda\\envs\\proba\\lib\\site-packages\\ipykernel_launcher.py:5: UserWarning: Update your `Dense` call to the Keras 2 API: `Dense(input_dim=784, units=333)`\n",
      "  \"\"\"\n",
      "\n",
      "C:\\Users\\And\\.conda\\envs\\proba\\lib\\site-packages\\ipykernel_launcher.py:9: UserWarning: Update your `Dense` call to the Keras 2 API: `Dense(units=155, kernel_initializer=\"glorot_uniform\")`\n",
      "  if __name__ == '__main__':\n",
      "\n",
      "C:\\Users\\And\\.conda\\envs\\proba\\lib\\site-packages\\ipykernel_launcher.py:22: UserWarning: The `nb_epoch` argument in `fit` has been renamed `epochs`.\n",
      "\n"
     ]
    },
    {
     "name": "stdout",
     "output_type": "stream",
     "text": [
      "AUC:                                                                                                                   \n",
      "0.9946940741389543                                                                                                     \n",
      "Score:                                                                                                                 \n",
      "[0.047505937248110294, 0.9858478011371934]                                                                             \n",
      "Params:                                                                                                                \n",
      "{'activation': 'relu', 'batch_size': 61, 'choice': {'layers': 'two'}, 'dropout1': 0.5444423417975225, 'dropout2': 0.5482461516866305, 'nb_epochs': 100, 'optimizer': 'adam', 'units1': 602, 'units2': 318}\n",
      " 27%|████████████▋                                  | 27/100 [29:11<1:11:45, 58.98s/it, best loss: -0.9955847981769571]"
     ]
    },
    {
     "name": "stderr",
     "output_type": "stream",
     "text": [
      "C:\\Users\\And\\.conda\\envs\\proba\\lib\\site-packages\\ipykernel_launcher.py:5: UserWarning: Update your `Dense` call to the Keras 2 API: `Dense(input_dim=784, units=602)`\n",
      "  \"\"\"\n",
      "\n",
      "C:\\Users\\And\\.conda\\envs\\proba\\lib\\site-packages\\ipykernel_launcher.py:9: UserWarning: Update your `Dense` call to the Keras 2 API: `Dense(units=318, kernel_initializer=\"glorot_uniform\")`\n",
      "  if __name__ == '__main__':\n",
      "\n",
      "C:\\Users\\And\\.conda\\envs\\proba\\lib\\site-packages\\ipykernel_launcher.py:22: UserWarning: The `nb_epoch` argument in `fit` has been renamed `epochs`.\n",
      "\n"
     ]
    },
    {
     "name": "stdout",
     "output_type": "stream",
     "text": [
      "AUC:                                                                                                                   \n",
      "0.995440091215916                                                                                                      \n",
      "Score:                                                                                                                 \n",
      "[0.05542001106149496, 0.9863551421222763]                                                                              \n",
      "Params:                                                                                                                \n",
      "{'activation': 'relu', 'batch_size': 129, 'choice': {'layers': 'two'}, 'dropout1': 0.43049591797578995, 'dropout2': 0.3662190862391983, 'nb_epochs': 100, 'optimizer': 'adam', 'units1': 929, 'units2': 505}\n",
      " 28%|█████████████▏                                 | 28/100 [30:27<1:16:55, 64.11s/it, best loss: -0.9955847981769571]"
     ]
    },
    {
     "name": "stderr",
     "output_type": "stream",
     "text": [
      "C:\\Users\\And\\.conda\\envs\\proba\\lib\\site-packages\\ipykernel_launcher.py:5: UserWarning: Update your `Dense` call to the Keras 2 API: `Dense(input_dim=784, units=929)`\n",
      "  \"\"\"\n",
      "\n",
      "C:\\Users\\And\\.conda\\envs\\proba\\lib\\site-packages\\ipykernel_launcher.py:9: UserWarning: Update your `Dense` call to the Keras 2 API: `Dense(units=505, kernel_initializer=\"glorot_uniform\")`\n",
      "  if __name__ == '__main__':\n",
      "\n",
      "C:\\Users\\And\\.conda\\envs\\proba\\lib\\site-packages\\ipykernel_launcher.py:22: UserWarning: The `nb_epoch` argument in `fit` has been renamed `epochs`.\n",
      "\n"
     ]
    },
    {
     "name": "stdout",
     "output_type": "stream",
     "text": [
      "AUC:                                                                                                                   \n",
      "0.9952235272263958                                                                                                     \n",
      "Score:                                                                                                                 \n",
      "[0.06138088472889042, 0.9857676924946153]                                                                              \n",
      "Params:                                                                                                                \n",
      "{'activation': 'relu', 'batch_size': 74, 'choice': {'layers': 'two'}, 'dropout1': 0.5076864026501524, 'dropout2': 0.28791034653434566, 'nb_epochs': 100, 'optimizer': 'adam', 'units1': 723, 'units2': 231}\n",
      " 29%|█████████████▋                                 | 29/100 [31:14<1:09:33, 58.78s/it, best loss: -0.9955847981769571]"
     ]
    },
    {
     "name": "stderr",
     "output_type": "stream",
     "text": [
      "C:\\Users\\And\\.conda\\envs\\proba\\lib\\site-packages\\ipykernel_launcher.py:5: UserWarning: Update your `Dense` call to the Keras 2 API: `Dense(input_dim=784, units=723)`\n",
      "  \"\"\"\n",
      "\n",
      "C:\\Users\\And\\.conda\\envs\\proba\\lib\\site-packages\\ipykernel_launcher.py:9: UserWarning: Update your `Dense` call to the Keras 2 API: `Dense(units=231, kernel_initializer=\"glorot_uniform\")`\n",
      "  if __name__ == '__main__':\n",
      "\n",
      "C:\\Users\\And\\.conda\\envs\\proba\\lib\\site-packages\\ipykernel_launcher.py:22: UserWarning: The `nb_epoch` argument in `fit` has been renamed `epochs`.\n",
      "\n"
     ]
    },
    {
     "name": "stdout",
     "output_type": "stream",
     "text": [
      "AUC:                                                                                                                   \n",
      "0.9954554406963165                                                                                                     \n",
      "Score:                                                                                                                 \n",
      "[0.05932136394418602, 0.9860614180724039]                                                                              \n",
      "Params:                                                                                                                \n",
      "{'activation': 'relu', 'batch_size': 49, 'choice': {'dropout3': 0.6221033287622237, 'layers': 'three', 'units3': 1006}, 'dropout1': 0.5750744921330653, 'dropout2': 0.43596570965300663, 'nb_epochs': 100, 'optimizer': 'adam', 'units1': 854, 'units2': 83}\n",
      " 30%|██████████████                                 | 30/100 [32:21<1:11:33, 61.34s/it, best loss: -0.9955847981769571]"
     ]
    },
    {
     "name": "stderr",
     "output_type": "stream",
     "text": [
      "C:\\Users\\And\\.conda\\envs\\proba\\lib\\site-packages\\ipykernel_launcher.py:5: UserWarning: Update your `Dense` call to the Keras 2 API: `Dense(input_dim=784, units=854)`\n",
      "  \"\"\"\n",
      "\n",
      "C:\\Users\\And\\.conda\\envs\\proba\\lib\\site-packages\\ipykernel_launcher.py:9: UserWarning: Update your `Dense` call to the Keras 2 API: `Dense(units=83, kernel_initializer=\"glorot_uniform\")`\n",
      "  if __name__ == '__main__':\n",
      "\n",
      "C:\\Users\\And\\.conda\\envs\\proba\\lib\\site-packages\\ipykernel_launcher.py:14: UserWarning: Update your `Dense` call to the Keras 2 API: `Dense(units=1006, kernel_initializer=\"glorot_uniform\")`\n",
      "  \n",
      "\n",
      "C:\\Users\\And\\.conda\\envs\\proba\\lib\\site-packages\\ipykernel_launcher.py:22: UserWarning: The `nb_epoch` argument in `fit` has been renamed `epochs`.\n",
      "\n"
     ]
    },
    {
     "name": "stdout",
     "output_type": "stream",
     "text": [
      "AUC:                                                                                                                   \n",
      "0.9953764878732929                                                                                                     \n",
      "Score:                                                                                                                 \n",
      "[0.053252710206773836, 0.986061415525877]                                                                              \n",
      "Params:                                                                                                                \n",
      "{'activation': 'relu', 'batch_size': 98, 'choice': {'layers': 'two'}, 'dropout1': 0.36230470308113644, 'dropout2': 0.32748968599740186, 'nb_epochs': 100, 'optimizer': 'adam', 'units1': 862, 'units2': 378}\n",
      " 31%|██████████████▌                                | 31/100 [34:07<1:25:50, 74.65s/it, best loss: -0.9955847981769571]"
     ]
    },
    {
     "name": "stderr",
     "output_type": "stream",
     "text": [
      "C:\\Users\\And\\.conda\\envs\\proba\\lib\\site-packages\\ipykernel_launcher.py:5: UserWarning: Update your `Dense` call to the Keras 2 API: `Dense(input_dim=784, units=862)`\n",
      "  \"\"\"\n",
      "\n",
      "C:\\Users\\And\\.conda\\envs\\proba\\lib\\site-packages\\ipykernel_launcher.py:9: UserWarning: Update your `Dense` call to the Keras 2 API: `Dense(units=378, kernel_initializer=\"glorot_uniform\")`\n",
      "  if __name__ == '__main__':\n",
      "\n",
      "C:\\Users\\And\\.conda\\envs\\proba\\lib\\site-packages\\ipykernel_launcher.py:22: UserWarning: The `nb_epoch` argument in `fit` has been renamed `epochs`.\n",
      "\n"
     ]
    },
    {
     "name": "stdout",
     "output_type": "stream",
     "text": [
      "AUC:                                                                                                                   \n",
      "0.9948271986716092                                                                                                     \n",
      "Score:                                                                                                                 \n",
      "[0.07099698462689207, 0.9855006672511591]                                                                              \n",
      "Params:                                                                                                                \n",
      "{'activation': 'relu', 'batch_size': 133, 'choice': {'layers': 'two'}, 'dropout1': 0.5170972123335019, 'dropout2': 0.5331521796635038, 'nb_epochs': 100, 'optimizer': 'adam', 'units1': 204, 'units2': 129}\n",
      " 32%|███████████████                                | 32/100 [35:04<1:18:34, 69.33s/it, best loss: -0.9955847981769571]"
     ]
    },
    {
     "name": "stderr",
     "output_type": "stream",
     "text": [
      "C:\\Users\\And\\.conda\\envs\\proba\\lib\\site-packages\\ipykernel_launcher.py:5: UserWarning: Update your `Dense` call to the Keras 2 API: `Dense(input_dim=784, units=204)`\n",
      "  \"\"\"\n",
      "\n",
      "C:\\Users\\And\\.conda\\envs\\proba\\lib\\site-packages\\ipykernel_launcher.py:9: UserWarning: Update your `Dense` call to the Keras 2 API: `Dense(units=129, kernel_initializer=\"glorot_uniform\")`\n",
      "  if __name__ == '__main__':\n",
      "\n",
      "C:\\Users\\And\\.conda\\envs\\proba\\lib\\site-packages\\ipykernel_launcher.py:22: UserWarning: The `nb_epoch` argument in `fit` has been renamed `epochs`.\n",
      "\n"
     ]
    },
    {
     "name": "stdout",
     "output_type": "stream",
     "text": [
      "AUC:                                                                                                                   \n",
      "0.994354475284017                                                                                                      \n",
      "Score:                                                                                                                 \n",
      "[0.04738677379368084, 0.9856875879264801]                                                                              \n",
      "Params:                                                                                                                \n",
      "{'activation': 'relu', 'batch_size': 170, 'choice': {'dropout3': 0.5910656619925085, 'layers': 'three', 'units3': 778}, 'dropout1': 0.45835713268897094, 'dropout2': 0.2978225682092481, 'nb_epochs': 100, 'optimizer': 'adam', 'units1': 950, 'units2': 318}\n",
      " 33%|███████████████▌                               | 33/100 [35:39<1:06:08, 59.24s/it, best loss: -0.9955847981769571]"
     ]
    },
    {
     "name": "stderr",
     "output_type": "stream",
     "text": [
      "C:\\Users\\And\\.conda\\envs\\proba\\lib\\site-packages\\ipykernel_launcher.py:5: UserWarning: Update your `Dense` call to the Keras 2 API: `Dense(input_dim=784, units=950)`\n",
      "  \"\"\"\n",
      "\n",
      "C:\\Users\\And\\.conda\\envs\\proba\\lib\\site-packages\\ipykernel_launcher.py:9: UserWarning: Update your `Dense` call to the Keras 2 API: `Dense(units=318, kernel_initializer=\"glorot_uniform\")`\n",
      "  if __name__ == '__main__':\n",
      "\n",
      "C:\\Users\\And\\.conda\\envs\\proba\\lib\\site-packages\\ipykernel_launcher.py:14: UserWarning: Update your `Dense` call to the Keras 2 API: `Dense(units=778, kernel_initializer=\"glorot_uniform\")`\n",
      "  \n",
      "\n",
      "C:\\Users\\And\\.conda\\envs\\proba\\lib\\site-packages\\ipykernel_launcher.py:22: UserWarning: The `nb_epoch` argument in `fit` has been renamed `epochs`.\n",
      "\n"
     ]
    },
    {
     "name": "stdout",
     "output_type": "stream",
     "text": [
      "AUC:                                                                                                                   \n",
      "0.9955189096137996                                                                                                     \n",
      "Score:                                                                                                                 \n",
      "[0.059273378465047044, 0.9870761010611805]                                                                             \n",
      "Params:                                                                                                                \n",
      "{'activation': 'relu', 'batch_size': 252, 'choice': {'dropout3': 0.5885515068756089, 'layers': 'three', 'units3': 819}, 'dropout1': 0.4551314819002723, 'dropout2': 0.29970108031757625, 'nb_epochs': 100, 'optimizer': 'adadelta', 'units1': 959, 'units2': 327}\n",
      " 34%|███████████████▉                               | 34/100 [36:24<1:00:14, 54.77s/it, best loss: -0.9955847981769571]"
     ]
    },
    {
     "name": "stderr",
     "output_type": "stream",
     "text": [
      "C:\\Users\\And\\.conda\\envs\\proba\\lib\\site-packages\\ipykernel_launcher.py:5: UserWarning: Update your `Dense` call to the Keras 2 API: `Dense(input_dim=784, units=959)`\n",
      "  \"\"\"\n",
      "\n",
      "C:\\Users\\And\\.conda\\envs\\proba\\lib\\site-packages\\ipykernel_launcher.py:9: UserWarning: Update your `Dense` call to the Keras 2 API: `Dense(units=327, kernel_initializer=\"glorot_uniform\")`\n",
      "  if __name__ == '__main__':\n",
      "\n",
      "C:\\Users\\And\\.conda\\envs\\proba\\lib\\site-packages\\ipykernel_launcher.py:14: UserWarning: Update your `Dense` call to the Keras 2 API: `Dense(units=819, kernel_initializer=\"glorot_uniform\")`\n",
      "  \n",
      "\n",
      "C:\\Users\\And\\.conda\\envs\\proba\\lib\\site-packages\\ipykernel_launcher.py:22: UserWarning: The `nb_epoch` argument in `fit` has been renamed `epochs`.\n",
      "\n"
     ]
    },
    {
     "name": "stdout",
     "output_type": "stream",
     "text": [
      "AUC:                                                                                                                   \n",
      "0.9781341644527677                                                                                                     \n",
      "Score:                                                                                                                 \n",
      "[0.08723287254830546, 0.9734312401276246]                                                                              \n",
      "Params:                                                                                                                \n",
      "{'activation': 'relu', 'batch_size': 160, 'choice': {'dropout3': 0.5724211146012004, 'layers': 'three', 'units3': 730}, 'dropout1': 0.356063408581069, 'dropout2': 0.25398481035573944, 'nb_epochs': 100, 'optimizer': 'adam', 'units1': 384, 'units2': 430}\n",
      " 35%|█████████████████▏                               | 35/100 [37:01<53:40, 49.55s/it, best loss: -0.9955847981769571]"
     ]
    },
    {
     "name": "stderr",
     "output_type": "stream",
     "text": [
      "C:\\Users\\And\\.conda\\envs\\proba\\lib\\site-packages\\ipykernel_launcher.py:5: UserWarning: Update your `Dense` call to the Keras 2 API: `Dense(input_dim=784, units=384)`\n",
      "  \"\"\"\n",
      "\n",
      "C:\\Users\\And\\.conda\\envs\\proba\\lib\\site-packages\\ipykernel_launcher.py:9: UserWarning: Update your `Dense` call to the Keras 2 API: `Dense(units=430, kernel_initializer=\"glorot_uniform\")`\n",
      "  if __name__ == '__main__':\n",
      "\n",
      "C:\\Users\\And\\.conda\\envs\\proba\\lib\\site-packages\\ipykernel_launcher.py:14: UserWarning: Update your `Dense` call to the Keras 2 API: `Dense(units=730, kernel_initializer=\"glorot_uniform\")`\n",
      "  \n",
      "\n",
      "C:\\Users\\And\\.conda\\envs\\proba\\lib\\site-packages\\ipykernel_launcher.py:22: UserWarning: The `nb_epoch` argument in `fit` has been renamed `epochs`.\n",
      "\n"
     ]
    },
    {
     "name": "stdout",
     "output_type": "stream",
     "text": [
      "AUC:                                                                                                                   \n",
      "0.9956947555902704                                                                                                     \n",
      "Score:                                                                                                                 \n",
      "[0.05962675573568054, 0.986595464484873]                                                                               \n",
      "Params:                                                                                                                \n",
      "{'activation': 'relu', 'batch_size': 156, 'choice': {'dropout3': 0.2549752791074608, 'layers': 'three', 'units3': 1019}, 'dropout1': 0.3614963534292984, 'dropout2': 0.3757654748463663, 'nb_epochs': 100, 'optimizer': 'adam', 'units1': 334, 'units2': 427}\n",
      " 36%|█████████████████▋                               | 36/100 [37:40<49:27, 46.36s/it, best loss: -0.9956947555902704]"
     ]
    },
    {
     "name": "stderr",
     "output_type": "stream",
     "text": [
      "C:\\Users\\And\\.conda\\envs\\proba\\lib\\site-packages\\ipykernel_launcher.py:5: UserWarning: Update your `Dense` call to the Keras 2 API: `Dense(input_dim=784, units=334)`\n",
      "  \"\"\"\n",
      "\n",
      "C:\\Users\\And\\.conda\\envs\\proba\\lib\\site-packages\\ipykernel_launcher.py:9: UserWarning: Update your `Dense` call to the Keras 2 API: `Dense(units=427, kernel_initializer=\"glorot_uniform\")`\n",
      "  if __name__ == '__main__':\n",
      "\n",
      "C:\\Users\\And\\.conda\\envs\\proba\\lib\\site-packages\\ipykernel_launcher.py:14: UserWarning: Update your `Dense` call to the Keras 2 API: `Dense(units=1019, kernel_initializer=\"glorot_uniform\")`\n",
      "  \n",
      "\n",
      "C:\\Users\\And\\.conda\\envs\\proba\\lib\\site-packages\\ipykernel_launcher.py:22: UserWarning: The `nb_epoch` argument in `fit` has been renamed `epochs`.\n",
      "\n"
     ]
    },
    {
     "name": "stdout",
     "output_type": "stream",
     "text": [
      "AUC:                                                                                                                   \n",
      "0.995280174864288                                                                                                      \n",
      "Score:                                                                                                                 \n",
      "[0.05540629392749355, 0.9864886524521301]                                                                              \n",
      "Params:                                                                                                                \n",
      "{'activation': 'relu', 'batch_size': 179, 'choice': {'dropout3': 0.5350886144589753, 'layers': 'three', 'units3': 633}, 'dropout1': 0.36468375023289096, 'dropout2': 0.41296434916628005, 'nb_epochs': 100, 'optimizer': 'adadelta', 'units1': 77, 'units2': 504}\n",
      " 37%|██████████████████▏                              | 37/100 [38:21<47:08, 44.89s/it, best loss: -0.9956947555902704]"
     ]
    },
    {
     "name": "stderr",
     "output_type": "stream",
     "text": [
      "C:\\Users\\And\\.conda\\envs\\proba\\lib\\site-packages\\ipykernel_launcher.py:5: UserWarning: Update your `Dense` call to the Keras 2 API: `Dense(input_dim=784, units=77)`\n",
      "  \"\"\"\n",
      "\n",
      "C:\\Users\\And\\.conda\\envs\\proba\\lib\\site-packages\\ipykernel_launcher.py:9: UserWarning: Update your `Dense` call to the Keras 2 API: `Dense(units=504, kernel_initializer=\"glorot_uniform\")`\n",
      "  if __name__ == '__main__':\n",
      "\n",
      "C:\\Users\\And\\.conda\\envs\\proba\\lib\\site-packages\\ipykernel_launcher.py:14: UserWarning: Update your `Dense` call to the Keras 2 API: `Dense(units=633, kernel_initializer=\"glorot_uniform\")`\n",
      "  \n",
      "\n",
      "C:\\Users\\And\\.conda\\envs\\proba\\lib\\site-packages\\ipykernel_launcher.py:22: UserWarning: The `nb_epoch` argument in `fit` has been renamed `epochs`.\n",
      "\n"
     ]
    },
    {
     "name": "stdout",
     "output_type": "stream",
     "text": [
      "AUC:                                                                                                                   \n",
      "0.9840012847320871                                                                                                     \n",
      "Score:                                                                                                                 \n",
      "[0.07338953722860211, 0.9775433951608329]                                                                              \n",
      "Params:                                                                                                                \n",
      "{'activation': 'relu', 'batch_size': 149, 'choice': {'dropout3': 0.6602549724815737, 'layers': 'three', 'units3': 568}, 'dropout1': 0.28237012826669167, 'dropout2': 0.25017815595693205, 'nb_epochs': 100, 'optimizer': 'adam', 'units1': 276, 'units2': 685}\n",
      " 38%|██████████████████▌                              | 38/100 [39:01<44:36, 43.17s/it, best loss: -0.9956947555902704]"
     ]
    },
    {
     "name": "stderr",
     "output_type": "stream",
     "text": [
      "C:\\Users\\And\\.conda\\envs\\proba\\lib\\site-packages\\ipykernel_launcher.py:5: UserWarning: Update your `Dense` call to the Keras 2 API: `Dense(input_dim=784, units=276)`\n",
      "  \"\"\"\n",
      "\n",
      "C:\\Users\\And\\.conda\\envs\\proba\\lib\\site-packages\\ipykernel_launcher.py:9: UserWarning: Update your `Dense` call to the Keras 2 API: `Dense(units=685, kernel_initializer=\"glorot_uniform\")`\n",
      "  if __name__ == '__main__':\n",
      "\n",
      "C:\\Users\\And\\.conda\\envs\\proba\\lib\\site-packages\\ipykernel_launcher.py:14: UserWarning: Update your `Dense` call to the Keras 2 API: `Dense(units=568, kernel_initializer=\"glorot_uniform\")`\n",
      "  \n",
      "\n",
      "C:\\Users\\And\\.conda\\envs\\proba\\lib\\site-packages\\ipykernel_launcher.py:22: UserWarning: The `nb_epoch` argument in `fit` has been renamed `epochs`.\n",
      "\n"
     ]
    },
    {
     "name": "stdout",
     "output_type": "stream",
     "text": [
      "AUC:                                                                                                                   \n",
      "0.9953375658418853                                                                                                     \n",
      "Score:                                                                                                                 \n",
      "[0.06062264663916363, 0.9866221678750378]                                                                              \n",
      "Params:                                                                                                                \n",
      "{'activation': 'relu', 'batch_size': 160, 'choice': {'dropout3': 0.3541141106887331, 'layers': 'three', 'units3': 920}, 'dropout1': 0.4227580994844388, 'dropout2': 0.45104856549455186, 'nb_epochs': 100, 'optimizer': 'adam', 'units1': 400, 'units2': 272}\n",
      " 39%|███████████████████                              | 39/100 [39:44<44:00, 43.29s/it, best loss: -0.9956947555902704]"
     ]
    },
    {
     "name": "stderr",
     "output_type": "stream",
     "text": [
      "C:\\Users\\And\\.conda\\envs\\proba\\lib\\site-packages\\ipykernel_launcher.py:5: UserWarning: Update your `Dense` call to the Keras 2 API: `Dense(input_dim=784, units=400)`\n",
      "  \"\"\"\n",
      "\n",
      "C:\\Users\\And\\.conda\\envs\\proba\\lib\\site-packages\\ipykernel_launcher.py:9: UserWarning: Update your `Dense` call to the Keras 2 API: `Dense(units=272, kernel_initializer=\"glorot_uniform\")`\n",
      "  if __name__ == '__main__':\n",
      "\n",
      "C:\\Users\\And\\.conda\\envs\\proba\\lib\\site-packages\\ipykernel_launcher.py:14: UserWarning: Update your `Dense` call to the Keras 2 API: `Dense(units=920, kernel_initializer=\"glorot_uniform\")`\n",
      "  \n",
      "\n",
      "C:\\Users\\And\\.conda\\envs\\proba\\lib\\site-packages\\ipykernel_launcher.py:22: UserWarning: The `nb_epoch` argument in `fit` has been renamed `epochs`.\n",
      "\n"
     ]
    },
    {
     "name": "stdout",
     "output_type": "stream",
     "text": [
      "AUC:                                                                                                                   \n",
      "0.9955677430446702                                                                                                     \n",
      "Score:                                                                                                                 \n",
      "[0.056388092673377944, 0.9863818465310518]                                                                             \n",
      "Params:                                                                                                                \n",
      "{'activation': 'relu', 'batch_size': 234, 'choice': {'dropout3': 0.5283898169267042, 'layers': 'three', 'units3': 686}, 'dropout1': 0.3454082400162807, 'dropout2': 0.2747096137072645, 'nb_epochs': 100, 'optimizer': 'adadelta', 'units1': 246, 'units2': 361}\n",
      " 40%|███████████████████▌                             | 40/100 [40:25<42:41, 42.70s/it, best loss: -0.9956947555902704]"
     ]
    },
    {
     "name": "stderr",
     "output_type": "stream",
     "text": [
      "C:\\Users\\And\\.conda\\envs\\proba\\lib\\site-packages\\ipykernel_launcher.py:5: UserWarning: Update your `Dense` call to the Keras 2 API: `Dense(input_dim=784, units=246)`\n",
      "  \"\"\"\n",
      "\n",
      "C:\\Users\\And\\.conda\\envs\\proba\\lib\\site-packages\\ipykernel_launcher.py:9: UserWarning: Update your `Dense` call to the Keras 2 API: `Dense(units=361, kernel_initializer=\"glorot_uniform\")`\n",
      "  if __name__ == '__main__':\n",
      "\n",
      "C:\\Users\\And\\.conda\\envs\\proba\\lib\\site-packages\\ipykernel_launcher.py:14: UserWarning: Update your `Dense` call to the Keras 2 API: `Dense(units=686, kernel_initializer=\"glorot_uniform\")`\n",
      "  \n",
      "\n",
      "C:\\Users\\And\\.conda\\envs\\proba\\lib\\site-packages\\ipykernel_launcher.py:22: UserWarning: The `nb_epoch` argument in `fit` has been renamed `epochs`.\n",
      "\n"
     ]
    },
    {
     "name": "stdout",
     "output_type": "stream",
     "text": [
      "AUC:                                                                                                                   \n",
      "0.9663738015799683                                                                                                     \n",
      "Score:                                                                                                                 \n",
      "[0.15105782183501446, 0.9435246919598853]                                                                              \n",
      "Params:                                                                                                                \n",
      "{'activation': 'relu', 'batch_size': 141, 'choice': {'dropout3': 0.7453184662524556, 'layers': 'three', 'units3': 465}, 'dropout1': 0.4912389665417473, 'dropout2': 0.7354300884521373, 'nb_epochs': 100, 'optimizer': 'adam', 'units1': 129, 'units2': 473}\n",
      " 41%|████████████████████                             | 41/100 [41:00<39:38, 40.31s/it, best loss: -0.9956947555902704]"
     ]
    },
    {
     "name": "stderr",
     "output_type": "stream",
     "text": [
      "C:\\Users\\And\\.conda\\envs\\proba\\lib\\site-packages\\ipykernel_launcher.py:5: UserWarning: Update your `Dense` call to the Keras 2 API: `Dense(input_dim=784, units=129)`\n",
      "  \"\"\"\n",
      "\n",
      "C:\\Users\\And\\.conda\\envs\\proba\\lib\\site-packages\\ipykernel_launcher.py:9: UserWarning: Update your `Dense` call to the Keras 2 API: `Dense(units=473, kernel_initializer=\"glorot_uniform\")`\n",
      "  if __name__ == '__main__':\n",
      "\n",
      "C:\\Users\\And\\.conda\\envs\\proba\\lib\\site-packages\\ipykernel_launcher.py:14: UserWarning: Update your `Dense` call to the Keras 2 API: `Dense(units=465, kernel_initializer=\"glorot_uniform\")`\n",
      "  \n",
      "\n",
      "C:\\Users\\And\\.conda\\envs\\proba\\lib\\site-packages\\ipykernel_launcher.py:22: UserWarning: The `nb_epoch` argument in `fit` has been renamed `epochs`.\n",
      "\n"
     ]
    },
    {
     "name": "stdout",
     "output_type": "stream",
     "text": [
      "AUC:                                                                                                                   \n",
      "0.9941459536821189                                                                                                     \n",
      "Score:                                                                                                                 \n",
      "[0.05125198874769307, 0.9852069452385082]                                                                              \n",
      "Params:                                                                                                                \n",
      "{'activation': 'relu', 'batch_size': 76, 'choice': {'dropout3': 0.30360869318697264, 'layers': 'three', 'units3': 929}, 'dropout1': 0.41110173648641524, 'dropout2': 0.34623510664554724, 'nb_epochs': 100, 'optimizer': 'adam', 'units1': 390, 'units2': 809}\n",
      " 42%|████████████████████▌                            | 42/100 [41:42<39:26, 40.80s/it, best loss: -0.9956947555902704]"
     ]
    },
    {
     "name": "stderr",
     "output_type": "stream",
     "text": [
      "C:\\Users\\And\\.conda\\envs\\proba\\lib\\site-packages\\ipykernel_launcher.py:5: UserWarning: Update your `Dense` call to the Keras 2 API: `Dense(input_dim=784, units=390)`\n",
      "  \"\"\"\n",
      "\n",
      "C:\\Users\\And\\.conda\\envs\\proba\\lib\\site-packages\\ipykernel_launcher.py:9: UserWarning: Update your `Dense` call to the Keras 2 API: `Dense(units=809, kernel_initializer=\"glorot_uniform\")`\n",
      "  if __name__ == '__main__':\n",
      "\n",
      "C:\\Users\\And\\.conda\\envs\\proba\\lib\\site-packages\\ipykernel_launcher.py:14: UserWarning: Update your `Dense` call to the Keras 2 API: `Dense(units=929, kernel_initializer=\"glorot_uniform\")`\n",
      "  \n",
      "\n",
      "C:\\Users\\And\\.conda\\envs\\proba\\lib\\site-packages\\ipykernel_launcher.py:22: UserWarning: The `nb_epoch` argument in `fit` has been renamed `epochs`.\n",
      "\n"
     ]
    },
    {
     "name": "stdout",
     "output_type": "stream",
     "text": [
      "AUC:                                                                                                                   \n",
      "0.9954533640181253                                                                                                     \n",
      "Score:                                                                                                                 \n",
      "[0.06482735887990387, 0.9865420546487113]                                                                              \n",
      "Params:                                                                                                                \n",
      "{'activation': 'relu', 'batch_size': 210, 'choice': {'dropout3': 0.43264452524270913, 'layers': 'three', 'units3': 214}, 'dropout1': 0.2620948794190391, 'dropout2': 0.5801372430188904, 'nb_epochs': 100, 'optimizer': 'adadelta', 'units1': 480, 'units2': 576}\n",
      " 43%|█████████████████████                            | 43/100 [43:10<52:08, 54.88s/it, best loss: -0.9956947555902704]"
     ]
    },
    {
     "name": "stderr",
     "output_type": "stream",
     "text": [
      "C:\\Users\\And\\.conda\\envs\\proba\\lib\\site-packages\\ipykernel_launcher.py:5: UserWarning: Update your `Dense` call to the Keras 2 API: `Dense(input_dim=784, units=480)`\n",
      "  \"\"\"\n",
      "\n",
      "C:\\Users\\And\\.conda\\envs\\proba\\lib\\site-packages\\ipykernel_launcher.py:9: UserWarning: Update your `Dense` call to the Keras 2 API: `Dense(units=576, kernel_initializer=\"glorot_uniform\")`\n",
      "  if __name__ == '__main__':\n",
      "\n",
      "C:\\Users\\And\\.conda\\envs\\proba\\lib\\site-packages\\ipykernel_launcher.py:14: UserWarning: Update your `Dense` call to the Keras 2 API: `Dense(units=214, kernel_initializer=\"glorot_uniform\")`\n",
      "  \n",
      "\n",
      "C:\\Users\\And\\.conda\\envs\\proba\\lib\\site-packages\\ipykernel_launcher.py:22: UserWarning: The `nb_epoch` argument in `fit` has been renamed `epochs`.\n",
      "\n"
     ]
    },
    {
     "name": "stdout",
     "output_type": "stream",
     "text": [
      "AUC:                                                                                                                   \n",
      "0.9821020858316795                                                                                                     \n",
      "Score:                                                                                                                 \n",
      "[0.07726454701528292, 0.9763417904781245]                                                                              \n",
      "Params:                                                                                                                \n",
      "{'activation': 'relu', 'batch_size': 121, 'choice': {'dropout3': 0.677630842357651, 'layers': 'three', 'units3': 688}, 'dropout1': 0.4412339358509532, 'dropout2': 0.4751551582635518, 'nb_epochs': 100, 'optimizer': 'rmsprop', 'units1': 589, 'units2': 410}\n",
      " 44%|█████████████████████▌                           | 44/100 [43:50<47:11, 50.57s/it, best loss: -0.9956947555902704]"
     ]
    },
    {
     "name": "stderr",
     "output_type": "stream",
     "text": [
      "C:\\Users\\And\\.conda\\envs\\proba\\lib\\site-packages\\ipykernel_launcher.py:5: UserWarning: Update your `Dense` call to the Keras 2 API: `Dense(input_dim=784, units=589)`\n",
      "  \"\"\"\n",
      "\n",
      "C:\\Users\\And\\.conda\\envs\\proba\\lib\\site-packages\\ipykernel_launcher.py:9: UserWarning: Update your `Dense` call to the Keras 2 API: `Dense(units=410, kernel_initializer=\"glorot_uniform\")`\n",
      "  if __name__ == '__main__':\n",
      "\n",
      "C:\\Users\\And\\.conda\\envs\\proba\\lib\\site-packages\\ipykernel_launcher.py:14: UserWarning: Update your `Dense` call to the Keras 2 API: `Dense(units=688, kernel_initializer=\"glorot_uniform\")`\n",
      "  \n",
      "\n",
      "C:\\Users\\And\\.conda\\envs\\proba\\lib\\site-packages\\ipykernel_launcher.py:22: UserWarning: The `nb_epoch` argument in `fit` has been renamed `epochs`.\n",
      "\n"
     ]
    },
    {
     "name": "stdout",
     "output_type": "stream",
     "text": [
      "AUC:                                                                                                                   \n",
      "0.9944631493773638                                                                                                     \n",
      "Score:                                                                                                                 \n",
      "[0.0708103431109238, 0.9865420587231543]                                                                               \n",
      "Params:                                                                                                                \n",
      "{'activation': 'relu', 'batch_size': 177, 'choice': {'dropout3': 0.4816280348271237, 'layers': 'three', 'units3': 444}, 'dropout1': 0.5316689701735273, 'dropout2': 0.318252232868418, 'nb_epochs': 100, 'optimizer': 'adam', 'units1': 683, 'units2': 549}\n",
      " 45%|██████████████████████                           | 45/100 [44:43<47:02, 51.33s/it, best loss: -0.9956947555902704]"
     ]
    },
    {
     "name": "stderr",
     "output_type": "stream",
     "text": [
      "C:\\Users\\And\\.conda\\envs\\proba\\lib\\site-packages\\ipykernel_launcher.py:5: UserWarning: Update your `Dense` call to the Keras 2 API: `Dense(input_dim=784, units=683)`\n",
      "  \"\"\"\n",
      "\n",
      "C:\\Users\\And\\.conda\\envs\\proba\\lib\\site-packages\\ipykernel_launcher.py:9: UserWarning: Update your `Dense` call to the Keras 2 API: `Dense(units=549, kernel_initializer=\"glorot_uniform\")`\n",
      "  if __name__ == '__main__':\n",
      "\n",
      "C:\\Users\\And\\.conda\\envs\\proba\\lib\\site-packages\\ipykernel_launcher.py:14: UserWarning: Update your `Dense` call to the Keras 2 API: `Dense(units=444, kernel_initializer=\"glorot_uniform\")`\n",
      "  \n",
      "\n",
      "C:\\Users\\And\\.conda\\envs\\proba\\lib\\site-packages\\ipykernel_launcher.py:22: UserWarning: The `nb_epoch` argument in `fit` has been renamed `epochs`.\n",
      "\n"
     ]
    },
    {
     "name": "stdout",
     "output_type": "stream",
     "text": [
      "AUC:                                                                                                                   \n",
      "0.995587294901277                                                                                                      \n",
      "Score:                                                                                                                 \n",
      "[0.05169285818557062, 0.9864886534707409]                                                                              \n",
      "Params:                                                                                                                \n",
      "{'activation': 'relu', 'batch_size': 184, 'choice': {'dropout3': 0.47749031660477165, 'layers': 'three', 'units3': 440}, 'dropout1': 0.6403737326388793, 'dropout2': 0.2610373769209936, 'nb_epochs': 100, 'optimizer': 'adam', 'units1': 761, 'units2': 868}\n",
      " 46%|██████████████████████▌                          | 46/100 [45:31<45:11, 50.22s/it, best loss: -0.9956947555902704]"
     ]
    },
    {
     "name": "stderr",
     "output_type": "stream",
     "text": [
      "C:\\Users\\And\\.conda\\envs\\proba\\lib\\site-packages\\ipykernel_launcher.py:5: UserWarning: Update your `Dense` call to the Keras 2 API: `Dense(input_dim=784, units=761)`\n",
      "  \"\"\"\n",
      "\n",
      "C:\\Users\\And\\.conda\\envs\\proba\\lib\\site-packages\\ipykernel_launcher.py:9: UserWarning: Update your `Dense` call to the Keras 2 API: `Dense(units=868, kernel_initializer=\"glorot_uniform\")`\n",
      "  if __name__ == '__main__':\n",
      "\n",
      "C:\\Users\\And\\.conda\\envs\\proba\\lib\\site-packages\\ipykernel_launcher.py:14: UserWarning: Update your `Dense` call to the Keras 2 API: `Dense(units=440, kernel_initializer=\"glorot_uniform\")`\n",
      "  \n",
      "\n",
      "C:\\Users\\And\\.conda\\envs\\proba\\lib\\site-packages\\ipykernel_launcher.py:22: UserWarning: The `nb_epoch` argument in `fit` has been renamed `epochs`.\n",
      "\n"
     ]
    },
    {
     "name": "stdout",
     "output_type": "stream",
     "text": [
      "AUC:                                                                                                                   \n",
      "0.9957429647636777                                                                                                     \n",
      "Score:                                                                                                                 \n",
      "[0.04591996370327009, 0.987556745786374]                                                                               \n",
      "Params:                                                                                                                \n",
      "{'activation': 'relu', 'batch_size': 230, 'choice': {'dropout3': 0.553807029060355, 'layers': 'three', 'units3': 594}, 'dropout1': 0.648152353644198, 'dropout2': 0.262352697056564, 'nb_epochs': 100, 'optimizer': 'adadelta', 'units1': 763, 'units2': 875}\n",
      " 47%|███████████████████████                          | 47/100 [46:22<44:30, 50.39s/it, best loss: -0.9957429647636777]"
     ]
    },
    {
     "name": "stderr",
     "output_type": "stream",
     "text": [
      "C:\\Users\\And\\.conda\\envs\\proba\\lib\\site-packages\\ipykernel_launcher.py:5: UserWarning: Update your `Dense` call to the Keras 2 API: `Dense(input_dim=784, units=763)`\n",
      "  \"\"\"\n",
      "\n",
      "C:\\Users\\And\\.conda\\envs\\proba\\lib\\site-packages\\ipykernel_launcher.py:9: UserWarning: Update your `Dense` call to the Keras 2 API: `Dense(units=875, kernel_initializer=\"glorot_uniform\")`\n",
      "  if __name__ == '__main__':\n",
      "\n",
      "C:\\Users\\And\\.conda\\envs\\proba\\lib\\site-packages\\ipykernel_launcher.py:14: UserWarning: Update your `Dense` call to the Keras 2 API: `Dense(units=594, kernel_initializer=\"glorot_uniform\")`\n",
      "  \n",
      "\n",
      "C:\\Users\\And\\.conda\\envs\\proba\\lib\\site-packages\\ipykernel_launcher.py:22: UserWarning: The `nb_epoch` argument in `fit` has been renamed `epochs`.\n",
      "\n"
     ]
    },
    {
     "name": "stdout",
     "output_type": "stream",
     "text": [
      "AUC:                                                                                                                   \n",
      "0.9828078980625141                                                                                                     \n",
      "Score:                                                                                                                 \n",
      "[0.07656717324487676, 0.9764486009829513]                                                                              \n",
      "Params:                                                                                                                \n",
      "{'activation': 'relu', 'batch_size': 242, 'choice': {'dropout3': 0.43563387450734653, 'layers': 'three', 'units3': 255}, 'dropout1': 0.7221100219209222, 'dropout2': 0.6633877656152047, 'nb_epochs': 100, 'optimizer': 'rmsprop', 'units1': 568, 'units2': 1007}\n",
      " 48%|███████████████████████▌                         | 48/100 [47:10<43:04, 49.71s/it, best loss: -0.9957429647636777]"
     ]
    },
    {
     "name": "stderr",
     "output_type": "stream",
     "text": [
      "C:\\Users\\And\\.conda\\envs\\proba\\lib\\site-packages\\ipykernel_launcher.py:5: UserWarning: Update your `Dense` call to the Keras 2 API: `Dense(input_dim=784, units=568)`\n",
      "  \"\"\"\n",
      "\n",
      "C:\\Users\\And\\.conda\\envs\\proba\\lib\\site-packages\\ipykernel_launcher.py:9: UserWarning: Update your `Dense` call to the Keras 2 API: `Dense(units=1007, kernel_initializer=\"glorot_uniform\")`\n",
      "  if __name__ == '__main__':\n",
      "\n",
      "C:\\Users\\And\\.conda\\envs\\proba\\lib\\site-packages\\ipykernel_launcher.py:14: UserWarning: Update your `Dense` call to the Keras 2 API: `Dense(units=255, kernel_initializer=\"glorot_uniform\")`\n",
      "  \n",
      "\n",
      "C:\\Users\\And\\.conda\\envs\\proba\\lib\\site-packages\\ipykernel_launcher.py:22: UserWarning: The `nb_epoch` argument in `fit` has been renamed `epochs`.\n",
      "\n"
     ]
    },
    {
     "name": "stdout",
     "output_type": "stream",
     "text": [
      "AUC:                                                                                                                   \n",
      "0.9946055989889034                                                                                                     \n",
      "Score:                                                                                                                 \n",
      "[0.05315783139042266, 0.9861415211126228]                                                                              \n",
      "Params:                                                                                                                \n",
      "{'activation': 'relu', 'batch_size': 221, 'choice': {'dropout3': 0.6050116638058214, 'layers': 'three', 'units3': 730}, 'dropout1': 0.7135339303349257, 'dropout2': 0.27918714447408954, 'nb_epochs': 100, 'optimizer': 'adam', 'units1': 507, 'units2': 632}\n",
      " 49%|████████████████████████                         | 49/100 [47:49<39:27, 46.43s/it, best loss: -0.9957429647636777]"
     ]
    },
    {
     "name": "stderr",
     "output_type": "stream",
     "text": [
      "C:\\Users\\And\\.conda\\envs\\proba\\lib\\site-packages\\ipykernel_launcher.py:5: UserWarning: Update your `Dense` call to the Keras 2 API: `Dense(input_dim=784, units=507)`\n",
      "  \"\"\"\n",
      "\n",
      "C:\\Users\\And\\.conda\\envs\\proba\\lib\\site-packages\\ipykernel_launcher.py:9: UserWarning: Update your `Dense` call to the Keras 2 API: `Dense(units=632, kernel_initializer=\"glorot_uniform\")`\n",
      "  if __name__ == '__main__':\n",
      "\n",
      "C:\\Users\\And\\.conda\\envs\\proba\\lib\\site-packages\\ipykernel_launcher.py:14: UserWarning: Update your `Dense` call to the Keras 2 API: `Dense(units=730, kernel_initializer=\"glorot_uniform\")`\n",
      "  \n",
      "\n",
      "C:\\Users\\And\\.conda\\envs\\proba\\lib\\site-packages\\ipykernel_launcher.py:22: UserWarning: The `nb_epoch` argument in `fit` has been renamed `epochs`.\n",
      "\n"
     ]
    },
    {
     "name": "stdout",
     "output_type": "stream",
     "text": [
      "AUC:                                                                                                                   \n",
      "0.9953872074685053                                                                                                     \n",
      "Score:                                                                                                                 \n",
      "[0.046213784559756686, 0.9865420582138489]                                                                             \n",
      "Params:                                                                                                                \n",
      "{'activation': 'relu', 'batch_size': 188, 'choice': {'dropout3': 0.4951996932151504, 'layers': 'three', 'units3': 447}, 'dropout1': 0.5675544122339211, 'dropout2': 0.6389735531347157, 'nb_epochs': 100, 'optimizer': 'rmsprop', 'units1': 436, 'units2': 762}\n",
      " 50%|████████████████████████▌                        | 50/100 [48:32<37:47, 45.35s/it, best loss: -0.9957429647636777]"
     ]
    },
    {
     "name": "stderr",
     "output_type": "stream",
     "text": [
      "C:\\Users\\And\\.conda\\envs\\proba\\lib\\site-packages\\ipykernel_launcher.py:5: UserWarning: Update your `Dense` call to the Keras 2 API: `Dense(input_dim=784, units=436)`\n",
      "  \"\"\"\n",
      "\n",
      "C:\\Users\\And\\.conda\\envs\\proba\\lib\\site-packages\\ipykernel_launcher.py:9: UserWarning: Update your `Dense` call to the Keras 2 API: `Dense(units=762, kernel_initializer=\"glorot_uniform\")`\n",
      "  if __name__ == '__main__':\n",
      "\n",
      "C:\\Users\\And\\.conda\\envs\\proba\\lib\\site-packages\\ipykernel_launcher.py:14: UserWarning: Update your `Dense` call to the Keras 2 API: `Dense(units=447, kernel_initializer=\"glorot_uniform\")`\n",
      "  \n",
      "\n",
      "C:\\Users\\And\\.conda\\envs\\proba\\lib\\site-packages\\ipykernel_launcher.py:22: UserWarning: The `nb_epoch` argument in `fit` has been renamed `epochs`.\n",
      "\n"
     ]
    },
    {
     "name": "stdout",
     "output_type": "stream",
     "text": [
      "AUC:                                                                                                                   \n",
      "0.9945405947660287                                                                                                     \n",
      "Score:                                                                                                                 \n",
      "[0.06390530638128744, 0.985500669797686]                                                                               \n",
      "Params:                                                                                                                \n",
      "{'activation': 'relu', 'batch_size': 139, 'choice': {'dropout3': 0.38926570940318406, 'layers': 'three', 'units3': 895}, 'dropout1': 0.6069976418619728, 'dropout2': 0.34159619680601716, 'nb_epochs': 100, 'optimizer': 'adam', 'units1': 368, 'units2': 902}\n",
      " 51%|████████████████████████▉                        | 51/100 [49:16<36:49, 45.10s/it, best loss: -0.9957429647636777]"
     ]
    },
    {
     "name": "stderr",
     "output_type": "stream",
     "text": [
      "C:\\Users\\And\\.conda\\envs\\proba\\lib\\site-packages\\ipykernel_launcher.py:5: UserWarning: Update your `Dense` call to the Keras 2 API: `Dense(input_dim=784, units=368)`\n",
      "  \"\"\"\n",
      "\n",
      "C:\\Users\\And\\.conda\\envs\\proba\\lib\\site-packages\\ipykernel_launcher.py:9: UserWarning: Update your `Dense` call to the Keras 2 API: `Dense(units=902, kernel_initializer=\"glorot_uniform\")`\n",
      "  if __name__ == '__main__':\n",
      "\n",
      "C:\\Users\\And\\.conda\\envs\\proba\\lib\\site-packages\\ipykernel_launcher.py:14: UserWarning: Update your `Dense` call to the Keras 2 API: `Dense(units=895, kernel_initializer=\"glorot_uniform\")`\n",
      "  \n",
      "\n",
      "C:\\Users\\And\\.conda\\envs\\proba\\lib\\site-packages\\ipykernel_launcher.py:22: UserWarning: The `nb_epoch` argument in `fit` has been renamed `epochs`.\n",
      "\n"
     ]
    },
    {
     "name": "stdout",
     "output_type": "stream",
     "text": [
      "AUC:                                                                                                                   \n",
      "0.9957883374361252                                                                                                     \n",
      "Score:                                                                                                                 \n",
      "[0.04669920566778119, 0.9870226978459886]                                                                              \n",
      "Params:                                                                                                                \n",
      "{'activation': 'relu', 'batch_size': 136, 'choice': {'dropout3': 0.38072238708680234, 'layers': 'three', 'units3': 515}, 'dropout1': 0.5950416486642757, 'dropout2': 0.34255436638121645, 'nb_epochs': 100, 'optimizer': 'adadelta', 'units1': 81, 'units2': 877}\n",
      " 52%|█████████████████████████▍                       | 52/100 [50:16<39:31, 49.40s/it, best loss: -0.9957883374361252]"
     ]
    },
    {
     "name": "stderr",
     "output_type": "stream",
     "text": [
      "C:\\Users\\And\\.conda\\envs\\proba\\lib\\site-packages\\ipykernel_launcher.py:5: UserWarning: Update your `Dense` call to the Keras 2 API: `Dense(input_dim=784, units=81)`\n",
      "  \"\"\"\n",
      "\n",
      "C:\\Users\\And\\.conda\\envs\\proba\\lib\\site-packages\\ipykernel_launcher.py:9: UserWarning: Update your `Dense` call to the Keras 2 API: `Dense(units=877, kernel_initializer=\"glorot_uniform\")`\n",
      "  if __name__ == '__main__':\n",
      "\n",
      "C:\\Users\\And\\.conda\\envs\\proba\\lib\\site-packages\\ipykernel_launcher.py:14: UserWarning: Update your `Dense` call to the Keras 2 API: `Dense(units=515, kernel_initializer=\"glorot_uniform\")`\n",
      "  \n",
      "\n",
      "C:\\Users\\And\\.conda\\envs\\proba\\lib\\site-packages\\ipykernel_launcher.py:22: UserWarning: The `nb_epoch` argument in `fit` has been renamed `epochs`.\n",
      "\n"
     ]
    },
    {
     "name": "stdout",
     "output_type": "stream",
     "text": [
      "AUC:                                                                                                                   \n",
      "0.9860004149419341                                                                                                     \n",
      "Score:                                                                                                                 \n",
      "[0.0681510131870793, 0.9800801097630499]                                                                               \n",
      "Params:                                                                                                                \n",
      "{'activation': 'relu', 'batch_size': 204, 'choice': {'dropout3': 0.31920727383392383, 'layers': 'three', 'units3': 75}, 'dropout1': 0.7499206936292186, 'dropout2': 0.5323347459341572, 'nb_epochs': 100, 'optimizer': 'adam', 'units1': 359, 'units2': 951}\n",
      " 53%|█████████████████████████▉                       | 53/100 [51:10<39:47, 50.80s/it, best loss: -0.9957883374361252]"
     ]
    },
    {
     "name": "stderr",
     "output_type": "stream",
     "text": [
      "C:\\Users\\And\\.conda\\envs\\proba\\lib\\site-packages\\ipykernel_launcher.py:5: UserWarning: Update your `Dense` call to the Keras 2 API: `Dense(input_dim=784, units=359)`\n",
      "  \"\"\"\n",
      "\n",
      "C:\\Users\\And\\.conda\\envs\\proba\\lib\\site-packages\\ipykernel_launcher.py:9: UserWarning: Update your `Dense` call to the Keras 2 API: `Dense(units=951, kernel_initializer=\"glorot_uniform\")`\n",
      "  if __name__ == '__main__':\n",
      "\n",
      "C:\\Users\\And\\.conda\\envs\\proba\\lib\\site-packages\\ipykernel_launcher.py:14: UserWarning: Update your `Dense` call to the Keras 2 API: `Dense(units=75, kernel_initializer=\"glorot_uniform\")`\n",
      "  \n",
      "\n",
      "C:\\Users\\And\\.conda\\envs\\proba\\lib\\site-packages\\ipykernel_launcher.py:22: UserWarning: The `nb_epoch` argument in `fit` has been renamed `epochs`.\n",
      "\n"
     ]
    },
    {
     "name": "stdout",
     "output_type": "stream",
     "text": [
      "AUC:                                                                                                                   \n",
      "0.9948398580813149                                                                                                     \n",
      "Score:                                                                                                                 \n",
      "[0.04583511363111252, 0.9858745004529151]                                                                              \n",
      "Params:                                                                                                                \n",
      "{'activation': 'relu', 'batch_size': 186, 'choice': {'dropout3': 0.2807622588581259, 'layers': 'three', 'units3': 888}, 'dropout1': 0.6317074167862146, 'dropout2': 0.4234660236063751, 'nb_epochs': 100, 'optimizer': 'rmsprop', 'units1': 248, 'units2': 990}\n",
      " 54%|██████████████████████████▍                      | 54/100 [51:53<37:09, 48.48s/it, best loss: -0.9957883374361252]"
     ]
    },
    {
     "name": "stderr",
     "output_type": "stream",
     "text": [
      "C:\\Users\\And\\.conda\\envs\\proba\\lib\\site-packages\\ipykernel_launcher.py:5: UserWarning: Update your `Dense` call to the Keras 2 API: `Dense(input_dim=784, units=248)`\n",
      "  \"\"\"\n",
      "\n",
      "C:\\Users\\And\\.conda\\envs\\proba\\lib\\site-packages\\ipykernel_launcher.py:9: UserWarning: Update your `Dense` call to the Keras 2 API: `Dense(units=990, kernel_initializer=\"glorot_uniform\")`\n",
      "  if __name__ == '__main__':\n",
      "\n",
      "C:\\Users\\And\\.conda\\envs\\proba\\lib\\site-packages\\ipykernel_launcher.py:14: UserWarning: Update your `Dense` call to the Keras 2 API: `Dense(units=888, kernel_initializer=\"glorot_uniform\")`\n",
      "  \n",
      "\n",
      "C:\\Users\\And\\.conda\\envs\\proba\\lib\\site-packages\\ipykernel_launcher.py:22: UserWarning: The `nb_epoch` argument in `fit` has been renamed `epochs`.\n",
      "\n"
     ]
    },
    {
     "name": "stdout",
     "output_type": "stream",
     "text": [
      "AUC:                                                                                                                   \n",
      "0.995038367729413                                                                                                      \n",
      "Score:                                                                                                                 \n",
      "[0.05406273522372729, 0.9856875853799533]                                                                              \n",
      "Params:                                                                                                                \n",
      "{'activation': 'relu', 'batch_size': 143, 'choice': {'dropout3': 0.3930069633116064, 'layers': 'three', 'units3': 351}, 'dropout1': 0.6870779252196534, 'dropout2': 0.3110972611132815, 'nb_epochs': 100, 'optimizer': 'adam', 'units1': 293, 'units2': 816}\n",
      " 55%|██████████████████████████▉                      | 55/100 [52:41<36:14, 48.31s/it, best loss: -0.9957883374361252]"
     ]
    },
    {
     "name": "stderr",
     "output_type": "stream",
     "text": [
      "C:\\Users\\And\\.conda\\envs\\proba\\lib\\site-packages\\ipykernel_launcher.py:5: UserWarning: Update your `Dense` call to the Keras 2 API: `Dense(input_dim=784, units=293)`\n",
      "  \"\"\"\n",
      "\n",
      "C:\\Users\\And\\.conda\\envs\\proba\\lib\\site-packages\\ipykernel_launcher.py:9: UserWarning: Update your `Dense` call to the Keras 2 API: `Dense(units=816, kernel_initializer=\"glorot_uniform\")`\n",
      "  if __name__ == '__main__':\n",
      "\n",
      "C:\\Users\\And\\.conda\\envs\\proba\\lib\\site-packages\\ipykernel_launcher.py:14: UserWarning: Update your `Dense` call to the Keras 2 API: `Dense(units=351, kernel_initializer=\"glorot_uniform\")`\n",
      "  \n",
      "\n",
      "C:\\Users\\And\\.conda\\envs\\proba\\lib\\site-packages\\ipykernel_launcher.py:22: UserWarning: The `nb_epoch` argument in `fit` has been renamed `epochs`.\n",
      "\n"
     ]
    },
    {
     "name": "stdout",
     "output_type": "stream",
     "text": [
      "AUC:                                                                                                                   \n",
      "0.9952591172480465                                                                                                     \n",
      "Score:                                                                                                                 \n",
      "[0.04601556880303841, 0.9861949304394793]                                                                              \n",
      "Params:                                                                                                                \n",
      "{'activation': 'relu', 'batch_size': 212, 'choice': {'dropout3': 0.45606358839871736, 'layers': 'three', 'units3': 406}, 'dropout1': 0.6575940688160904, 'dropout2': 0.37497930460362594, 'nb_epochs': 100, 'optimizer': 'adam', 'units1': 817, 'units2': 900}\n",
      " 56%|███████████████████████████▍                     | 56/100 [53:38<37:29, 51.12s/it, best loss: -0.9957883374361252]"
     ]
    },
    {
     "name": "stderr",
     "output_type": "stream",
     "text": [
      "C:\\Users\\And\\.conda\\envs\\proba\\lib\\site-packages\\ipykernel_launcher.py:5: UserWarning: Update your `Dense` call to the Keras 2 API: `Dense(input_dim=784, units=817)`\n",
      "  \"\"\"\n",
      "\n",
      "C:\\Users\\And\\.conda\\envs\\proba\\lib\\site-packages\\ipykernel_launcher.py:9: UserWarning: Update your `Dense` call to the Keras 2 API: `Dense(units=900, kernel_initializer=\"glorot_uniform\")`\n",
      "  if __name__ == '__main__':\n",
      "\n",
      "C:\\Users\\And\\.conda\\envs\\proba\\lib\\site-packages\\ipykernel_launcher.py:14: UserWarning: Update your `Dense` call to the Keras 2 API: `Dense(units=406, kernel_initializer=\"glorot_uniform\")`\n",
      "  \n",
      "\n",
      "C:\\Users\\And\\.conda\\envs\\proba\\lib\\site-packages\\ipykernel_launcher.py:22: UserWarning: The `nb_epoch` argument in `fit` has been renamed `epochs`.\n",
      "\n"
     ]
    },
    {
     "name": "stdout",
     "output_type": "stream",
     "text": [
      "AUC:                                                                                                                   \n",
      "0.9957500673451738                                                                                                     \n",
      "Score:                                                                                                                 \n",
      "[0.046178458750920026, 0.9870494012361534]                                                                             \n",
      "Params:                                                                                                                \n",
      "{'activation': 'relu', 'batch_size': 249, 'choice': {'dropout3': 0.45883458097504376, 'layers': 'three', 'units3': 279}, 'dropout1': 0.7034489721081608, 'dropout2': 0.45675412868350207, 'nb_epochs': 100, 'optimizer': 'adadelta', 'units1': 177, 'units2': 761}\n",
      " 57%|███████████████████████████▉                     | 57/100 [54:27<36:13, 50.54s/it, best loss: -0.9957883374361252]"
     ]
    },
    {
     "name": "stderr",
     "output_type": "stream",
     "text": [
      "C:\\Users\\And\\.conda\\envs\\proba\\lib\\site-packages\\ipykernel_launcher.py:5: UserWarning: Update your `Dense` call to the Keras 2 API: `Dense(input_dim=784, units=177)`\n",
      "  \"\"\"\n",
      "\n",
      "C:\\Users\\And\\.conda\\envs\\proba\\lib\\site-packages\\ipykernel_launcher.py:9: UserWarning: Update your `Dense` call to the Keras 2 API: `Dense(units=761, kernel_initializer=\"glorot_uniform\")`\n",
      "  if __name__ == '__main__':\n",
      "\n",
      "C:\\Users\\And\\.conda\\envs\\proba\\lib\\site-packages\\ipykernel_launcher.py:14: UserWarning: Update your `Dense` call to the Keras 2 API: `Dense(units=279, kernel_initializer=\"glorot_uniform\")`\n",
      "  \n",
      "\n",
      "C:\\Users\\And\\.conda\\envs\\proba\\lib\\site-packages\\ipykernel_launcher.py:22: UserWarning: The `nb_epoch` argument in `fit` has been renamed `epochs`.\n",
      "\n"
     ]
    },
    {
     "name": "stdout",
     "output_type": "stream",
     "text": [
      "AUC:                                                                                                                   \n",
      "0.9717736137477602                                                                                                     \n",
      "Score:                                                                                                                 \n",
      "[0.10688392216058694, 0.9635781052593236]                                                                              \n",
      "Params:                                                                                                                \n",
      "{'activation': 'relu', 'batch_size': 124, 'choice': {'dropout3': 0.4139478768626574, 'layers': 'three', 'units3': 128}, 'dropout1': 0.6600127078975088, 'dropout2': 0.38109554445459953, 'nb_epochs': 100, 'optimizer': 'rmsprop', 'units1': 638, 'units2': 917}\n",
      " 58%|████████████████████████████▍                    | 58/100 [55:06<32:53, 47.00s/it, best loss: -0.9957883374361252]"
     ]
    },
    {
     "name": "stderr",
     "output_type": "stream",
     "text": [
      "C:\\Users\\And\\.conda\\envs\\proba\\lib\\site-packages\\ipykernel_launcher.py:5: UserWarning: Update your `Dense` call to the Keras 2 API: `Dense(input_dim=784, units=638)`\n",
      "  \"\"\"\n",
      "\n",
      "C:\\Users\\And\\.conda\\envs\\proba\\lib\\site-packages\\ipykernel_launcher.py:9: UserWarning: Update your `Dense` call to the Keras 2 API: `Dense(units=917, kernel_initializer=\"glorot_uniform\")`\n",
      "  if __name__ == '__main__':\n",
      "\n",
      "C:\\Users\\And\\.conda\\envs\\proba\\lib\\site-packages\\ipykernel_launcher.py:14: UserWarning: Update your `Dense` call to the Keras 2 API: `Dense(units=128, kernel_initializer=\"glorot_uniform\")`\n",
      "  \n",
      "\n",
      "C:\\Users\\And\\.conda\\envs\\proba\\lib\\site-packages\\ipykernel_launcher.py:22: UserWarning: The `nb_epoch` argument in `fit` has been renamed `epochs`.\n",
      "\n"
     ]
    },
    {
     "name": "stdout",
     "output_type": "stream",
     "text": [
      "AUC:                                                                                                                   \n",
      "0.99407857522536                                                                                                       \n",
      "Score:                                                                                                                 \n",
      "[0.06436454544241138, 0.9857676940225314]                                                                              \n",
      "Params:                                                                                                                \n",
      "{'activation': 'relu', 'batch_size': 212, 'choice': {'dropout3': 0.3684751511131135, 'layers': 'three', 'units3': 387}, 'dropout1': 0.6143882615310146, 'dropout2': 0.4911435738164209, 'nb_epochs': 100, 'optimizer': 'adam', 'units1': 825, 'units2': 717}\n",
      " 59%|████████████████████████████▉                    | 59/100 [56:09<35:24, 51.81s/it, best loss: -0.9957883374361252]"
     ]
    },
    {
     "name": "stderr",
     "output_type": "stream",
     "text": [
      "C:\\Users\\And\\.conda\\envs\\proba\\lib\\site-packages\\ipykernel_launcher.py:5: UserWarning: Update your `Dense` call to the Keras 2 API: `Dense(input_dim=784, units=825)`\n",
      "  \"\"\"\n",
      "\n",
      "C:\\Users\\And\\.conda\\envs\\proba\\lib\\site-packages\\ipykernel_launcher.py:9: UserWarning: Update your `Dense` call to the Keras 2 API: `Dense(units=717, kernel_initializer=\"glorot_uniform\")`\n",
      "  if __name__ == '__main__':\n",
      "\n",
      "C:\\Users\\And\\.conda\\envs\\proba\\lib\\site-packages\\ipykernel_launcher.py:14: UserWarning: Update your `Dense` call to the Keras 2 API: `Dense(units=387, kernel_initializer=\"glorot_uniform\")`\n",
      "  \n",
      "\n",
      "C:\\Users\\And\\.conda\\envs\\proba\\lib\\site-packages\\ipykernel_launcher.py:22: UserWarning: The `nb_epoch` argument in `fit` has been renamed `epochs`.\n",
      "\n"
     ]
    },
    {
     "name": "stdout",
     "output_type": "stream",
     "text": [
      "AUC:                                                                                                                   \n",
      "0.9952785989364156                                                                                                     \n",
      "Score:                                                                                                                 \n",
      "[0.0544182210799135, 0.9867823785392241]                                                                               \n",
      "Params:                                                                                                                \n",
      "{'activation': 'relu', 'batch_size': 195, 'choice': {'dropout3': 0.5176671123446814, 'layers': 'three', 'units3': 859}, 'dropout1': 0.5890459169558294, 'dropout2': 0.5756422592647041, 'nb_epochs': 100, 'optimizer': 'adam', 'units1': 468, 'units2': 850}\n",
      " 60%|█████████████████████████████▍                   | 60/100 [56:55<33:15, 49.88s/it, best loss: -0.9957883374361252]"
     ]
    },
    {
     "name": "stderr",
     "output_type": "stream",
     "text": [
      "C:\\Users\\And\\.conda\\envs\\proba\\lib\\site-packages\\ipykernel_launcher.py:5: UserWarning: Update your `Dense` call to the Keras 2 API: `Dense(input_dim=784, units=468)`\n",
      "  \"\"\"\n",
      "\n",
      "C:\\Users\\And\\.conda\\envs\\proba\\lib\\site-packages\\ipykernel_launcher.py:9: UserWarning: Update your `Dense` call to the Keras 2 API: `Dense(units=850, kernel_initializer=\"glorot_uniform\")`\n",
      "  if __name__ == '__main__':\n",
      "\n",
      "C:\\Users\\And\\.conda\\envs\\proba\\lib\\site-packages\\ipykernel_launcher.py:14: UserWarning: Update your `Dense` call to the Keras 2 API: `Dense(units=859, kernel_initializer=\"glorot_uniform\")`\n",
      "  \n",
      "\n",
      "C:\\Users\\And\\.conda\\envs\\proba\\lib\\site-packages\\ipykernel_launcher.py:22: UserWarning: The `nb_epoch` argument in `fit` has been renamed `epochs`.\n",
      "\n"
     ]
    },
    {
     "name": "stdout",
     "output_type": "stream",
     "text": [
      "AUC:                                                                                                                   \n",
      "0.9956223156966058                                                                                                     \n",
      "Score:                                                                                                                 \n",
      "[0.05021615049132107, 0.9867823815950564]                                                                              \n",
      "Params:                                                                                                                \n",
      "{'activation': 'relu', 'batch_size': 164, 'choice': {'dropout3': 0.3463663478464305, 'layers': 'three', 'units3': 630}, 'dropout1': 0.7341277311739184, 'dropout2': 0.40382383673725447, 'nb_epochs': 100, 'optimizer': 'adam', 'units1': 888, 'units2': 978}\n",
      " 61%|█████████████████████████████▉                   | 61/100 [57:46<32:38, 50.22s/it, best loss: -0.9957883374361252]"
     ]
    },
    {
     "name": "stderr",
     "output_type": "stream",
     "text": [
      "C:\\Users\\And\\.conda\\envs\\proba\\lib\\site-packages\\ipykernel_launcher.py:5: UserWarning: Update your `Dense` call to the Keras 2 API: `Dense(input_dim=784, units=888)`\n",
      "  \"\"\"\n",
      "\n",
      "C:\\Users\\And\\.conda\\envs\\proba\\lib\\site-packages\\ipykernel_launcher.py:9: UserWarning: Update your `Dense` call to the Keras 2 API: `Dense(units=978, kernel_initializer=\"glorot_uniform\")`\n",
      "  if __name__ == '__main__':\n",
      "\n",
      "C:\\Users\\And\\.conda\\envs\\proba\\lib\\site-packages\\ipykernel_launcher.py:14: UserWarning: Update your `Dense` call to the Keras 2 API: `Dense(units=630, kernel_initializer=\"glorot_uniform\")`\n",
      "  \n",
      "\n",
      "C:\\Users\\And\\.conda\\envs\\proba\\lib\\site-packages\\ipykernel_launcher.py:22: UserWarning: The `nb_epoch` argument in `fit` has been renamed `epochs`.\n",
      "\n"
     ]
    },
    {
     "name": "stdout",
     "output_type": "stream",
     "text": [
      "AUC:                                                                                                                   \n",
      "0.9960467140488285                                                                                                     \n",
      "Score:                                                                                                                 \n",
      "[0.04239528328749567, 0.987690257644144]                                                                               \n",
      "Params:                                                                                                                \n",
      "{'activation': 'relu', 'batch_size': 108, 'choice': {'dropout3': 0.2693747881957692, 'layers': 'three', 'units3': 998}, 'dropout1': 0.7321924105166422, 'dropout2': 0.5215632073259162, 'nb_epochs': 100, 'optimizer': 'adam', 'units1': 560, 'units2': 973}\n",
      " 62%|██████████████████████████████▍                  | 62/100 [58:48<34:05, 53.82s/it, best loss: -0.9960467140488285]"
     ]
    },
    {
     "name": "stderr",
     "output_type": "stream",
     "text": [
      "C:\\Users\\And\\.conda\\envs\\proba\\lib\\site-packages\\ipykernel_launcher.py:5: UserWarning: Update your `Dense` call to the Keras 2 API: `Dense(input_dim=784, units=560)`\n",
      "  \"\"\"\n",
      "\n",
      "C:\\Users\\And\\.conda\\envs\\proba\\lib\\site-packages\\ipykernel_launcher.py:9: UserWarning: Update your `Dense` call to the Keras 2 API: `Dense(units=973, kernel_initializer=\"glorot_uniform\")`\n",
      "  if __name__ == '__main__':\n",
      "\n",
      "C:\\Users\\And\\.conda\\envs\\proba\\lib\\site-packages\\ipykernel_launcher.py:14: UserWarning: Update your `Dense` call to the Keras 2 API: `Dense(units=998, kernel_initializer=\"glorot_uniform\")`\n",
      "  \n",
      "\n",
      "C:\\Users\\And\\.conda\\envs\\proba\\lib\\site-packages\\ipykernel_launcher.py:22: UserWarning: The `nb_epoch` argument in `fit` has been renamed `epochs`.\n",
      "\n"
     ]
    },
    {
     "name": "stdout",
     "output_type": "stream",
     "text": [
      "AUC:                                                                                                                   \n",
      "0.9955713416363015                                                                                                     \n",
      "Score:                                                                                                                 \n",
      "[0.044883585468999135, 0.9864886544893516]                                                                             \n",
      "Params:                                                                                                                \n",
      "{'activation': 'relu', 'batch_size': 92, 'choice': {'dropout3': 0.33835579768976287, 'layers': 'three', 'units3': 802}, 'dropout1': 0.5444081255569709, 'dropout2': 0.4711314807433845, 'nb_epochs': 100, 'optimizer': 'rmsprop', 'units1': 506, 'units2': 1016}\n",
      " 63%|█████████████████████████████▌                 | 63/100 [1:00:11<38:35, 62.59s/it, best loss: -0.9960467140488285]"
     ]
    },
    {
     "name": "stderr",
     "output_type": "stream",
     "text": [
      "C:\\Users\\And\\.conda\\envs\\proba\\lib\\site-packages\\ipykernel_launcher.py:5: UserWarning: Update your `Dense` call to the Keras 2 API: `Dense(input_dim=784, units=506)`\n",
      "  \"\"\"\n",
      "\n",
      "C:\\Users\\And\\.conda\\envs\\proba\\lib\\site-packages\\ipykernel_launcher.py:9: UserWarning: Update your `Dense` call to the Keras 2 API: `Dense(units=1016, kernel_initializer=\"glorot_uniform\")`\n",
      "  if __name__ == '__main__':\n",
      "\n",
      "C:\\Users\\And\\.conda\\envs\\proba\\lib\\site-packages\\ipykernel_launcher.py:14: UserWarning: Update your `Dense` call to the Keras 2 API: `Dense(units=802, kernel_initializer=\"glorot_uniform\")`\n",
      "  \n",
      "\n",
      "C:\\Users\\And\\.conda\\envs\\proba\\lib\\site-packages\\ipykernel_launcher.py:22: UserWarning: The `nb_epoch` argument in `fit` has been renamed `epochs`.\n",
      "\n"
     ]
    },
    {
     "name": "stdout",
     "output_type": "stream",
     "text": [
      "AUC:                                                                                                                   \n",
      "0.9941126636127077                                                                                                     \n",
      "Score:                                                                                                                 \n",
      "[0.07396207859984304, 0.9857676950411421]                                                                              \n",
      "Params:                                                                                                                \n",
      "{'activation': 'relu', 'batch_size': 168, 'choice': {'dropout3': 0.2894200865244924, 'layers': 'three', 'units3': 973}, 'dropout1': 0.6200738286795029, 'dropout2': 0.40213013357368216, 'nb_epochs': 100, 'optimizer': 'adam', 'units1': 907, 'units2': 630}\n",
      " 64%|██████████████████████████████                 | 64/100 [1:01:40<42:20, 70.57s/it, best loss: -0.9960467140488285]"
     ]
    },
    {
     "name": "stderr",
     "output_type": "stream",
     "text": [
      "C:\\Users\\And\\.conda\\envs\\proba\\lib\\site-packages\\ipykernel_launcher.py:5: UserWarning: Update your `Dense` call to the Keras 2 API: `Dense(input_dim=784, units=907)`\n",
      "  \"\"\"\n",
      "\n",
      "C:\\Users\\And\\.conda\\envs\\proba\\lib\\site-packages\\ipykernel_launcher.py:9: UserWarning: Update your `Dense` call to the Keras 2 API: `Dense(units=630, kernel_initializer=\"glorot_uniform\")`\n",
      "  if __name__ == '__main__':\n",
      "\n",
      "C:\\Users\\And\\.conda\\envs\\proba\\lib\\site-packages\\ipykernel_launcher.py:14: UserWarning: Update your `Dense` call to the Keras 2 API: `Dense(units=973, kernel_initializer=\"glorot_uniform\")`\n",
      "  \n",
      "\n",
      "C:\\Users\\And\\.conda\\envs\\proba\\lib\\site-packages\\ipykernel_launcher.py:22: UserWarning: The `nb_epoch` argument in `fit` has been renamed `epochs`.\n",
      "\n"
     ]
    },
    {
     "name": "stdout",
     "output_type": "stream",
     "text": [
      "AUC:                                                                                                                   \n",
      "0.9956627387043021                                                                                                     \n",
      "Score:                                                                                                                 \n",
      "[0.05029063221489145, 0.9866755721088404]                                                                              \n",
      "Params:                                                                                                                \n",
      "{'activation': 'relu', 'batch_size': 165, 'choice': {'dropout3': 0.41569327594058, 'layers': 'three', 'units3': 620}, 'dropout1': 0.6779131134010242, 'dropout2': 0.364944254352156, 'nb_epochs': 100, 'optimizer': 'adam', 'units1': 745, 'units2': 910}\n",
      " 65%|██████████████████████████████▌                | 65/100 [1:02:42<39:33, 67.82s/it, best loss: -0.9960467140488285]"
     ]
    },
    {
     "name": "stderr",
     "output_type": "stream",
     "text": [
      "C:\\Users\\And\\.conda\\envs\\proba\\lib\\site-packages\\ipykernel_launcher.py:5: UserWarning: Update your `Dense` call to the Keras 2 API: `Dense(input_dim=784, units=745)`\n",
      "  \"\"\"\n",
      "\n",
      "C:\\Users\\And\\.conda\\envs\\proba\\lib\\site-packages\\ipykernel_launcher.py:9: UserWarning: Update your `Dense` call to the Keras 2 API: `Dense(units=910, kernel_initializer=\"glorot_uniform\")`\n",
      "  if __name__ == '__main__':\n",
      "\n",
      "C:\\Users\\And\\.conda\\envs\\proba\\lib\\site-packages\\ipykernel_launcher.py:14: UserWarning: Update your `Dense` call to the Keras 2 API: `Dense(units=620, kernel_initializer=\"glorot_uniform\")`\n",
      "  \n",
      "\n",
      "C:\\Users\\And\\.conda\\envs\\proba\\lib\\site-packages\\ipykernel_launcher.py:22: UserWarning: The `nb_epoch` argument in `fit` has been renamed `epochs`.\n",
      "\n"
     ]
    },
    {
     "name": "stdout",
     "output_type": "stream",
     "text": [
      "AUC:                                                                                                                   \n",
      "0.9953853599462619                                                                                                     \n",
      "Score:                                                                                                                 \n",
      "[0.04830754151450003, 0.986435246181106]                                                                               \n",
      "Params:                                                                                                                \n",
      "{'activation': 'relu', 'batch_size': 176, 'choice': {'dropout3': 0.3624448073913671, 'layers': 'three', 'units3': 541}, 'dropout1': 0.7392677600168868, 'dropout2': 0.4408591538832115, 'nb_epochs': 100, 'optimizer': 'adam', 'units1': 1020, 'units2': 792}\n",
      " 66%|███████████████████████████████                | 66/100 [1:03:42<37:13, 65.69s/it, best loss: -0.9960467140488285]"
     ]
    },
    {
     "name": "stderr",
     "output_type": "stream",
     "text": [
      "C:\\Users\\And\\.conda\\envs\\proba\\lib\\site-packages\\ipykernel_launcher.py:5: UserWarning: Update your `Dense` call to the Keras 2 API: `Dense(input_dim=784, units=1020)`\n",
      "  \"\"\"\n",
      "\n",
      "C:\\Users\\And\\.conda\\envs\\proba\\lib\\site-packages\\ipykernel_launcher.py:9: UserWarning: Update your `Dense` call to the Keras 2 API: `Dense(units=792, kernel_initializer=\"glorot_uniform\")`\n",
      "  if __name__ == '__main__':\n",
      "\n",
      "C:\\Users\\And\\.conda\\envs\\proba\\lib\\site-packages\\ipykernel_launcher.py:14: UserWarning: Update your `Dense` call to the Keras 2 API: `Dense(units=541, kernel_initializer=\"glorot_uniform\")`\n",
      "  \n",
      "\n",
      "C:\\Users\\And\\.conda\\envs\\proba\\lib\\site-packages\\ipykernel_launcher.py:22: UserWarning: The `nb_epoch` argument in `fit` has been renamed `epochs`.\n",
      "\n"
     ]
    },
    {
     "name": "stdout",
     "output_type": "stream",
     "text": [
      "AUC:                                                                                                                   \n",
      "0.9955798255829974                                                                                                     \n",
      "Score:                                                                                                                 \n",
      "[0.04637910850689078, 0.987049400726848]                                                                               \n",
      "Params:                                                                                                                \n",
      "{'activation': 'relu', 'batch_size': 154, 'choice': {'dropout3': 0.45049698916711617, 'layers': 'three', 'units3': 289}, 'dropout1': 0.6529730280601271, 'dropout2': 0.415749448700304, 'nb_epochs': 100, 'optimizer': 'adam', 'units1': 979, 'units2': 707}\n",
      " 67%|███████████████████████████████▍               | 67/100 [1:04:44<35:27, 64.46s/it, best loss: -0.9960467140488285]"
     ]
    },
    {
     "name": "stderr",
     "output_type": "stream",
     "text": [
      "C:\\Users\\And\\.conda\\envs\\proba\\lib\\site-packages\\ipykernel_launcher.py:5: UserWarning: Update your `Dense` call to the Keras 2 API: `Dense(input_dim=784, units=979)`\n",
      "  \"\"\"\n",
      "\n",
      "C:\\Users\\And\\.conda\\envs\\proba\\lib\\site-packages\\ipykernel_launcher.py:9: UserWarning: Update your `Dense` call to the Keras 2 API: `Dense(units=707, kernel_initializer=\"glorot_uniform\")`\n",
      "  if __name__ == '__main__':\n",
      "\n",
      "C:\\Users\\And\\.conda\\envs\\proba\\lib\\site-packages\\ipykernel_launcher.py:14: UserWarning: Update your `Dense` call to the Keras 2 API: `Dense(units=289, kernel_initializer=\"glorot_uniform\")`\n",
      "  \n",
      "\n",
      "C:\\Users\\And\\.conda\\envs\\proba\\lib\\site-packages\\ipykernel_launcher.py:22: UserWarning: The `nb_epoch` argument in `fit` has been renamed `epochs`.\n",
      "\n"
     ]
    },
    {
     "name": "stdout",
     "output_type": "stream",
     "text": [
      "AUC:                                                                                                                   \n",
      "0.9957198324142288                                                                                                     \n",
      "Score:                                                                                                                 \n",
      "[0.047903245121756206, 0.987289722070834]                                                                              \n",
      "Params:                                                                                                                \n",
      "{'activation': 'relu', 'batch_size': 238, 'choice': {'dropout3': 0.4072383285724638, 'layers': 'three', 'units3': 654}, 'dropout1': 0.6965950461338057, 'dropout2': 0.3801821073384759, 'nb_epochs': 100, 'optimizer': 'adam', 'units1': 887, 'units2': 916}\n",
      " 68%|███████████████████████████████▉               | 68/100 [1:05:45<33:53, 63.55s/it, best loss: -0.9960467140488285]"
     ]
    },
    {
     "name": "stderr",
     "output_type": "stream",
     "text": [
      "C:\\Users\\And\\.conda\\envs\\proba\\lib\\site-packages\\ipykernel_launcher.py:5: UserWarning: Update your `Dense` call to the Keras 2 API: `Dense(input_dim=784, units=887)`\n",
      "  \"\"\"\n",
      "\n",
      "C:\\Users\\And\\.conda\\envs\\proba\\lib\\site-packages\\ipykernel_launcher.py:9: UserWarning: Update your `Dense` call to the Keras 2 API: `Dense(units=916, kernel_initializer=\"glorot_uniform\")`\n",
      "  if __name__ == '__main__':\n",
      "\n",
      "C:\\Users\\And\\.conda\\envs\\proba\\lib\\site-packages\\ipykernel_launcher.py:14: UserWarning: Update your `Dense` call to the Keras 2 API: `Dense(units=654, kernel_initializer=\"glorot_uniform\")`\n",
      "  \n",
      "\n",
      "C:\\Users\\And\\.conda\\envs\\proba\\lib\\site-packages\\ipykernel_launcher.py:22: UserWarning: The `nb_epoch` argument in `fit` has been renamed `epochs`.\n",
      "\n"
     ]
    },
    {
     "name": "stdout",
     "output_type": "stream",
     "text": [
      "AUC:                                                                                                                   \n",
      "0.9956707964878575                                                                                                     \n",
      "Score:                                                                                                                 \n",
      "[0.045854688898349545, 0.9868624856538861]                                                                             \n",
      "Params:                                                                                                                \n",
      "{'activation': 'relu', 'batch_size': 221, 'choice': {'dropout3': 0.3355066586464957, 'layers': 'three', 'units3': 384}, 'dropout1': 0.489105385074404, 'dropout2': 0.33145422686741605, 'nb_epochs': 100, 'optimizer': 'adam', 'units1': 701, 'units2': 957}\n",
      " 69%|████████████████████████████████▍              | 69/100 [1:06:37<31:00, 60.02s/it, best loss: -0.9960467140488285]"
     ]
    },
    {
     "name": "stderr",
     "output_type": "stream",
     "text": [
      "C:\\Users\\And\\.conda\\envs\\proba\\lib\\site-packages\\ipykernel_launcher.py:5: UserWarning: Update your `Dense` call to the Keras 2 API: `Dense(input_dim=784, units=701)`\n",
      "  \"\"\"\n",
      "\n",
      "C:\\Users\\And\\.conda\\envs\\proba\\lib\\site-packages\\ipykernel_launcher.py:9: UserWarning: Update your `Dense` call to the Keras 2 API: `Dense(units=957, kernel_initializer=\"glorot_uniform\")`\n",
      "  if __name__ == '__main__':\n",
      "\n",
      "C:\\Users\\And\\.conda\\envs\\proba\\lib\\site-packages\\ipykernel_launcher.py:14: UserWarning: Update your `Dense` call to the Keras 2 API: `Dense(units=384, kernel_initializer=\"glorot_uniform\")`\n",
      "  \n",
      "\n",
      "C:\\Users\\And\\.conda\\envs\\proba\\lib\\site-packages\\ipykernel_launcher.py:22: UserWarning: The `nb_epoch` argument in `fit` has been renamed `epochs`.\n",
      "\n"
     ]
    },
    {
     "name": "stdout",
     "output_type": "stream",
     "text": [
      "AUC:                                                                                                                   \n",
      "0.995857013492218                                                                                                      \n",
      "Score:                                                                                                                 \n",
      "[0.05930395423503568, 0.9867022704059514]                                                                              \n",
      "Params:                                                                                                                \n",
      "{'activation': 'relu', 'batch_size': 224, 'choice': {'dropout3': 0.3293113611608858, 'layers': 'three', 'units3': 760}, 'dropout1': 0.5837509531838039, 'dropout2': 0.33249569901301423, 'nb_epochs': 100, 'optimizer': 'adam', 'units1': 702, 'units2': 845}\n",
      " 70%|████████████████████████████████▉              | 70/100 [1:07:27<28:34, 57.15s/it, best loss: -0.9960467140488285]"
     ]
    },
    {
     "name": "stderr",
     "output_type": "stream",
     "text": [
      "C:\\Users\\And\\.conda\\envs\\proba\\lib\\site-packages\\ipykernel_launcher.py:5: UserWarning: Update your `Dense` call to the Keras 2 API: `Dense(input_dim=784, units=702)`\n",
      "  \"\"\"\n",
      "\n",
      "C:\\Users\\And\\.conda\\envs\\proba\\lib\\site-packages\\ipykernel_launcher.py:9: UserWarning: Update your `Dense` call to the Keras 2 API: `Dense(units=845, kernel_initializer=\"glorot_uniform\")`\n",
      "  if __name__ == '__main__':\n",
      "\n",
      "C:\\Users\\And\\.conda\\envs\\proba\\lib\\site-packages\\ipykernel_launcher.py:14: UserWarning: Update your `Dense` call to the Keras 2 API: `Dense(units=760, kernel_initializer=\"glorot_uniform\")`\n",
      "  \n",
      "\n",
      "C:\\Users\\And\\.conda\\envs\\proba\\lib\\site-packages\\ipykernel_launcher.py:22: UserWarning: The `nb_epoch` argument in `fit` has been renamed `epochs`.\n",
      "\n"
     ]
    },
    {
     "name": "stdout",
     "output_type": "stream",
     "text": [
      "AUC:                                                                                                                   \n",
      "0.9958258146447891                                                                                                     \n",
      "Score:                                                                                                                 \n",
      "[0.0519726423993643, 0.9865687605854029]                                                                               \n",
      "Params:                                                                                                                \n",
      "{'activation': 'relu', 'batch_size': 247, 'choice': {'dropout3': 0.32144106436353975, 'layers': 'three', 'units3': 509}, 'dropout1': 0.5218980011952412, 'dropout2': 0.3573174242065308, 'nb_epochs': 100, 'optimizer': 'adam', 'units1': 680, 'units2': 843}\n",
      " 71%|█████████████████████████████████▎             | 71/100 [1:08:20<26:55, 55.71s/it, best loss: -0.9960467140488285]"
     ]
    },
    {
     "name": "stderr",
     "output_type": "stream",
     "text": [
      "C:\\Users\\And\\.conda\\envs\\proba\\lib\\site-packages\\ipykernel_launcher.py:5: UserWarning: Update your `Dense` call to the Keras 2 API: `Dense(input_dim=784, units=680)`\n",
      "  \"\"\"\n",
      "\n",
      "C:\\Users\\And\\.conda\\envs\\proba\\lib\\site-packages\\ipykernel_launcher.py:9: UserWarning: Update your `Dense` call to the Keras 2 API: `Dense(units=843, kernel_initializer=\"glorot_uniform\")`\n",
      "  if __name__ == '__main__':\n",
      "\n",
      "C:\\Users\\And\\.conda\\envs\\proba\\lib\\site-packages\\ipykernel_launcher.py:14: UserWarning: Update your `Dense` call to the Keras 2 API: `Dense(units=509, kernel_initializer=\"glorot_uniform\")`\n",
      "  \n",
      "\n",
      "C:\\Users\\And\\.conda\\envs\\proba\\lib\\site-packages\\ipykernel_launcher.py:22: UserWarning: The `nb_epoch` argument in `fit` has been renamed `epochs`.\n",
      "\n"
     ]
    },
    {
     "name": "stdout",
     "output_type": "stream",
     "text": [
      "AUC:                                                                                                                   \n",
      "0.9959243212635664                                                                                                     \n",
      "Score:                                                                                                                 \n",
      "[0.05213516505111198, 0.9869692956494075]                                                                              \n",
      "Params:                                                                                                                \n",
      "{'activation': 'relu', 'batch_size': 247, 'choice': {'dropout3': 0.25519002854642225, 'layers': 'three', 'units3': 491}, 'dropout1': 0.48798020478471316, 'dropout2': 0.3550068104156001, 'nb_epochs': 100, 'optimizer': 'adam', 'units1': 781, 'units2': 979}\n",
      " 72%|█████████████████████████████████▊             | 72/100 [1:09:07<24:49, 53.19s/it, best loss: -0.9960467140488285]"
     ]
    },
    {
     "name": "stderr",
     "output_type": "stream",
     "text": [
      "C:\\Users\\And\\.conda\\envs\\proba\\lib\\site-packages\\ipykernel_launcher.py:5: UserWarning: Update your `Dense` call to the Keras 2 API: `Dense(input_dim=784, units=781)`\n",
      "  \"\"\"\n",
      "\n",
      "C:\\Users\\And\\.conda\\envs\\proba\\lib\\site-packages\\ipykernel_launcher.py:9: UserWarning: Update your `Dense` call to the Keras 2 API: `Dense(units=979, kernel_initializer=\"glorot_uniform\")`\n",
      "  if __name__ == '__main__':\n",
      "\n",
      "C:\\Users\\And\\.conda\\envs\\proba\\lib\\site-packages\\ipykernel_launcher.py:14: UserWarning: Update your `Dense` call to the Keras 2 API: `Dense(units=491, kernel_initializer=\"glorot_uniform\")`\n",
      "  \n",
      "\n",
      "C:\\Users\\And\\.conda\\envs\\proba\\lib\\site-packages\\ipykernel_launcher.py:22: UserWarning: The `nb_epoch` argument in `fit` has been renamed `epochs`.\n",
      "\n"
     ]
    },
    {
     "name": "stdout",
     "output_type": "stream",
     "text": [
      "AUC:                                                                                                                   \n",
      "0.9955702294444256                                                                                                     \n",
      "Score:                                                                                                                 \n",
      "[0.06098104693801221, 0.9869425927685481]                                                                              \n",
      "Params:                                                                                                                \n",
      "{'activation': 'relu', 'batch_size': 255, 'choice': {'dropout3': 0.3101894178566784, 'layers': 'three', 'units3': 567}, 'dropout1': 0.37993110647252787, 'dropout2': 0.31836702450899745, 'nb_epochs': 100, 'optimizer': 'adam', 'units1': 662, 'units2': 945}\n",
      " 73%|██████████████████████████████████▎            | 73/100 [1:09:57<23:32, 52.30s/it, best loss: -0.9960467140488285]"
     ]
    },
    {
     "name": "stderr",
     "output_type": "stream",
     "text": [
      "C:\\Users\\And\\.conda\\envs\\proba\\lib\\site-packages\\ipykernel_launcher.py:5: UserWarning: Update your `Dense` call to the Keras 2 API: `Dense(input_dim=784, units=662)`\n",
      "  \"\"\"\n",
      "\n",
      "C:\\Users\\And\\.conda\\envs\\proba\\lib\\site-packages\\ipykernel_launcher.py:9: UserWarning: Update your `Dense` call to the Keras 2 API: `Dense(units=945, kernel_initializer=\"glorot_uniform\")`\n",
      "  if __name__ == '__main__':\n",
      "\n",
      "C:\\Users\\And\\.conda\\envs\\proba\\lib\\site-packages\\ipykernel_launcher.py:14: UserWarning: Update your `Dense` call to the Keras 2 API: `Dense(units=567, kernel_initializer=\"glorot_uniform\")`\n",
      "  \n",
      "\n",
      "C:\\Users\\And\\.conda\\envs\\proba\\lib\\site-packages\\ipykernel_launcher.py:22: UserWarning: The `nb_epoch` argument in `fit` has been renamed `epochs`.\n",
      "\n"
     ]
    },
    {
     "name": "stdout",
     "output_type": "stream",
     "text": [
      "AUC:                                                                                                                   \n",
      "0.9954853126748778                                                                                                     \n",
      "Score:                                                                                                                 \n",
      "[0.05756575214416538, 0.9868090798921674]                                                                              \n",
      "Params:                                                                                                                \n",
      "{'activation': 'relu', 'batch_size': 228, 'choice': {'dropout3': 0.34643024751106555, 'layers': 'three', 'units3': 405}, 'dropout1': 0.4754903184753074, 'dropout2': 0.30360215086280823, 'nb_epochs': 100, 'optimizer': 'adam', 'units1': 701, 'units2': 673}\n",
      " 74%|██████████████████████████████████▊            | 74/100 [1:10:45<22:04, 50.92s/it, best loss: -0.9960467140488285]"
     ]
    },
    {
     "name": "stderr",
     "output_type": "stream",
     "text": [
      "C:\\Users\\And\\.conda\\envs\\proba\\lib\\site-packages\\ipykernel_launcher.py:5: UserWarning: Update your `Dense` call to the Keras 2 API: `Dense(input_dim=784, units=701)`\n",
      "  \"\"\"\n",
      "\n",
      "C:\\Users\\And\\.conda\\envs\\proba\\lib\\site-packages\\ipykernel_launcher.py:9: UserWarning: Update your `Dense` call to the Keras 2 API: `Dense(units=673, kernel_initializer=\"glorot_uniform\")`\n",
      "  if __name__ == '__main__':\n",
      "\n",
      "C:\\Users\\And\\.conda\\envs\\proba\\lib\\site-packages\\ipykernel_launcher.py:14: UserWarning: Update your `Dense` call to the Keras 2 API: `Dense(units=405, kernel_initializer=\"glorot_uniform\")`\n",
      "  \n",
      "\n",
      "C:\\Users\\And\\.conda\\envs\\proba\\lib\\site-packages\\ipykernel_launcher.py:22: UserWarning: The `nb_epoch` argument in `fit` has been renamed `epochs`.\n",
      "\n"
     ]
    },
    {
     "name": "stdout",
     "output_type": "stream",
     "text": [
      "AUC:                                                                                                                   \n",
      "0.9956138915348361                                                                                                     \n",
      "Score:                                                                                                                 \n",
      "[0.056340404630048295, 0.986889186497524]                                                                              \n",
      "Params:                                                                                                                \n",
      "{'activation': 'relu', 'batch_size': 235, 'choice': {'dropout3': 0.29334707509933766, 'layers': 'three', 'units3': 317}, 'dropout1': 0.509658073939933, 'dropout2': 0.28523161754457216, 'nb_epochs': 100, 'optimizer': 'adadelta', 'units1': 842, 'units2': 736}\n",
      " 75%|███████████████████████████████████▎           | 75/100 [1:11:36<21:10, 50.82s/it, best loss: -0.9960467140488285]"
     ]
    },
    {
     "name": "stderr",
     "output_type": "stream",
     "text": [
      "C:\\Users\\And\\.conda\\envs\\proba\\lib\\site-packages\\ipykernel_launcher.py:5: UserWarning: Update your `Dense` call to the Keras 2 API: `Dense(input_dim=784, units=842)`\n",
      "  \"\"\"\n",
      "\n",
      "C:\\Users\\And\\.conda\\envs\\proba\\lib\\site-packages\\ipykernel_launcher.py:9: UserWarning: Update your `Dense` call to the Keras 2 API: `Dense(units=736, kernel_initializer=\"glorot_uniform\")`\n",
      "  if __name__ == '__main__':\n",
      "\n",
      "C:\\Users\\And\\.conda\\envs\\proba\\lib\\site-packages\\ipykernel_launcher.py:14: UserWarning: Update your `Dense` call to the Keras 2 API: `Dense(units=317, kernel_initializer=\"glorot_uniform\")`\n",
      "  \n",
      "\n",
      "C:\\Users\\And\\.conda\\envs\\proba\\lib\\site-packages\\ipykernel_launcher.py:22: UserWarning: The `nb_epoch` argument in `fit` has been renamed `epochs`.\n",
      "\n"
     ]
    },
    {
     "name": "stdout",
     "output_type": "stream",
     "text": [
      "AUC:                                                                                                                   \n",
      "0.9830605300007408                                                                                                     \n",
      "Score:                                                                                                                 \n",
      "[0.07425004144178055, 0.9775433951608329]                                                                              \n",
      "Params:                                                                                                                \n",
      "{'activation': 'relu', 'batch_size': 203, 'choice': {'dropout3': 0.25177880304256606, 'layers': 'three', 'units3': 204}, 'dropout1': 0.5272934160109203, 'dropout2': 0.5118609692434195, 'nb_epochs': 100, 'optimizer': 'adam', 'units1': 633, 'units2': 788}\n",
      " 76%|███████████████████████████████████▋           | 76/100 [1:12:29<20:34, 51.45s/it, best loss: -0.9960467140488285]"
     ]
    },
    {
     "name": "stderr",
     "output_type": "stream",
     "text": [
      "C:\\Users\\And\\.conda\\envs\\proba\\lib\\site-packages\\ipykernel_launcher.py:5: UserWarning: Update your `Dense` call to the Keras 2 API: `Dense(input_dim=784, units=633)`\n",
      "  \"\"\"\n",
      "\n",
      "C:\\Users\\And\\.conda\\envs\\proba\\lib\\site-packages\\ipykernel_launcher.py:9: UserWarning: Update your `Dense` call to the Keras 2 API: `Dense(units=788, kernel_initializer=\"glorot_uniform\")`\n",
      "  if __name__ == '__main__':\n",
      "\n",
      "C:\\Users\\And\\.conda\\envs\\proba\\lib\\site-packages\\ipykernel_launcher.py:14: UserWarning: Update your `Dense` call to the Keras 2 API: `Dense(units=204, kernel_initializer=\"glorot_uniform\")`\n",
      "  \n",
      "\n",
      "C:\\Users\\And\\.conda\\envs\\proba\\lib\\site-packages\\ipykernel_launcher.py:22: UserWarning: The `nb_epoch` argument in `fit` has been renamed `epochs`.\n",
      "\n"
     ]
    },
    {
     "name": "stdout",
     "output_type": "stream",
     "text": [
      "AUC:                                                                                                                   \n",
      "0.9959478780250487                                                                                                     \n",
      "Score:                                                                                                                 \n",
      "[0.05408296352782761, 0.9864619516084923]                                                                              \n",
      "Params:                                                                                                                \n",
      "{'activation': 'relu', 'batch_size': 207, 'choice': {'dropout3': 0.25154466671197007, 'layers': 'three', 'units3': 163}, 'dropout1': 0.558648434644057, 'dropout2': 0.6023345737944101, 'nb_epochs': 100, 'optimizer': 'adam', 'units1': 634, 'units2': 606}\n",
      " 77%|████████████████████████████████████▏          | 77/100 [1:13:23<20:00, 52.21s/it, best loss: -0.9960467140488285]"
     ]
    },
    {
     "name": "stderr",
     "output_type": "stream",
     "text": [
      "C:\\Users\\And\\.conda\\envs\\proba\\lib\\site-packages\\ipykernel_launcher.py:5: UserWarning: Update your `Dense` call to the Keras 2 API: `Dense(input_dim=784, units=634)`\n",
      "  \"\"\"\n",
      "\n",
      "C:\\Users\\And\\.conda\\envs\\proba\\lib\\site-packages\\ipykernel_launcher.py:9: UserWarning: Update your `Dense` call to the Keras 2 API: `Dense(units=606, kernel_initializer=\"glorot_uniform\")`\n",
      "  if __name__ == '__main__':\n",
      "\n",
      "C:\\Users\\And\\.conda\\envs\\proba\\lib\\site-packages\\ipykernel_launcher.py:14: UserWarning: Update your `Dense` call to the Keras 2 API: `Dense(units=163, kernel_initializer=\"glorot_uniform\")`\n",
      "  \n",
      "\n",
      "C:\\Users\\And\\.conda\\envs\\proba\\lib\\site-packages\\ipykernel_launcher.py:22: UserWarning: The `nb_epoch` argument in `fit` has been renamed `epochs`.\n",
      "\n"
     ]
    },
    {
     "name": "stdout",
     "output_type": "stream",
     "text": [
      "AUC:                                                                                                                   \n",
      "0.9955630868573525                                                                                                     \n",
      "Score:                                                                                                                 \n",
      "[0.0507098972197443, 0.986542059741765]                                                                                \n",
      "Params:                                                                                                                \n",
      "{'activation': 'relu', 'batch_size': 202, 'choice': {'layers': 'two'}, 'dropout1': 0.4094807369252481, 'dropout2': 0.5098327792495303, 'nb_epochs': 100, 'optimizer': 'adam', 'units1': 791, 'units2': 657}\n",
      " 78%|████████████████████████████████████▋          | 78/100 [1:14:15<19:10, 52.28s/it, best loss: -0.9960467140488285]"
     ]
    },
    {
     "name": "stderr",
     "output_type": "stream",
     "text": [
      "C:\\Users\\And\\.conda\\envs\\proba\\lib\\site-packages\\ipykernel_launcher.py:5: UserWarning: Update your `Dense` call to the Keras 2 API: `Dense(input_dim=784, units=791)`\n",
      "  \"\"\"\n",
      "\n",
      "C:\\Users\\And\\.conda\\envs\\proba\\lib\\site-packages\\ipykernel_launcher.py:9: UserWarning: Update your `Dense` call to the Keras 2 API: `Dense(units=657, kernel_initializer=\"glorot_uniform\")`\n",
      "  if __name__ == '__main__':\n",
      "\n",
      "C:\\Users\\And\\.conda\\envs\\proba\\lib\\site-packages\\ipykernel_launcher.py:22: UserWarning: The `nb_epoch` argument in `fit` has been renamed `epochs`.\n",
      "\n"
     ]
    },
    {
     "name": "stdout",
     "output_type": "stream",
     "text": [
      "AUC:                                                                                                                   \n",
      "0.9951323319957559                                                                                                     \n",
      "Score:                                                                                                                 \n",
      "[0.059446447200822, 0.9851802418483434]                                                                                \n",
      "Params:                                                                                                                \n",
      "{'activation': 'relu', 'batch_size': 218, 'choice': {'dropout3': 0.263531362993205, 'layers': 'three', 'units3': 133}, 'dropout1': 0.5251886113736989, 'dropout2': 0.554375212647303, 'nb_epochs': 100, 'optimizer': 'adam', 'units1': 894, 'units2': 839}\n",
      " 79%|█████████████████████████████████████▏         | 79/100 [1:15:08<18:21, 52.47s/it, best loss: -0.9960467140488285]"
     ]
    },
    {
     "name": "stderr",
     "output_type": "stream",
     "text": [
      "C:\\Users\\And\\.conda\\envs\\proba\\lib\\site-packages\\ipykernel_launcher.py:5: UserWarning: Update your `Dense` call to the Keras 2 API: `Dense(input_dim=784, units=894)`\n",
      "  \"\"\"\n",
      "\n",
      "C:\\Users\\And\\.conda\\envs\\proba\\lib\\site-packages\\ipykernel_launcher.py:9: UserWarning: Update your `Dense` call to the Keras 2 API: `Dense(units=839, kernel_initializer=\"glorot_uniform\")`\n",
      "  if __name__ == '__main__':\n",
      "\n",
      "C:\\Users\\And\\.conda\\envs\\proba\\lib\\site-packages\\ipykernel_launcher.py:14: UserWarning: Update your `Dense` call to the Keras 2 API: `Dense(units=133, kernel_initializer=\"glorot_uniform\")`\n",
      "  \n",
      "\n",
      "C:\\Users\\And\\.conda\\envs\\proba\\lib\\site-packages\\ipykernel_launcher.py:22: UserWarning: The `nb_epoch` argument in `fit` has been renamed `epochs`.\n",
      "\n"
     ]
    },
    {
     "name": "stdout",
     "output_type": "stream",
     "text": [
      "AUC:                                                                                                                   \n",
      "0.9957248015763955                                                                                                     \n",
      "Score:                                                                                                                 \n",
      "[0.05640037649051858, 0.9862750350076143]                                                                              \n",
      "Params:                                                                                                                \n",
      "{'activation': 'relu', 'batch_size': 149, 'choice': {'dropout3': 0.2794601294121797, 'layers': 'three', 'units3': 208}, 'dropout1': 0.5542589385236179, 'dropout2': 0.5600587800373832, 'nb_epochs': 100, 'optimizer': 'adadelta', 'units1': 924, 'units2': 788}\n",
      " 80%|█████████████████████████████████████▌         | 80/100 [1:16:04<17:48, 53.42s/it, best loss: -0.9960467140488285]"
     ]
    },
    {
     "name": "stderr",
     "output_type": "stream",
     "text": [
      "C:\\Users\\And\\.conda\\envs\\proba\\lib\\site-packages\\ipykernel_launcher.py:5: UserWarning: Update your `Dense` call to the Keras 2 API: `Dense(input_dim=784, units=924)`\n",
      "  \"\"\"\n",
      "\n",
      "C:\\Users\\And\\.conda\\envs\\proba\\lib\\site-packages\\ipykernel_launcher.py:9: UserWarning: Update your `Dense` call to the Keras 2 API: `Dense(units=788, kernel_initializer=\"glorot_uniform\")`\n",
      "  if __name__ == '__main__':\n",
      "\n",
      "C:\\Users\\And\\.conda\\envs\\proba\\lib\\site-packages\\ipykernel_launcher.py:14: UserWarning: Update your `Dense` call to the Keras 2 API: `Dense(units=208, kernel_initializer=\"glorot_uniform\")`\n",
      "  \n",
      "\n",
      "C:\\Users\\And\\.conda\\envs\\proba\\lib\\site-packages\\ipykernel_launcher.py:22: UserWarning: The `nb_epoch` argument in `fit` has been renamed `epochs`.\n",
      "\n"
     ]
    },
    {
     "name": "stdout",
     "output_type": "stream",
     "text": [
      "AUC:                                                                                                                   \n",
      "0.988040143018807                                                                                                      \n",
      "Score:                                                                                                                 \n",
      "[0.06653731744064985, 0.9786381862828823]                                                                              \n",
      "Params:                                                                                                                \n",
      "{'activation': 'relu', 'batch_size': 195, 'choice': {'layers': 'two'}, 'dropout1': 0.2791111133857924, 'dropout2': 0.7150751548458069, 'nb_epochs': 100, 'optimizer': 'rmsprop', 'units1': 578, 'units2': 751}\n",
      " 81%|██████████████████████████████████████         | 81/100 [1:17:19<18:58, 59.93s/it, best loss: -0.9960467140488285]"
     ]
    },
    {
     "name": "stderr",
     "output_type": "stream",
     "text": [
      "C:\\Users\\And\\.conda\\envs\\proba\\lib\\site-packages\\ipykernel_launcher.py:5: UserWarning: Update your `Dense` call to the Keras 2 API: `Dense(input_dim=784, units=578)`\n",
      "  \"\"\"\n",
      "\n",
      "C:\\Users\\And\\.conda\\envs\\proba\\lib\\site-packages\\ipykernel_launcher.py:9: UserWarning: Update your `Dense` call to the Keras 2 API: `Dense(units=751, kernel_initializer=\"glorot_uniform\")`\n",
      "  if __name__ == '__main__':\n",
      "\n",
      "C:\\Users\\And\\.conda\\envs\\proba\\lib\\site-packages\\ipykernel_launcher.py:22: UserWarning: The `nb_epoch` argument in `fit` has been renamed `epochs`.\n",
      "\n"
     ]
    },
    {
     "name": "stdout",
     "output_type": "stream",
     "text": [
      "AUC:                                                                                                                   \n",
      "0.9950124250166927                                                                                                     \n",
      "Score:                                                                                                                 \n",
      "[0.06740334038641814, 0.9854472670917995]                                                                              \n",
      "Params:                                                                                                                \n",
      "{'activation': 'relu', 'batch_size': 191, 'choice': {'dropout3': 0.3053417773830156, 'layers': 'three', 'units3': 93}, 'dropout1': 0.33017219973891787, 'dropout2': 0.4726408525205862, 'nb_epochs': 100, 'optimizer': 'adam', 'units1': 544, 'units2': 783}\n",
      " 82%|██████████████████████████████████████▌        | 82/100 [1:18:11<17:16, 57.60s/it, best loss: -0.9960467140488285]"
     ]
    },
    {
     "name": "stderr",
     "output_type": "stream",
     "text": [
      "C:\\Users\\And\\.conda\\envs\\proba\\lib\\site-packages\\ipykernel_launcher.py:5: UserWarning: Update your `Dense` call to the Keras 2 API: `Dense(input_dim=784, units=544)`\n",
      "  \"\"\"\n",
      "\n",
      "C:\\Users\\And\\.conda\\envs\\proba\\lib\\site-packages\\ipykernel_launcher.py:9: UserWarning: Update your `Dense` call to the Keras 2 API: `Dense(units=783, kernel_initializer=\"glorot_uniform\")`\n",
      "  if __name__ == '__main__':\n",
      "\n",
      "C:\\Users\\And\\.conda\\envs\\proba\\lib\\site-packages\\ipykernel_launcher.py:14: UserWarning: Update your `Dense` call to the Keras 2 API: `Dense(units=93, kernel_initializer=\"glorot_uniform\")`\n",
      "  \n",
      "\n",
      "C:\\Users\\And\\.conda\\envs\\proba\\lib\\site-packages\\ipykernel_launcher.py:22: UserWarning: The `nb_epoch` argument in `fit` has been renamed `epochs`.\n",
      "\n"
     ]
    },
    {
     "name": "stdout",
     "output_type": "stream",
     "text": [
      "AUC:                                                                                                                   \n",
      "0.9952831310114837                                                                                                     \n",
      "Score:                                                                                                                 \n",
      "[0.0656010617411264, 0.9856875884357855]                                                                               \n",
      "Params:                                                                                                                \n",
      "{'activation': 'relu', 'batch_size': 182, 'choice': {'dropout3': 0.3696871719583146, 'layers': 'three', 'units3': 678}, 'dropout1': 0.30981386758410584, 'dropout2': 0.6328061642334094, 'nb_epochs': 100, 'optimizer': 'adam', 'units1': 610, 'units2': 1019}\n",
      " 83%|███████████████████████████████████████        | 83/100 [1:19:07<16:11, 57.14s/it, best loss: -0.9960467140488285]"
     ]
    },
    {
     "name": "stderr",
     "output_type": "stream",
     "text": [
      "C:\\Users\\And\\.conda\\envs\\proba\\lib\\site-packages\\ipykernel_launcher.py:5: UserWarning: Update your `Dense` call to the Keras 2 API: `Dense(input_dim=784, units=610)`\n",
      "  \"\"\"\n",
      "\n",
      "C:\\Users\\And\\.conda\\envs\\proba\\lib\\site-packages\\ipykernel_launcher.py:9: UserWarning: Update your `Dense` call to the Keras 2 API: `Dense(units=1019, kernel_initializer=\"glorot_uniform\")`\n",
      "  if __name__ == '__main__':\n",
      "\n",
      "C:\\Users\\And\\.conda\\envs\\proba\\lib\\site-packages\\ipykernel_launcher.py:14: UserWarning: Update your `Dense` call to the Keras 2 API: `Dense(units=678, kernel_initializer=\"glorot_uniform\")`\n",
      "  \n",
      "\n",
      "C:\\Users\\And\\.conda\\envs\\proba\\lib\\site-packages\\ipykernel_launcher.py:22: UserWarning: The `nb_epoch` argument in `fit` has been renamed `epochs`.\n",
      "\n"
     ]
    },
    {
     "name": "stdout",
     "output_type": "stream",
     "text": [
      "AUC:                                                                                                                   \n",
      "0.995547993516768                                                                                                      \n",
      "Score:                                                                                                                 \n",
      "[0.06599028824974028, 0.9860614165444878]                                                                              \n",
      "Params:                                                                                                                \n",
      "{'activation': 'relu', 'batch_size': 246, 'choice': {'dropout3': 0.7185516262147538, 'layers': 'three', 'units3': 223}, 'dropout1': 0.531627127699822, 'dropout2': 0.49449200494094336, 'nb_epochs': 100, 'optimizer': 'adam', 'units1': 732, 'units2': 729}\n",
      " 84%|███████████████████████████████████████▍       | 84/100 [1:20:14<16:03, 60.23s/it, best loss: -0.9960467140488285]"
     ]
    },
    {
     "name": "stderr",
     "output_type": "stream",
     "text": [
      "C:\\Users\\And\\.conda\\envs\\proba\\lib\\site-packages\\ipykernel_launcher.py:5: UserWarning: Update your `Dense` call to the Keras 2 API: `Dense(input_dim=784, units=732)`\n",
      "  \"\"\"\n",
      "\n",
      "C:\\Users\\And\\.conda\\envs\\proba\\lib\\site-packages\\ipykernel_launcher.py:9: UserWarning: Update your `Dense` call to the Keras 2 API: `Dense(units=729, kernel_initializer=\"glorot_uniform\")`\n",
      "  if __name__ == '__main__':\n",
      "\n",
      "C:\\Users\\And\\.conda\\envs\\proba\\lib\\site-packages\\ipykernel_launcher.py:14: UserWarning: Update your `Dense` call to the Keras 2 API: `Dense(units=223, kernel_initializer=\"glorot_uniform\")`\n",
      "  \n",
      "\n",
      "C:\\Users\\And\\.conda\\envs\\proba\\lib\\site-packages\\ipykernel_launcher.py:22: UserWarning: The `nb_epoch` argument in `fit` has been renamed `epochs`.\n",
      "\n"
     ]
    },
    {
     "name": "stdout",
     "output_type": "stream",
     "text": [
      "AUC:                                                                                                                   \n",
      "0.9958079799456575                                                                                                     \n",
      "Score:                                                                                                                 \n",
      "[0.05168184619884013, 0.9864619531364084]                                                                              \n",
      "Params:                                                                                                                \n",
      "{'activation': 'relu', 'batch_size': 199, 'choice': {'layers': 'two'}, 'dropout1': 0.573534754840175, 'dropout2': 0.46111879041446785, 'nb_epochs': 100, 'optimizer': 'adadelta', 'units1': 876, 'units2': 828}\n",
      " 85%|███████████████████████████████████████▉       | 85/100 [1:21:06<14:23, 57.55s/it, best loss: -0.9960467140488285]"
     ]
    },
    {
     "name": "stderr",
     "output_type": "stream",
     "text": [
      "C:\\Users\\And\\.conda\\envs\\proba\\lib\\site-packages\\ipykernel_launcher.py:5: UserWarning: Update your `Dense` call to the Keras 2 API: `Dense(input_dim=784, units=876)`\n",
      "  \"\"\"\n",
      "\n",
      "C:\\Users\\And\\.conda\\envs\\proba\\lib\\site-packages\\ipykernel_launcher.py:9: UserWarning: Update your `Dense` call to the Keras 2 API: `Dense(units=828, kernel_initializer=\"glorot_uniform\")`\n",
      "  if __name__ == '__main__':\n",
      "\n",
      "C:\\Users\\And\\.conda\\envs\\proba\\lib\\site-packages\\ipykernel_launcher.py:22: UserWarning: The `nb_epoch` argument in `fit` has been renamed `epochs`.\n",
      "\n"
     ]
    },
    {
     "name": "stdout",
     "output_type": "stream",
     "text": [
      "AUC:                                                                                                                   \n",
      "0.9739649395746095                                                                                                     \n",
      "Score:                                                                                                                 \n",
      "[0.10005015883152094, 0.9720160236027594]                                                                              \n",
      "Params:                                                                                                                \n",
      "{'activation': 'relu', 'batch_size': 241, 'choice': {'dropout3': 0.3201915819302904, 'layers': 'three', 'units3': 725}, 'dropout1': 0.4447676168119792, 'dropout2': 0.4268780398284462, 'nb_epochs': 100, 'optimizer': 'rmsprop', 'units1': 422, 'units2': 500}\n",
      " 86%|████████████████████████████████████████▍      | 86/100 [1:22:07<13:40, 58.63s/it, best loss: -0.9960467140488285]"
     ]
    },
    {
     "name": "stderr",
     "output_type": "stream",
     "text": [
      "C:\\Users\\And\\.conda\\envs\\proba\\lib\\site-packages\\ipykernel_launcher.py:5: UserWarning: Update your `Dense` call to the Keras 2 API: `Dense(input_dim=784, units=422)`\n",
      "  \"\"\"\n",
      "\n",
      "C:\\Users\\And\\.conda\\envs\\proba\\lib\\site-packages\\ipykernel_launcher.py:9: UserWarning: Update your `Dense` call to the Keras 2 API: `Dense(units=500, kernel_initializer=\"glorot_uniform\")`\n",
      "  if __name__ == '__main__':\n",
      "\n",
      "C:\\Users\\And\\.conda\\envs\\proba\\lib\\site-packages\\ipykernel_launcher.py:14: UserWarning: Update your `Dense` call to the Keras 2 API: `Dense(units=725, kernel_initializer=\"glorot_uniform\")`\n",
      "  \n",
      "\n",
      "C:\\Users\\And\\.conda\\envs\\proba\\lib\\site-packages\\ipykernel_launcher.py:22: UserWarning: The `nb_epoch` argument in `fit` has been renamed `epochs`.\n",
      "\n"
     ]
    },
    {
     "name": "stdout",
     "output_type": "stream",
     "text": [
      "AUC:                                                                                                                   \n",
      "0.9949782980753042                                                                                                     \n",
      "Score:                                                                                                                 \n",
      "[0.06611977165979264, 0.9856608860642315]                                                                              \n",
      "Params:                                                                                                                \n",
      "{'activation': 'relu', 'batch_size': 175, 'choice': {'dropout3': 0.6344682185231632, 'layers': 'three', 'units3': 605}, 'dropout1': 0.4605087952356179, 'dropout2': 0.5074798504399874, 'nb_epochs': 100, 'optimizer': 'adam', 'units1': 655, 'units2': 870}\n",
      " 87%|████████████████████████████████████████▉      | 87/100 [1:22:55<12:00, 55.42s/it, best loss: -0.9960467140488285]"
     ]
    },
    {
     "name": "stderr",
     "output_type": "stream",
     "text": [
      "C:\\Users\\And\\.conda\\envs\\proba\\lib\\site-packages\\ipykernel_launcher.py:5: UserWarning: Update your `Dense` call to the Keras 2 API: `Dense(input_dim=784, units=655)`\n",
      "  \"\"\"\n",
      "\n",
      "C:\\Users\\And\\.conda\\envs\\proba\\lib\\site-packages\\ipykernel_launcher.py:9: UserWarning: Update your `Dense` call to the Keras 2 API: `Dense(units=870, kernel_initializer=\"glorot_uniform\")`\n",
      "  if __name__ == '__main__':\n",
      "\n",
      "C:\\Users\\And\\.conda\\envs\\proba\\lib\\site-packages\\ipykernel_launcher.py:14: UserWarning: Update your `Dense` call to the Keras 2 API: `Dense(units=605, kernel_initializer=\"glorot_uniform\")`\n",
      "  \n",
      "\n",
      "C:\\Users\\And\\.conda\\envs\\proba\\lib\\site-packages\\ipykernel_launcher.py:22: UserWarning: The `nb_epoch` argument in `fit` has been renamed `epochs`.\n",
      "\n"
     ]
    },
    {
     "name": "stdout",
     "output_type": "stream",
     "text": [
      "AUC:                                                                                                                   \n",
      "0.9956362758905266                                                                                                     \n",
      "Score:                                                                                                                 \n",
      "[0.05630662084752333, 0.9861148192503741]                                                                              \n",
      "Params:                                                                                                                \n",
      "{'activation': 'relu', 'batch_size': 160, 'choice': {'dropout3': 0.35137623981786986, 'layers': 'three', 'units3': 842}, 'dropout1': 0.4043535415066219, 'dropout2': 0.5981834895157209, 'nb_epochs': 100, 'optimizer': 'adam', 'units1': 968, 'units2': 931}\n",
      " 88%|█████████████████████████████████████████▎     | 88/100 [1:24:04<11:54, 59.50s/it, best loss: -0.9960467140488285]"
     ]
    },
    {
     "name": "stderr",
     "output_type": "stream",
     "text": [
      "C:\\Users\\And\\.conda\\envs\\proba\\lib\\site-packages\\ipykernel_launcher.py:5: UserWarning: Update your `Dense` call to the Keras 2 API: `Dense(input_dim=784, units=968)`\n",
      "  \"\"\"\n",
      "\n",
      "C:\\Users\\And\\.conda\\envs\\proba\\lib\\site-packages\\ipykernel_launcher.py:9: UserWarning: Update your `Dense` call to the Keras 2 API: `Dense(units=931, kernel_initializer=\"glorot_uniform\")`\n",
      "  if __name__ == '__main__':\n",
      "\n",
      "C:\\Users\\And\\.conda\\envs\\proba\\lib\\site-packages\\ipykernel_launcher.py:14: UserWarning: Update your `Dense` call to the Keras 2 API: `Dense(units=842, kernel_initializer=\"glorot_uniform\")`\n",
      "  \n",
      "\n",
      "C:\\Users\\And\\.conda\\envs\\proba\\lib\\site-packages\\ipykernel_launcher.py:22: UserWarning: The `nb_epoch` argument in `fit` has been renamed `epochs`.\n",
      "\n"
     ]
    },
    {
     "name": "stdout",
     "output_type": "stream",
     "text": [
      "AUC:                                                                                                                   \n",
      "0.9958912689236863                                                                                                     \n",
      "Score:                                                                                                                 \n",
      "[0.062360842613231465, 0.9868624846352754]                                                                             \n",
      "Params:                                                                                                                \n",
      "{'activation': 'relu', 'batch_size': 233, 'choice': {'dropout3': 0.4298863651131921, 'layers': 'three', 'units3': 488}, 'dropout1': 0.5019103446786496, 'dropout2': 0.6758234813398394, 'nb_epochs': 100, 'optimizer': 'adam', 'units1': 684, 'units2': 552}\n",
      " 89%|█████████████████████████████████████████▊     | 89/100 [1:25:22<11:54, 64.97s/it, best loss: -0.9960467140488285]"
     ]
    },
    {
     "name": "stderr",
     "output_type": "stream",
     "text": [
      "C:\\Users\\And\\.conda\\envs\\proba\\lib\\site-packages\\ipykernel_launcher.py:5: UserWarning: Update your `Dense` call to the Keras 2 API: `Dense(input_dim=784, units=684)`\n",
      "  \"\"\"\n",
      "\n",
      "C:\\Users\\And\\.conda\\envs\\proba\\lib\\site-packages\\ipykernel_launcher.py:9: UserWarning: Update your `Dense` call to the Keras 2 API: `Dense(units=552, kernel_initializer=\"glorot_uniform\")`\n",
      "  if __name__ == '__main__':\n",
      "\n",
      "C:\\Users\\And\\.conda\\envs\\proba\\lib\\site-packages\\ipykernel_launcher.py:14: UserWarning: Update your `Dense` call to the Keras 2 API: `Dense(units=488, kernel_initializer=\"glorot_uniform\")`\n",
      "  \n",
      "\n",
      "C:\\Users\\And\\.conda\\envs\\proba\\lib\\site-packages\\ipykernel_launcher.py:22: UserWarning: The `nb_epoch` argument in `fit` has been renamed `epochs`.\n",
      "\n"
     ]
    },
    {
     "name": "stdout",
     "output_type": "stream",
     "text": [
      "AUC:                                                                                                                   \n",
      "0.9958348124341845                                                                                                     \n",
      "Score:                                                                                                                 \n",
      "[0.05270185409090106, 0.9867289758333376]                                                                              \n",
      "Params:                                                                                                                \n",
      "{'activation': 'relu', 'batch_size': 217, 'choice': {'layers': 'two'}, 'dropout1': 0.4314667794228112, 'dropout2': 0.5396166728731936, 'nb_epochs': 100, 'optimizer': 'adam', 'units1': 762, 'units2': 805}\n",
      " 90%|██████████████████████████████████████████▎    | 90/100 [1:26:15<10:16, 61.65s/it, best loss: -0.9960467140488285]"
     ]
    },
    {
     "name": "stderr",
     "output_type": "stream",
     "text": [
      "C:\\Users\\And\\.conda\\envs\\proba\\lib\\site-packages\\ipykernel_launcher.py:5: UserWarning: Update your `Dense` call to the Keras 2 API: `Dense(input_dim=784, units=762)`\n",
      "  \"\"\"\n",
      "\n",
      "C:\\Users\\And\\.conda\\envs\\proba\\lib\\site-packages\\ipykernel_launcher.py:9: UserWarning: Update your `Dense` call to the Keras 2 API: `Dense(units=805, kernel_initializer=\"glorot_uniform\")`\n",
      "  if __name__ == '__main__':\n",
      "\n",
      "C:\\Users\\And\\.conda\\envs\\proba\\lib\\site-packages\\ipykernel_launcher.py:22: UserWarning: The `nb_epoch` argument in `fit` has been renamed `epochs`.\n",
      "\n"
     ]
    },
    {
     "name": "stdout",
     "output_type": "stream",
     "text": [
      "AUC:                                                                                                                   \n",
      "0.9952778308636111                                                                                                     \n",
      "Score:                                                                                                                 \n",
      "[0.0569558254010787, 0.9859012058803014]                                                                               \n",
      "Params:                                                                                                                \n",
      "{'activation': 'relu', 'batch_size': 171, 'choice': {'dropout3': 0.2728431180480272, 'layers': 'three', 'units3': 548}, 'dropout1': 0.6260515516767671, 'dropout2': 0.4451625630906195, 'nb_epochs': 100, 'optimizer': 'adadelta', 'units1': 988, 'units2': 605}\n",
      " 91%|██████████████████████████████████████████▊    | 91/100 [1:27:10<08:56, 59.63s/it, best loss: -0.9960467140488285]"
     ]
    },
    {
     "name": "stderr",
     "output_type": "stream",
     "text": [
      "C:\\Users\\And\\.conda\\envs\\proba\\lib\\site-packages\\ipykernel_launcher.py:5: UserWarning: Update your `Dense` call to the Keras 2 API: `Dense(input_dim=784, units=988)`\n",
      "  \"\"\"\n",
      "\n",
      "C:\\Users\\And\\.conda\\envs\\proba\\lib\\site-packages\\ipykernel_launcher.py:9: UserWarning: Update your `Dense` call to the Keras 2 API: `Dense(units=605, kernel_initializer=\"glorot_uniform\")`\n",
      "  if __name__ == '__main__':\n",
      "\n",
      "C:\\Users\\And\\.conda\\envs\\proba\\lib\\site-packages\\ipykernel_launcher.py:14: UserWarning: Update your `Dense` call to the Keras 2 API: `Dense(units=548, kernel_initializer=\"glorot_uniform\")`\n",
      "  \n",
      "\n",
      "C:\\Users\\And\\.conda\\envs\\proba\\lib\\site-packages\\ipykernel_launcher.py:22: UserWarning: The `nb_epoch` argument in `fit` has been renamed `epochs`.\n",
      "\n"
     ]
    },
    {
     "name": "stdout",
     "output_type": "stream",
     "text": [
      "AUC:                                                                                                                   \n",
      "0.9878035779450756                                                                                                     \n",
      "Score:                                                                                                                 \n",
      "[0.063874298964785, 0.9798931926528666]                                                                                \n",
      "Params:                                                                                                                \n",
      "{'activation': 'relu', 'batch_size': 224, 'choice': {'dropout3': 0.5548853581570554, 'layers': 'three', 'units3': 658}, 'dropout1': 0.5146261384429051, 'dropout2': 0.4065706449207721, 'nb_epochs': 100, 'optimizer': 'rmsprop', 'units1': 940, 'units2': 660}\n",
      " 92%|███████████████████████████████████████████▏   | 92/100 [1:28:24<08:30, 63.86s/it, best loss: -0.9960467140488285]"
     ]
    },
    {
     "name": "stderr",
     "output_type": "stream",
     "text": [
      "C:\\Users\\And\\.conda\\envs\\proba\\lib\\site-packages\\ipykernel_launcher.py:5: UserWarning: Update your `Dense` call to the Keras 2 API: `Dense(input_dim=784, units=940)`\n",
      "  \"\"\"\n",
      "\n",
      "C:\\Users\\And\\.conda\\envs\\proba\\lib\\site-packages\\ipykernel_launcher.py:9: UserWarning: Update your `Dense` call to the Keras 2 API: `Dense(units=660, kernel_initializer=\"glorot_uniform\")`\n",
      "  if __name__ == '__main__':\n",
      "\n",
      "C:\\Users\\And\\.conda\\envs\\proba\\lib\\site-packages\\ipykernel_launcher.py:14: UserWarning: Update your `Dense` call to the Keras 2 API: `Dense(units=658, kernel_initializer=\"glorot_uniform\")`\n",
      "  \n",
      "\n",
      "C:\\Users\\And\\.conda\\envs\\proba\\lib\\site-packages\\ipykernel_launcher.py:22: UserWarning: The `nb_epoch` argument in `fit` has been renamed `epochs`.\n",
      "\n"
     ]
    },
    {
     "name": "stdout",
     "output_type": "stream",
     "text": [
      "AUC:                                                                                                                   \n",
      "0.9947296408143321                                                                                                     \n",
      "Score:                                                                                                                 \n",
      "[0.06983946208861531, 0.9863284422972491]                                                                              \n",
      "Params:                                                                                                                \n",
      "{'activation': 'relu', 'batch_size': 115, 'choice': {'dropout3': 0.472710647472644, 'layers': 'three', 'units3': 769}, 'dropout1': 0.37625149504951455, 'dropout2': 0.5193864126298688, 'nb_epochs': 100, 'optimizer': 'adam', 'units1': 528, 'units2': 993}\n",
      " 93%|███████████████████████████████████████████▋   | 93/100 [1:29:22<07:15, 62.17s/it, best loss: -0.9960467140488285]"
     ]
    },
    {
     "name": "stderr",
     "output_type": "stream",
     "text": [
      "C:\\Users\\And\\.conda\\envs\\proba\\lib\\site-packages\\ipykernel_launcher.py:5: UserWarning: Update your `Dense` call to the Keras 2 API: `Dense(input_dim=784, units=528)`\n",
      "  \"\"\"\n",
      "\n",
      "C:\\Users\\And\\.conda\\envs\\proba\\lib\\site-packages\\ipykernel_launcher.py:9: UserWarning: Update your `Dense` call to the Keras 2 API: `Dense(units=993, kernel_initializer=\"glorot_uniform\")`\n",
      "  if __name__ == '__main__':\n",
      "\n",
      "C:\\Users\\And\\.conda\\envs\\proba\\lib\\site-packages\\ipykernel_launcher.py:14: UserWarning: Update your `Dense` call to the Keras 2 API: `Dense(units=769, kernel_initializer=\"glorot_uniform\")`\n",
      "  \n",
      "\n",
      "C:\\Users\\And\\.conda\\envs\\proba\\lib\\site-packages\\ipykernel_launcher.py:22: UserWarning: The `nb_epoch` argument in `fit` has been renamed `epochs`.\n",
      "\n"
     ]
    },
    {
     "name": "stdout",
     "output_type": "stream",
     "text": [
      "AUC:                                                                                                                   \n",
      "0.99543219790863                                                                                                       \n",
      "Score:                                                                                                                 \n",
      "[0.06390930291537147, 0.9863818465310518]                                                                              \n",
      "Params:                                                                                                                \n",
      "{'activation': 'relu', 'batch_size': 254, 'choice': {'layers': 'two'}, 'dropout1': 0.47232770326569185, 'dropout2': 0.3906951435210711, 'nb_epochs': 100, 'optimizer': 'adam', 'units1': 833, 'units2': 575}\n",
      " 94%|████████████████████████████████████████████▏  | 94/100 [1:30:58<07:12, 72.10s/it, best loss: -0.9960467140488285]"
     ]
    },
    {
     "name": "stderr",
     "output_type": "stream",
     "text": [
      "C:\\Users\\And\\.conda\\envs\\proba\\lib\\site-packages\\ipykernel_launcher.py:5: UserWarning: Update your `Dense` call to the Keras 2 API: `Dense(input_dim=784, units=833)`\n",
      "  \"\"\"\n",
      "\n",
      "C:\\Users\\And\\.conda\\envs\\proba\\lib\\site-packages\\ipykernel_launcher.py:9: UserWarning: Update your `Dense` call to the Keras 2 API: `Dense(units=575, kernel_initializer=\"glorot_uniform\")`\n",
      "  if __name__ == '__main__':\n",
      "\n",
      "C:\\Users\\And\\.conda\\envs\\proba\\lib\\site-packages\\ipykernel_launcher.py:22: UserWarning: The `nb_epoch` argument in `fit` has been renamed `epochs`.\n",
      "\n"
     ]
    },
    {
     "name": "stdout",
     "output_type": "stream",
     "text": [
      "AUC:                                                                                                                   \n",
      "0.9950363650742797                                                                                                     \n",
      "Score:                                                                                                                 \n",
      "[0.05534654830885757, 0.9861682260307038]                                                                              \n",
      "Params:                                                                                                                \n",
      "{'activation': 'relu', 'batch_size': 130, 'choice': {'dropout3': 0.2949759626926771, 'layers': 'three', 'units3': 724}, 'dropout1': 0.5506940239775507, 'dropout2': 0.434708078290146, 'nb_epochs': 100, 'optimizer': 'adam', 'units1': 806, 'units2': 697}\n",
      " 95%|████████████████████████████████████████████▋  | 95/100 [1:31:45<05:24, 64.81s/it, best loss: -0.9960467140488285]"
     ]
    },
    {
     "name": "stderr",
     "output_type": "stream",
     "text": [
      "C:\\Users\\And\\.conda\\envs\\proba\\lib\\site-packages\\ipykernel_launcher.py:5: UserWarning: Update your `Dense` call to the Keras 2 API: `Dense(input_dim=784, units=806)`\n",
      "  \"\"\"\n",
      "\n",
      "C:\\Users\\And\\.conda\\envs\\proba\\lib\\site-packages\\ipykernel_launcher.py:9: UserWarning: Update your `Dense` call to the Keras 2 API: `Dense(units=697, kernel_initializer=\"glorot_uniform\")`\n",
      "  if __name__ == '__main__':\n",
      "\n",
      "C:\\Users\\And\\.conda\\envs\\proba\\lib\\site-packages\\ipykernel_launcher.py:14: UserWarning: Update your `Dense` call to the Keras 2 API: `Dense(units=724, kernel_initializer=\"glorot_uniform\")`\n",
      "  \n",
      "\n",
      "C:\\Users\\And\\.conda\\envs\\proba\\lib\\site-packages\\ipykernel_launcher.py:22: UserWarning: The `nb_epoch` argument in `fit` has been renamed `epochs`.\n",
      "\n"
     ]
    },
    {
     "name": "stdout",
     "output_type": "stream",
     "text": [
      "AUC:                                                                                                                   \n",
      "0.9954875041221897                                                                                                     \n",
      "Score:                                                                                                                 \n",
      "[0.0600820715000008, 0.9862483346732819]                                                                               \n",
      "Params:                                                                                                                \n",
      "{'activation': 'relu', 'batch_size': 208, 'choice': {'dropout3': 0.3753540525609851, 'layers': 'three', 'units3': 327}, 'dropout1': 0.5980357847129276, 'dropout2': 0.4792093984634579, 'nb_epochs': 100, 'optimizer': 'rmsprop', 'units1': 498, 'units2': 888}\n",
      " 96%|█████████████████████████████████████████████  | 96/100 [1:33:14<04:48, 72.04s/it, best loss: -0.9960467140488285]"
     ]
    },
    {
     "name": "stderr",
     "output_type": "stream",
     "text": [
      "C:\\Users\\And\\.conda\\envs\\proba\\lib\\site-packages\\ipykernel_launcher.py:5: UserWarning: Update your `Dense` call to the Keras 2 API: `Dense(input_dim=784, units=498)`\n",
      "  \"\"\"\n",
      "\n",
      "C:\\Users\\And\\.conda\\envs\\proba\\lib\\site-packages\\ipykernel_launcher.py:9: UserWarning: Update your `Dense` call to the Keras 2 API: `Dense(units=888, kernel_initializer=\"glorot_uniform\")`\n",
      "  if __name__ == '__main__':\n",
      "\n",
      "C:\\Users\\And\\.conda\\envs\\proba\\lib\\site-packages\\ipykernel_launcher.py:14: UserWarning: Update your `Dense` call to the Keras 2 API: `Dense(units=327, kernel_initializer=\"glorot_uniform\")`\n",
      "  \n",
      "\n",
      "C:\\Users\\And\\.conda\\envs\\proba\\lib\\site-packages\\ipykernel_launcher.py:22: UserWarning: The `nb_epoch` argument in `fit` has been renamed `epochs`.\n",
      "\n"
     ]
    },
    {
     "name": "stdout",
     "output_type": "stream",
     "text": [
      "AUC:                                                                                                                   \n",
      "0.9950011664812761                                                                                                     \n",
      "Score:                                                                                                                 \n",
      "[0.060334748214341385, 0.9863551436501924]                                                                             \n",
      "Params:                                                                                                                \n",
      "{'activation': 'relu', 'batch_size': 190, 'choice': {'dropout3': 0.4024916480087144, 'layers': 'three', 'units3': 245}, 'dropout1': 0.5356584530334991, 'dropout2': 0.4193223232911415, 'nb_epochs': 100, 'optimizer': 'adadelta', 'units1': 600, 'units2': 962}\n",
      " 97%|█████████████████████████████████████████████▌ | 97/100 [1:34:13<03:24, 68.00s/it, best loss: -0.9960467140488285]"
     ]
    },
    {
     "name": "stderr",
     "output_type": "stream",
     "text": [
      "C:\\Users\\And\\.conda\\envs\\proba\\lib\\site-packages\\ipykernel_launcher.py:5: UserWarning: Update your `Dense` call to the Keras 2 API: `Dense(input_dim=784, units=600)`\n",
      "  \"\"\"\n",
      "\n",
      "C:\\Users\\And\\.conda\\envs\\proba\\lib\\site-packages\\ipykernel_launcher.py:9: UserWarning: Update your `Dense` call to the Keras 2 API: `Dense(units=962, kernel_initializer=\"glorot_uniform\")`\n",
      "  if __name__ == '__main__':\n",
      "\n",
      "C:\\Users\\And\\.conda\\envs\\proba\\lib\\site-packages\\ipykernel_launcher.py:14: UserWarning: Update your `Dense` call to the Keras 2 API: `Dense(units=245, kernel_initializer=\"glorot_uniform\")`\n",
      "  \n",
      "\n",
      "C:\\Users\\And\\.conda\\envs\\proba\\lib\\site-packages\\ipykernel_launcher.py:22: UserWarning: The `nb_epoch` argument in `fit` has been renamed `epochs`.\n",
      "\n"
     ]
    },
    {
     "name": "stdout",
     "output_type": "stream",
     "text": [
      "AUC:                                                                                                                   \n",
      "0.9843562691944567                                                                                                     \n",
      "Score:                                                                                                                 \n",
      "[0.07636530026917822, 0.9760747713463329]                                                                              \n",
      "Params:                                                                                                                \n",
      "{'activation': 'relu', 'batch_size': 146, 'choice': {'dropout3': 0.5067951381990292, 'layers': 'three', 'units3': 196}, 'dropout1': 0.5645600504598012, 'dropout2': 0.3564609063705403, 'nb_epochs': 100, 'optimizer': 'adam', 'units1': 870, 'units2': 532}\n",
      " 98%|██████████████████████████████████████████████ | 98/100 [1:35:22<02:16, 68.29s/it, best loss: -0.9960467140488285]"
     ]
    },
    {
     "name": "stderr",
     "output_type": "stream",
     "text": [
      "C:\\Users\\And\\.conda\\envs\\proba\\lib\\site-packages\\ipykernel_launcher.py:5: UserWarning: Update your `Dense` call to the Keras 2 API: `Dense(input_dim=784, units=870)`\n",
      "  \"\"\"\n",
      "\n",
      "C:\\Users\\And\\.conda\\envs\\proba\\lib\\site-packages\\ipykernel_launcher.py:9: UserWarning: Update your `Dense` call to the Keras 2 API: `Dense(units=532, kernel_initializer=\"glorot_uniform\")`\n",
      "  if __name__ == '__main__':\n",
      "\n",
      "C:\\Users\\And\\.conda\\envs\\proba\\lib\\site-packages\\ipykernel_launcher.py:14: UserWarning: Update your `Dense` call to the Keras 2 API: `Dense(units=196, kernel_initializer=\"glorot_uniform\")`\n",
      "  \n",
      "\n",
      "C:\\Users\\And\\.conda\\envs\\proba\\lib\\site-packages\\ipykernel_launcher.py:22: UserWarning: The `nb_epoch` argument in `fit` has been renamed `epochs`.\n",
      "\n"
     ]
    },
    {
     "name": "stdout",
     "output_type": "stream",
     "text": [
      "AUC:                                                                                                                   \n",
      "0.9956127225372381                                                                                                     \n",
      "Score:                                                                                                                 \n",
      "[0.05550326484408142, 0.9866755695623135]                                                                              \n",
      "Params:                                                                                                                \n",
      "{'activation': 'relu', 'batch_size': 185, 'choice': {'layers': 'two'}, 'dropout1': 0.6387262338332245, 'dropout2': 0.5681208407489512, 'nb_epochs': 100, 'optimizer': 'adam', 'units1': 626, 'units2': 646}\n",
      " 99%|██████████████████████████████████████████████▌| 99/100 [1:36:39<01:11, 71.07s/it, best loss: -0.9960467140488285]"
     ]
    },
    {
     "name": "stderr",
     "output_type": "stream",
     "text": [
      "C:\\Users\\And\\.conda\\envs\\proba\\lib\\site-packages\\ipykernel_launcher.py:5: UserWarning: Update your `Dense` call to the Keras 2 API: `Dense(input_dim=784, units=626)`\n",
      "  \"\"\"\n",
      "\n",
      "C:\\Users\\And\\.conda\\envs\\proba\\lib\\site-packages\\ipykernel_launcher.py:9: UserWarning: Update your `Dense` call to the Keras 2 API: `Dense(units=646, kernel_initializer=\"glorot_uniform\")`\n",
      "  if __name__ == '__main__':\n",
      "\n",
      "C:\\Users\\And\\.conda\\envs\\proba\\lib\\site-packages\\ipykernel_launcher.py:22: UserWarning: The `nb_epoch` argument in `fit` has been renamed `epochs`.\n",
      "\n"
     ]
    },
    {
     "name": "stdout",
     "output_type": "stream",
     "text": [
      "AUC:                                                                                                                   \n",
      "0.995284401662223                                                                                                      \n",
      "Score:                                                                                                                 \n",
      "[0.04844721587982839, 0.9863818480589679]                                                                              \n",
      "100%|██████████████████████████████████████████████| 100/100 [1:37:41<00:00, 68.11s/it, best loss: -0.9960467140488285]\n",
      "best: \n",
      "{'batch_size': 164.8875630005353, 'dropout1': 0.7341277311739184, 'dropout2': 0.40382383673725447, 'dropout3': 0.3463663478464305, 'num_layers': 1, 'optimizer': 1, 'units1': 888.5874958243104, 'units2': 978.3996468326723, 'units3': 630.2093083651171}\n"
     ]
    }
   ],
   "source": [
    "# запустим fmin(hyperopt) для определения наилучщих параметров\n",
    "trials=Trials()\n",
    "best = fmin(func_fit, space=params, algo=tpe.suggest, max_evals=100, trials=trials)\n",
    "print('best: ')\n",
    "print(best)"
   ]
  },
  {
   "cell_type": "code",
   "execution_count": 11,
   "metadata": {
    "scrolled": true
   },
   "outputs": [
    {
     "name": "stderr",
     "output_type": "stream",
     "text": [
      "C:\\Users\\And\\.conda\\envs\\proba\\lib\\site-packages\\ipykernel_launcher.py:3: UserWarning: Update your `Dense` call to the Keras 2 API: `Dense(input_dim=784, units=707)`\n",
      "  This is separate from the ipykernel package so we can avoid doing imports until\n",
      "C:\\Users\\And\\.conda\\envs\\proba\\lib\\site-packages\\ipykernel_launcher.py:7: UserWarning: Update your `Dense` call to the Keras 2 API: `Dense(units=594, kernel_initializer=\"glorot_uniform\")`\n",
      "  import sys\n",
      "C:\\Users\\And\\.conda\\envs\\proba\\lib\\site-packages\\ipykernel_launcher.py:12: UserWarning: Update your `Dense` call to the Keras 2 API: `Dense(units=971, kernel_initializer=\"glorot_uniform\")`\n",
      "  if sys.path[0] == '':\n",
      "C:\\Users\\And\\.conda\\envs\\proba\\lib\\site-packages\\ipykernel_launcher.py:20: UserWarning: The `nb_epoch` argument in `fit` has been renamed `epochs`.\n"
     ]
    },
    {
     "name": "stdout",
     "output_type": "stream",
     "text": [
      "Epoch 1/50\n",
      "11234/11234 [==============================] - ETA: 4:23 - loss: 0.3251 - acc: 0.900 - ETA: 39s - loss: 0.3250 - acc: 0.900 - ETA: 16s - loss: 0.3247 - acc: 0.90 - ETA: 9s - loss: 0.3243 - acc: 0.9000 - ETA: 5s - loss: 0.3233 - acc: 0.900 - ETA: 3s - loss: 0.3209 - acc: 0.900 - ETA: 1s - loss: 0.3166 - acc: 0.900 - ETA: 0s - loss: 0.3087 - acc: 0.900 - 7s 588us/step - loss: 0.3039 - acc: 0.9007\n",
      "Epoch 2/50\n",
      "11234/11234 [==============================] - ETA: 0s - loss: 0.2325 - acc: 0.908 - ETA: 0s - loss: 0.2147 - acc: 0.911 - ETA: 0s - loss: 0.2002 - acc: 0.917 - ETA: 0s - loss: 0.1914 - acc: 0.922 - ETA: 0s - loss: 0.1835 - acc: 0.925 - ETA: 0s - loss: 0.1763 - acc: 0.929 - ETA: 0s - loss: 0.1695 - acc: 0.933 - ETA: 0s - loss: 0.1640 - acc: 0.936 - 0s 42us/step - loss: 0.1633 - acc: 0.9366\n",
      "Epoch 3/50\n",
      "11234/11234 [==============================] - ETA: 0s - loss: 0.1364 - acc: 0.954 - ETA: 0s - loss: 0.1260 - acc: 0.953 - ETA: 0s - loss: 0.1255 - acc: 0.955 - ETA: 0s - loss: 0.1208 - acc: 0.957 - ETA: 0s - loss: 0.1187 - acc: 0.958 - ETA: 0s - loss: 0.1168 - acc: 0.959 - ETA: 0s - loss: 0.1148 - acc: 0.960 - ETA: 0s - loss: 0.1131 - acc: 0.961 - 0s 40us/step - loss: 0.1130 - acc: 0.9614\n",
      "Epoch 4/50\n",
      "11234/11234 [==============================] - ETA: 0s - loss: 0.1053 - acc: 0.967 - ETA: 0s - loss: 0.0986 - acc: 0.968 - ETA: 0s - loss: 0.0942 - acc: 0.969 - ETA: 0s - loss: 0.0951 - acc: 0.969 - ETA: 0s - loss: 0.0926 - acc: 0.970 - ETA: 0s - loss: 0.0905 - acc: 0.971 - ETA: 0s - loss: 0.0889 - acc: 0.971 - ETA: 0s - loss: 0.0876 - acc: 0.972 - 0s 40us/step - loss: 0.0879 - acc: 0.9722\n",
      "Epoch 5/50\n",
      "11234/11234 [==============================] - ETA: 0s - loss: 0.0761 - acc: 0.978 - ETA: 0s - loss: 0.0858 - acc: 0.973 - ETA: 0s - loss: 0.0842 - acc: 0.973 - ETA: 0s - loss: 0.0823 - acc: 0.974 - ETA: 0s - loss: 0.0804 - acc: 0.974 - ETA: 0s - loss: 0.0804 - acc: 0.974 - ETA: 0s - loss: 0.0804 - acc: 0.974 - ETA: 0s - loss: 0.0790 - acc: 0.975 - 0s 42us/step - loss: 0.0787 - acc: 0.9752\n",
      "Epoch 6/50\n",
      "11234/11234 [==============================] - ETA: 0s - loss: 0.0801 - acc: 0.978 - ETA: 0s - loss: 0.0751 - acc: 0.976 - ETA: 0s - loss: 0.0739 - acc: 0.976 - ETA: 0s - loss: 0.0725 - acc: 0.976 - ETA: 0s - loss: 0.0720 - acc: 0.976 - ETA: 0s - loss: 0.0709 - acc: 0.977 - ETA: 0s - loss: 0.0706 - acc: 0.977 - ETA: 0s - loss: 0.0704 - acc: 0.977 - 0s 42us/step - loss: 0.0704 - acc: 0.9774\n",
      "Epoch 7/50\n",
      "11234/11234 [==============================] - ETA: 0s - loss: 0.0694 - acc: 0.976 - ETA: 0s - loss: 0.0671 - acc: 0.977 - ETA: 0s - loss: 0.0669 - acc: 0.978 - ETA: 0s - loss: 0.0678 - acc: 0.978 - ETA: 0s - loss: 0.0677 - acc: 0.978 - ETA: 0s - loss: 0.0671 - acc: 0.978 - ETA: 0s - loss: 0.0668 - acc: 0.978 - ETA: 0s - loss: 0.0667 - acc: 0.978 - 0s 40us/step - loss: 0.0667 - acc: 0.9785\n",
      "Epoch 8/50\n",
      "11234/11234 [==============================] - ETA: 0s - loss: 0.0622 - acc: 0.981 - ETA: 0s - loss: 0.0623 - acc: 0.980 - ETA: 0s - loss: 0.0633 - acc: 0.980 - ETA: 0s - loss: 0.0638 - acc: 0.979 - ETA: 0s - loss: 0.0642 - acc: 0.979 - ETA: 0s - loss: 0.0644 - acc: 0.979 - ETA: 0s - loss: 0.0634 - acc: 0.979 - ETA: 0s - loss: 0.0642 - acc: 0.979 - 0s 40us/step - loss: 0.0642 - acc: 0.9793\n",
      "Epoch 9/50\n",
      "11234/11234 [==============================] - ETA: 0s - loss: 0.0627 - acc: 0.980 - ETA: 0s - loss: 0.0614 - acc: 0.980 - ETA: 0s - loss: 0.0597 - acc: 0.981 - ETA: 0s - loss: 0.0612 - acc: 0.980 - ETA: 0s - loss: 0.0618 - acc: 0.980 - ETA: 0s - loss: 0.0616 - acc: 0.980 - ETA: 0s - loss: 0.0611 - acc: 0.980 - ETA: 0s - loss: 0.0607 - acc: 0.980 - 0s 40us/step - loss: 0.0605 - acc: 0.9805\n",
      "Epoch 10/50\n",
      "11234/11234 [==============================] - ETA: 0s - loss: 0.0722 - acc: 0.978 - ETA: 0s - loss: 0.0585 - acc: 0.980 - ETA: 0s - loss: 0.0584 - acc: 0.980 - ETA: 0s - loss: 0.0593 - acc: 0.980 - ETA: 0s - loss: 0.0586 - acc: 0.981 - ETA: 0s - loss: 0.0581 - acc: 0.981 - ETA: 0s - loss: 0.0582 - acc: 0.981 - ETA: 0s - loss: 0.0581 - acc: 0.981 - 0s 42us/step - loss: 0.0585 - acc: 0.9813\n",
      "Epoch 11/50\n",
      "11234/11234 [==============================] - ETA: 0s - loss: 0.0581 - acc: 0.979 - ETA: 0s - loss: 0.0572 - acc: 0.981 - ETA: 0s - loss: 0.0572 - acc: 0.981 - ETA: 0s - loss: 0.0590 - acc: 0.981 - ETA: 0s - loss: 0.0591 - acc: 0.981 - ETA: 0s - loss: 0.0590 - acc: 0.981 - ETA: 0s - loss: 0.0574 - acc: 0.981 - ETA: 0s - loss: 0.0573 - acc: 0.981 - 0s 42us/step - loss: 0.0572 - acc: 0.9815\n",
      "Epoch 12/50\n",
      "11234/11234 [==============================] - ETA: 0s - loss: 0.0578 - acc: 0.983 - ETA: 0s - loss: 0.0576 - acc: 0.981 - ETA: 0s - loss: 0.0547 - acc: 0.982 - ETA: 0s - loss: 0.0546 - acc: 0.982 - ETA: 0s - loss: 0.0557 - acc: 0.982 - ETA: 0s - loss: 0.0551 - acc: 0.982 - ETA: 0s - loss: 0.0552 - acc: 0.982 - ETA: 0s - loss: 0.0544 - acc: 0.982 - 0s 40us/step - loss: 0.0544 - acc: 0.9824\n",
      "Epoch 13/50\n",
      "11234/11234 [==============================] - ETA: 0s - loss: 0.0587 - acc: 0.981 - ETA: 0s - loss: 0.0564 - acc: 0.983 - ETA: 0s - loss: 0.0548 - acc: 0.982 - ETA: 0s - loss: 0.0554 - acc: 0.982 - ETA: 0s - loss: 0.0546 - acc: 0.982 - ETA: 0s - loss: 0.0538 - acc: 0.982 - ETA: 0s - loss: 0.0531 - acc: 0.982 - ETA: 0s - loss: 0.0533 - acc: 0.982 - 0s 42us/step - loss: 0.0534 - acc: 0.9828\n",
      "Epoch 14/50\n",
      "11234/11234 [==============================] - ETA: 0s - loss: 0.0489 - acc: 0.984 - ETA: 0s - loss: 0.0507 - acc: 0.984 - ETA: 0s - loss: 0.0509 - acc: 0.984 - ETA: 0s - loss: 0.0501 - acc: 0.984 - ETA: 0s - loss: 0.0501 - acc: 0.984 - ETA: 0s - loss: 0.0513 - acc: 0.983 - ETA: 0s - loss: 0.0519 - acc: 0.983 - ETA: 0s - loss: 0.0518 - acc: 0.983 - 0s 40us/step - loss: 0.0516 - acc: 0.9835\n",
      "Epoch 15/50\n",
      "11234/11234 [==============================] - ETA: 0s - loss: 0.0498 - acc: 0.986 - ETA: 0s - loss: 0.0514 - acc: 0.984 - ETA: 0s - loss: 0.0510 - acc: 0.983 - ETA: 0s - loss: 0.0512 - acc: 0.983 - ETA: 0s - loss: 0.0518 - acc: 0.983 - ETA: 0s - loss: 0.0507 - acc: 0.983 - ETA: 0s - loss: 0.0509 - acc: 0.983 - ETA: 0s - loss: 0.0508 - acc: 0.983 - 0s 43us/step - loss: 0.0509 - acc: 0.9835\n",
      "Epoch 16/50\n",
      "11234/11234 [==============================] - ETA: 0s - loss: 0.0368 - acc: 0.988 - ETA: 0s - loss: 0.0472 - acc: 0.984 - ETA: 0s - loss: 0.0485 - acc: 0.984 - ETA: 0s - loss: 0.0487 - acc: 0.984 - ETA: 0s - loss: 0.0509 - acc: 0.983 - ETA: 0s - loss: 0.0508 - acc: 0.983 - ETA: 0s - loss: 0.0500 - acc: 0.983 - ETA: 0s - loss: 0.0494 - acc: 0.983 - 0s 42us/step - loss: 0.0494 - acc: 0.9837\n",
      "Epoch 17/50\n",
      "11234/11234 [==============================] - ETA: 0s - loss: 0.0404 - acc: 0.987 - ETA: 0s - loss: 0.0489 - acc: 0.984 - ETA: 0s - loss: 0.0490 - acc: 0.983 - ETA: 0s - loss: 0.0489 - acc: 0.984 - ETA: 0s - loss: 0.0484 - acc: 0.984 - ETA: 0s - loss: 0.0477 - acc: 0.984 - ETA: 0s - loss: 0.0480 - acc: 0.984 - ETA: 0s - loss: 0.0489 - acc: 0.984 - 0s 42us/step - loss: 0.0489 - acc: 0.9842\n",
      "Epoch 18/50\n",
      "11234/11234 [==============================] - ETA: 0s - loss: 0.0426 - acc: 0.985 - ETA: 0s - loss: 0.0464 - acc: 0.985 - ETA: 0s - loss: 0.0428 - acc: 0.986 - ETA: 0s - loss: 0.0436 - acc: 0.985 - ETA: 0s - loss: 0.0434 - acc: 0.986 - ETA: 0s - loss: 0.0448 - acc: 0.985 - ETA: 0s - loss: 0.0465 - acc: 0.985 - ETA: 0s - loss: 0.0474 - acc: 0.984 - 0s 40us/step - loss: 0.0475 - acc: 0.9846\n",
      "Epoch 19/50\n",
      "11234/11234 [==============================] - ETA: 0s - loss: 0.0420 - acc: 0.989 - ETA: 0s - loss: 0.0496 - acc: 0.983 - ETA: 0s - loss: 0.0509 - acc: 0.982 - ETA: 0s - loss: 0.0484 - acc: 0.983 - ETA: 0s - loss: 0.0478 - acc: 0.983 - ETA: 0s - loss: 0.0470 - acc: 0.984 - ETA: 0s - loss: 0.0465 - acc: 0.984 - ETA: 0s - loss: 0.0465 - acc: 0.984 - 0s 42us/step - loss: 0.0463 - acc: 0.9843\n",
      "Epoch 20/50\n",
      "11234/11234 [==============================] - ETA: 0s - loss: 0.0545 - acc: 0.982 - ETA: 0s - loss: 0.0471 - acc: 0.984 - ETA: 0s - loss: 0.0466 - acc: 0.984 - ETA: 0s - loss: 0.0476 - acc: 0.984 - ETA: 0s - loss: 0.0482 - acc: 0.983 - ETA: 0s - loss: 0.0479 - acc: 0.984 - ETA: 0s - loss: 0.0478 - acc: 0.984 - ETA: 0s - loss: 0.0474 - acc: 0.984 - 0s 40us/step - loss: 0.0474 - acc: 0.9843\n",
      "Epoch 21/50\n",
      "11234/11234 [==============================] - ETA: 0s - loss: 0.0544 - acc: 0.984 - ETA: 0s - loss: 0.0484 - acc: 0.984 - ETA: 0s - loss: 0.0454 - acc: 0.985 - ETA: 0s - loss: 0.0455 - acc: 0.985 - ETA: 0s - loss: 0.0449 - acc: 0.985 - ETA: 0s - loss: 0.0444 - acc: 0.985 - ETA: 0s - loss: 0.0448 - acc: 0.985 - ETA: 0s - loss: 0.0450 - acc: 0.985 - 0s 40us/step - loss: 0.0450 - acc: 0.9851\n",
      "Epoch 22/50\n",
      "11234/11234 [==============================] - ETA: 0s - loss: 0.0578 - acc: 0.979 - ETA: 0s - loss: 0.0473 - acc: 0.983 - ETA: 0s - loss: 0.0479 - acc: 0.983 - ETA: 0s - loss: 0.0462 - acc: 0.984 - ETA: 0s - loss: 0.0467 - acc: 0.984 - ETA: 0s - loss: 0.0460 - acc: 0.984 - ETA: 0s - loss: 0.0454 - acc: 0.984 - ETA: 0s - loss: 0.0452 - acc: 0.984 - 0s 43us/step - loss: 0.0452 - acc: 0.9845\n",
      "Epoch 23/50\n",
      "11234/11234 [==============================] - ETA: 0s - loss: 0.0434 - acc: 0.987 - ETA: 0s - loss: 0.0442 - acc: 0.985 - ETA: 0s - loss: 0.0432 - acc: 0.985 - ETA: 0s - loss: 0.0443 - acc: 0.984 - ETA: 0s - loss: 0.0457 - acc: 0.984 - ETA: 0s - loss: 0.0461 - acc: 0.984 - ETA: 0s - loss: 0.0453 - acc: 0.984 - ETA: 0s - loss: 0.0446 - acc: 0.984 - 0s 42us/step - loss: 0.0446 - acc: 0.9849\n",
      "Epoch 24/50\n",
      "11234/11234 [==============================] - ETA: 0s - loss: 0.0515 - acc: 0.983 - ETA: 0s - loss: 0.0477 - acc: 0.983 - ETA: 0s - loss: 0.0486 - acc: 0.983 - ETA: 0s - loss: 0.0465 - acc: 0.984 - ETA: 0s - loss: 0.0458 - acc: 0.984 - ETA: 0s - loss: 0.0453 - acc: 0.984 - ETA: 0s - loss: 0.0445 - acc: 0.985 - ETA: 0s - loss: 0.0452 - acc: 0.985 - 0s 42us/step - loss: 0.0452 - acc: 0.9850\n",
      "Epoch 25/50\n",
      "11234/11234 [==============================] - ETA: 0s - loss: 0.0447 - acc: 0.987 - ETA: 0s - loss: 0.0426 - acc: 0.985 - ETA: 0s - loss: 0.0415 - acc: 0.986 - ETA: 0s - loss: 0.0412 - acc: 0.986 - ETA: 0s - loss: 0.0416 - acc: 0.985 - ETA: 0s - loss: 0.0415 - acc: 0.986 - ETA: 0s - loss: 0.0417 - acc: 0.985 - 0s 40us/step - loss: 0.0416 - acc: 0.9859\n",
      "Epoch 26/50\n",
      "11234/11234 [==============================] - ETA: 0s - loss: 0.0325 - acc: 0.987 - ETA: 0s - loss: 0.0410 - acc: 0.986 - ETA: 0s - loss: 0.0410 - acc: 0.986 - ETA: 0s - loss: 0.0401 - acc: 0.986 - ETA: 0s - loss: 0.0401 - acc: 0.986 - ETA: 0s - loss: 0.0403 - acc: 0.986 - ETA: 0s - loss: 0.0406 - acc: 0.986 - ETA: 0s - loss: 0.0411 - acc: 0.986 - 0s 42us/step - loss: 0.0411 - acc: 0.9863\n",
      "Epoch 27/50\n",
      "11234/11234 [==============================] - ETA: 0s - loss: 0.0393 - acc: 0.985 - ETA: 0s - loss: 0.0408 - acc: 0.985 - ETA: 0s - loss: 0.0450 - acc: 0.984 - ETA: 0s - loss: 0.0440 - acc: 0.985 - ETA: 0s - loss: 0.0436 - acc: 0.985 - ETA: 0s - loss: 0.0426 - acc: 0.985 - ETA: 0s - loss: 0.0421 - acc: 0.986 - ETA: 0s - loss: 0.0424 - acc: 0.985 - 0s 40us/step - loss: 0.0422 - acc: 0.9859\n",
      "Epoch 28/50\n",
      "11234/11234 [==============================] - ETA: 0s - loss: 0.0430 - acc: 0.987 - ETA: 0s - loss: 0.0410 - acc: 0.987 - ETA: 0s - loss: 0.0418 - acc: 0.986 - ETA: 0s - loss: 0.0419 - acc: 0.986 - ETA: 0s - loss: 0.0408 - acc: 0.986 - ETA: 0s - loss: 0.0410 - acc: 0.986 - ETA: 0s - loss: 0.0405 - acc: 0.986 - ETA: 0s - loss: 0.0400 - acc: 0.986 - 0s 40us/step - loss: 0.0398 - acc: 0.9866\n",
      "Epoch 29/50\n",
      "11234/11234 [==============================] - ETA: 0s - loss: 0.0358 - acc: 0.987 - ETA: 0s - loss: 0.0377 - acc: 0.987 - ETA: 0s - loss: 0.0400 - acc: 0.986 - ETA: 0s - loss: 0.0382 - acc: 0.986 - ETA: 0s - loss: 0.0383 - acc: 0.986 - ETA: 0s - loss: 0.0386 - acc: 0.986 - ETA: 0s - loss: 0.0377 - acc: 0.987 - ETA: 0s - loss: 0.0384 - acc: 0.986 - 0s 40us/step - loss: 0.0383 - acc: 0.9869\n",
      "Epoch 30/50\n",
      "11234/11234 [==============================] - ETA: 0s - loss: 0.0392 - acc: 0.986 - ETA: 0s - loss: 0.0399 - acc: 0.987 - ETA: 0s - loss: 0.0372 - acc: 0.988 - ETA: 0s - loss: 0.0382 - acc: 0.987 - ETA: 0s - loss: 0.0386 - acc: 0.987 - ETA: 0s - loss: 0.0398 - acc: 0.986 - ETA: 0s - loss: 0.0392 - acc: 0.986 - ETA: 0s - loss: 0.0392 - acc: 0.987 - 0s 42us/step - loss: 0.0392 - acc: 0.9870\n",
      "Epoch 31/50\n",
      "11234/11234 [==============================] - ETA: 0s - loss: 0.0425 - acc: 0.988 - ETA: 0s - loss: 0.0423 - acc: 0.986 - ETA: 0s - loss: 0.0417 - acc: 0.986 - ETA: 0s - loss: 0.0410 - acc: 0.986 - ETA: 0s - loss: 0.0392 - acc: 0.986 - ETA: 0s - loss: 0.0400 - acc: 0.986 - ETA: 0s - loss: 0.0398 - acc: 0.986 - ETA: 0s - loss: 0.0398 - acc: 0.986 - 0s 42us/step - loss: 0.0398 - acc: 0.9864\n",
      "Epoch 32/50\n",
      "11234/11234 [==============================] - ETA: 0s - loss: 0.0524 - acc: 0.984 - ETA: 0s - loss: 0.0417 - acc: 0.986 - ETA: 0s - loss: 0.0400 - acc: 0.986 - ETA: 0s - loss: 0.0389 - acc: 0.987 - ETA: 0s - loss: 0.0379 - acc: 0.987 - ETA: 0s - loss: 0.0381 - acc: 0.987 - ETA: 0s - loss: 0.0380 - acc: 0.987 - ETA: 0s - loss: 0.0384 - acc: 0.987 - 0s 42us/step - loss: 0.0380 - acc: 0.9874\n",
      "Epoch 33/50\n",
      "11234/11234 [==============================] - ETA: 0s - loss: 0.0455 - acc: 0.985 - ETA: 0s - loss: 0.0376 - acc: 0.986 - ETA: 0s - loss: 0.0386 - acc: 0.986 - ETA: 0s - loss: 0.0390 - acc: 0.986 - ETA: 0s - loss: 0.0378 - acc: 0.987 - ETA: 0s - loss: 0.0374 - acc: 0.987 - ETA: 0s - loss: 0.0378 - acc: 0.987 - ETA: 0s - loss: 0.0380 - acc: 0.987 - 0s 43us/step - loss: 0.0384 - acc: 0.9869\n",
      "Epoch 34/50\n",
      "11234/11234 [==============================] - ETA: 0s - loss: 0.0327 - acc: 0.987 - ETA: 0s - loss: 0.0385 - acc: 0.987 - ETA: 0s - loss: 0.0385 - acc: 0.986 - ETA: 0s - loss: 0.0388 - acc: 0.986 - ETA: 0s - loss: 0.0395 - acc: 0.986 - ETA: 0s - loss: 0.0385 - acc: 0.987 - ETA: 0s - loss: 0.0384 - acc: 0.987 - ETA: 0s - loss: 0.0382 - acc: 0.987 - 0s 42us/step - loss: 0.0381 - acc: 0.9873\n",
      "Epoch 35/50\n",
      "11234/11234 [==============================] - ETA: 0s - loss: 0.0225 - acc: 0.992 - ETA: 0s - loss: 0.0359 - acc: 0.987 - ETA: 0s - loss: 0.0381 - acc: 0.987 - ETA: 0s - loss: 0.0385 - acc: 0.987 - ETA: 0s - loss: 0.0378 - acc: 0.987 - ETA: 0s - loss: 0.0374 - acc: 0.987 - ETA: 0s - loss: 0.0379 - acc: 0.987 - ETA: 0s - loss: 0.0373 - acc: 0.987 - 0s 42us/step - loss: 0.0374 - acc: 0.9874\n",
      "Epoch 36/50\n",
      "11234/11234 [==============================] - ETA: 0s - loss: 0.0569 - acc: 0.982 - ETA: 0s - loss: 0.0353 - acc: 0.988 - ETA: 0s - loss: 0.0375 - acc: 0.987 - ETA: 0s - loss: 0.0370 - acc: 0.987 - ETA: 0s - loss: 0.0361 - acc: 0.987 - ETA: 0s - loss: 0.0353 - acc: 0.988 - ETA: 0s - loss: 0.0358 - acc: 0.987 - ETA: 0s - loss: 0.0370 - acc: 0.987 - 0s 42us/step - loss: 0.0369 - acc: 0.9877\n",
      "Epoch 37/50\n",
      "11234/11234 [==============================] - ETA: 0s - loss: 0.0348 - acc: 0.988 - ETA: 0s - loss: 0.0342 - acc: 0.989 - ETA: 0s - loss: 0.0353 - acc: 0.988 - ETA: 0s - loss: 0.0344 - acc: 0.988 - ETA: 0s - loss: 0.0355 - acc: 0.987 - ETA: 0s - loss: 0.0356 - acc: 0.987 - ETA: 0s - loss: 0.0352 - acc: 0.988 - ETA: 0s - loss: 0.0365 - acc: 0.987 - 0s 42us/step - loss: 0.0363 - acc: 0.9878\n",
      "Epoch 38/50\n",
      "11234/11234 [==============================] - ETA: 0s - loss: 0.0308 - acc: 0.988 - ETA: 0s - loss: 0.0366 - acc: 0.986 - ETA: 0s - loss: 0.0355 - acc: 0.987 - ETA: 0s - loss: 0.0363 - acc: 0.987 - ETA: 0s - loss: 0.0362 - acc: 0.988 - ETA: 0s - loss: 0.0358 - acc: 0.988 - ETA: 0s - loss: 0.0361 - acc: 0.988 - ETA: 0s - loss: 0.0360 - acc: 0.988 - 0s 43us/step - loss: 0.0357 - acc: 0.9885\n",
      "Epoch 39/50\n",
      "11234/11234 [==============================] - ETA: 0s - loss: 0.0394 - acc: 0.987 - ETA: 0s - loss: 0.0355 - acc: 0.988 - ETA: 0s - loss: 0.0328 - acc: 0.989 - ETA: 0s - loss: 0.0328 - acc: 0.989 - ETA: 0s - loss: 0.0343 - acc: 0.988 - ETA: 0s - loss: 0.0350 - acc: 0.988 - ETA: 0s - loss: 0.0352 - acc: 0.988 - ETA: 0s - loss: 0.0348 - acc: 0.988 - 0s 42us/step - loss: 0.0348 - acc: 0.9884\n",
      "Epoch 40/50\n",
      "11234/11234 [==============================] - ETA: 0s - loss: 0.0337 - acc: 0.988 - ETA: 0s - loss: 0.0364 - acc: 0.987 - ETA: 0s - loss: 0.0361 - acc: 0.987 - ETA: 0s - loss: 0.0350 - acc: 0.988 - ETA: 0s - loss: 0.0356 - acc: 0.988 - ETA: 0s - loss: 0.0352 - acc: 0.988 - ETA: 0s - loss: 0.0352 - acc: 0.988 - ETA: 0s - loss: 0.0349 - acc: 0.988 - 0s 40us/step - loss: 0.0350 - acc: 0.9883\n",
      "Epoch 41/50\n"
     ]
    },
    {
     "name": "stdout",
     "output_type": "stream",
     "text": [
      "11234/11234 [==============================] - ETA: 0s - loss: 0.0360 - acc: 0.988 - ETA: 0s - loss: 0.0350 - acc: 0.987 - ETA: 0s - loss: 0.0330 - acc: 0.988 - ETA: 0s - loss: 0.0332 - acc: 0.989 - ETA: 0s - loss: 0.0346 - acc: 0.988 - ETA: 0s - loss: 0.0344 - acc: 0.988 - ETA: 0s - loss: 0.0351 - acc: 0.988 - ETA: 0s - loss: 0.0349 - acc: 0.988 - 0s 40us/step - loss: 0.0348 - acc: 0.9885\n",
      "Epoch 42/50\n",
      "11234/11234 [==============================] - ETA: 0s - loss: 0.0324 - acc: 0.989 - ETA: 0s - loss: 0.0372 - acc: 0.987 - ETA: 0s - loss: 0.0377 - acc: 0.987 - ETA: 0s - loss: 0.0377 - acc: 0.987 - ETA: 0s - loss: 0.0365 - acc: 0.987 - ETA: 0s - loss: 0.0349 - acc: 0.988 - ETA: 0s - loss: 0.0355 - acc: 0.988 - ETA: 0s - loss: 0.0353 - acc: 0.988 - 0s 42us/step - loss: 0.0353 - acc: 0.9883\n",
      "Epoch 43/50\n",
      "11234/11234 [==============================] - ETA: 0s - loss: 0.0314 - acc: 0.989 - ETA: 0s - loss: 0.0326 - acc: 0.988 - ETA: 0s - loss: 0.0340 - acc: 0.987 - ETA: 0s - loss: 0.0342 - acc: 0.987 - ETA: 0s - loss: 0.0337 - acc: 0.988 - ETA: 0s - loss: 0.0337 - acc: 0.988 - ETA: 0s - loss: 0.0336 - acc: 0.988 - ETA: 0s - loss: 0.0343 - acc: 0.988 - 0s 43us/step - loss: 0.0343 - acc: 0.9882\n",
      "Epoch 44/50\n",
      "11234/11234 [==============================] - ETA: 0s - loss: 0.0335 - acc: 0.988 - ETA: 0s - loss: 0.0326 - acc: 0.989 - ETA: 0s - loss: 0.0326 - acc: 0.989 - ETA: 0s - loss: 0.0323 - acc: 0.989 - ETA: 0s - loss: 0.0346 - acc: 0.988 - ETA: 0s - loss: 0.0352 - acc: 0.987 - ETA: 0s - loss: 0.0347 - acc: 0.988 - ETA: 0s - loss: 0.0348 - acc: 0.988 - 0s 40us/step - loss: 0.0348 - acc: 0.9881\n",
      "Epoch 45/50\n",
      "11234/11234 [==============================] - ETA: 0s - loss: 0.0244 - acc: 0.992 - ETA: 0s - loss: 0.0322 - acc: 0.989 - ETA: 0s - loss: 0.0327 - acc: 0.989 - ETA: 0s - loss: 0.0330 - acc: 0.989 - ETA: 0s - loss: 0.0333 - acc: 0.989 - ETA: 0s - loss: 0.0333 - acc: 0.989 - ETA: 0s - loss: 0.0337 - acc: 0.988 - ETA: 0s - loss: 0.0330 - acc: 0.989 - 0s 40us/step - loss: 0.0329 - acc: 0.9890\n",
      "Epoch 46/50\n",
      "11234/11234 [==============================] - ETA: 0s - loss: 0.0436 - acc: 0.983 - ETA: 0s - loss: 0.0360 - acc: 0.988 - ETA: 0s - loss: 0.0345 - acc: 0.988 - ETA: 0s - loss: 0.0338 - acc: 0.988 - ETA: 0s - loss: 0.0330 - acc: 0.988 - ETA: 0s - loss: 0.0329 - acc: 0.988 - ETA: 0s - loss: 0.0330 - acc: 0.988 - ETA: 0s - loss: 0.0330 - acc: 0.988 - 0s 40us/step - loss: 0.0328 - acc: 0.9888\n",
      "Epoch 47/50\n",
      "11234/11234 [==============================] - ETA: 0s - loss: 0.0376 - acc: 0.986 - ETA: 0s - loss: 0.0358 - acc: 0.987 - ETA: 0s - loss: 0.0348 - acc: 0.988 - ETA: 0s - loss: 0.0361 - acc: 0.987 - ETA: 0s - loss: 0.0343 - acc: 0.988 - ETA: 0s - loss: 0.0337 - acc: 0.988 - ETA: 0s - loss: 0.0336 - acc: 0.988 - ETA: 0s - loss: 0.0333 - acc: 0.989 - 0s 42us/step - loss: 0.0332 - acc: 0.9890\n",
      "Epoch 48/50\n",
      "11234/11234 [==============================] - ETA: 0s - loss: 0.0281 - acc: 0.989 - ETA: 0s - loss: 0.0333 - acc: 0.988 - ETA: 0s - loss: 0.0327 - acc: 0.989 - ETA: 0s - loss: 0.0317 - acc: 0.989 - ETA: 0s - loss: 0.0311 - acc: 0.989 - ETA: 0s - loss: 0.0312 - acc: 0.989 - ETA: 0s - loss: 0.0311 - acc: 0.989 - ETA: 0s - loss: 0.0315 - acc: 0.989 - 0s 42us/step - loss: 0.0315 - acc: 0.9893\n",
      "Epoch 49/50\n",
      "11234/11234 [==============================] - ETA: 0s - loss: 0.0270 - acc: 0.992 - ETA: 0s - loss: 0.0340 - acc: 0.988 - ETA: 0s - loss: 0.0326 - acc: 0.989 - ETA: 0s - loss: 0.0318 - acc: 0.989 - ETA: 0s - loss: 0.0325 - acc: 0.988 - ETA: 0s - loss: 0.0320 - acc: 0.989 - ETA: 0s - loss: 0.0314 - acc: 0.989 - ETA: 0s - loss: 0.0313 - acc: 0.989 - 0s 42us/step - loss: 0.0313 - acc: 0.9894\n",
      "Epoch 50/50\n",
      "11234/11234 [==============================] - ETA: 0s - loss: 0.0271 - acc: 0.992 - ETA: 0s - loss: 0.0286 - acc: 0.990 - ETA: 0s - loss: 0.0299 - acc: 0.990 - ETA: 0s - loss: 0.0297 - acc: 0.990 - ETA: 0s - loss: 0.0302 - acc: 0.989 - ETA: 0s - loss: 0.0304 - acc: 0.989 - ETA: 0s - loss: 0.0313 - acc: 0.989 - ETA: 0s - loss: 0.0305 - acc: 0.989 - 0s 42us/step - loss: 0.0304 - acc: 0.9897\n",
      "AUC: 0.9954727056515772\n",
      "Score:  [0.0436451238685972, 0.9855807753844319]\n"
     ]
    }
   ],
   "source": [
    "# обучим модель с подобранными параметрами и приверим на тестовых данных\n",
    "model = Sequential()\n",
    "model.add(Dense(output_dim=707, input_dim = int(28*28))) \n",
    "model.add(Activation('relu'))\n",
    "model.add(Dropout(.59))\n",
    "\n",
    "model.add(Dense(output_dim=594, init = \"glorot_uniform\")) \n",
    "model.add(Activation('relu'))\n",
    "model.add(Dropout(.49))\n",
    "\n",
    "\n",
    "model.add(Dense(output_dim=971, init = \"glorot_uniform\")) \n",
    "model.add(Activation('relu'))\n",
    "model.add(Dropout(.6))    \n",
    "\n",
    "model.add(Dense(10))\n",
    "model.add(Activation('softmax'))\n",
    "model.compile(loss='binary_crossentropy', optimizer='adam', metrics=[\"accuracy\"])\n",
    "\n",
    "history = model.fit(X_train, Y_train, nb_epoch=50, batch_size=255, verbose = 1)\n",
    "\n",
    "\n",
    "pred_auc =model.predict_proba(X_test, batch_size =255, verbose = 0)\n",
    "acc = roc_auc_score(Y_test, pred_auc)\n",
    "score = model.evaluate(X_test, Y_test, verbose=0)\n",
    "print('AUC:', acc)\n",
    "print('Score: ', score)"
   ]
  },
  {
   "cell_type": "markdown",
   "metadata": {},
   "source": [
    "#### 3. Вывод:\n",
    "        Построил и обучил модель нейронной сети. Использовал hyperopt для подбора параметров. В итоге построил нейронную сеть с двумя скрытыми слоями Dense. Получилась неплохая модель со score: 0.9856, roc_auc: 0.9955."
   ]
  },
  {
   "cell_type": "code",
   "execution_count": null,
   "metadata": {},
   "outputs": [],
   "source": []
  }
 ],
 "metadata": {
  "kernelspec": {
   "display_name": "Python 3",
   "language": "python",
   "name": "python3"
  },
  "language_info": {
   "codemirror_mode": {
    "name": "ipython",
    "version": 3
   },
   "file_extension": ".py",
   "mimetype": "text/x-python",
   "name": "python",
   "nbconvert_exporter": "python",
   "pygments_lexer": "ipython3",
   "version": "3.8.5"
  }
 },
 "nbformat": 4,
 "nbformat_minor": 2
}
